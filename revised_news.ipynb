{
 "cells": [
  {
   "cell_type": "markdown",
   "metadata": {
    "colab_type": "text",
    "id": "view-in-github"
   },
   "source": [
    "<a href=\"https://colab.research.google.com/github/ykim879/whats.todays.trend/blob/master/revised_news.ipynb\" target=\"_parent\"><img src=\"https://colab.research.google.com/assets/colab-badge.svg\" alt=\"Open In Colab\"/></a>"
   ]
  },
  {
   "cell_type": "code",
   "execution_count": 1,
   "metadata": {
    "id": "bnx9G1CsJb4x"
   },
   "outputs": [],
   "source": [
    "import queue\n",
    "import threading\n",
    "def eachNewsHeadlines(ID, q):\n",
    "\tresponse = requests.get('https://newsapi.org/v2/top-headlines?sources=' + ID + '&apiKey=' + key)\n",
    "\tjson = response.json()\n",
    "\tif json['status'] != 'ok':\n",
    "\t\traise IOError('API key is probably overused :(')\n",
    "\ttopNews = []\n",
    "\ttopNews.append(ID)\n",
    "\tfor elem in json['articles']:\n",
    "\t\ttopNews.append(elem['title'])\n",
    "\tq.put(topNews)"
   ]
  },
  {
   "cell_type": "code",
   "execution_count": 2,
   "metadata": {
    "colab": {
     "base_uri": "https://localhost:8080/",
     "height": 1000
    },
    "id": "Mcsm2sdtIlwS",
    "outputId": "5d5537ec-3342-43e5-e67e-ea18db85f414"
   },
   "outputs": [],
   "source": [
    "import requests\n",
    "import pandas as pd\n",
    "key = '5e74c7cf9e344e3e8c04210f9b75125b'\n",
    "response = requests.get('https://newsapi.org/v2/sources?'\n",
    "\t\t\t   'language=en&country=us&'\n",
    "\t\t\t   'apiKey=' + key)\n",
    "sources = response.json()['sources']\n",
    "df = pd.DataFrame();\n",
    "pd.set_option('display.max_columns', 7)\n",
    "for source in sources:\n",
    "  row = pd.Series(source)\n",
    "  df = df.append(row, ignore_index = True)\n",
    "df.set_index(\"name\", inplace = True)\n",
    "#collects headline\n",
    "threads = []\n",
    "q = queue.Queue()\n",
    "for id in df['id']:\n",
    "  t = threading.Thread(target = eachNewsHeadlines, args = (id, q))\n",
    "  threads.append(t)\n",
    "  t.start()\n",
    "for t in threads:\n",
    "  t.join()\n",
    "headlines = []\n",
    "while not q.empty():\n",
    "  headlines.extend(q.get())"
   ]
  },
  {
   "cell_type": "code",
   "execution_count": 3,
   "metadata": {
    "colab": {
     "base_uri": "https://localhost:8080/",
     "height": 482
    },
    "id": "eKe1daeVJuS7",
    "outputId": "9460eb3b-1bbe-4682-8ce3-ae485b9f2082"
   },
   "outputs": [
    {
     "name": "stdout",
     "output_type": "stream",
     "text": [
      "  keywords  counts\n",
      "0    world      61\n",
      "1      won      60\n",
      "2    women      59\n",
      "3     wins      58\n",
      "4      win      57\n",
      "5    white      56\n",
      "6    watch      55\n",
      "7    votes      54\n",
      "8     vote      53\n",
      "9    video      52\n"
     ]
    },
    {
     "data": {
      "image/png": "[encoded data removed]",
      "text/plain": [
       "<Figure size 1440x360 with 1 Axes>"
      ]
     },
     "metadata": {
      "needs_background": "light"
     },
     "output_type": "display_data"
    }
   ],
   "source": [
    "from sklearn.feature_extraction import text\n",
    "import matplotlib.pyplot as plt\n",
    "from datetime import date\n",
    "\n",
    "today = date.today()\n",
    "d1 = today.strftime(\"%m/%d/%Y\")\n",
    "stop_words = text.ENGLISH_STOP_WORDS.union({'says','news','new'})\n",
    "vectorizer1 = text.CountVectorizer(stop_words=stop_words, min_df= 6)\n",
    "vectorizer2 = text.CountVectorizer(stop_words=stop_words, min_df = 10)\n",
    "X = vectorizer1.fit_transform(headlines)\n",
    "keywordDCT = sorted(vectorizer1.vocabulary_.items(), key = lambda x:x[1], reverse = True)\n",
    "keywordDF = pd.DataFrame(keywordDCT, columns = ['keywords', 'counts'])\n",
    "print(keywordDF[:10])\n",
    "plt.figure(figsize=(20,5))\n",
    "plt.bar(keywordDF['keywords'][:10], keywordDF['counts'][:10])\n",
    "plt.title('Top 10 Trends in News: ' + d1)\n",
    "plt.ylabel('# of Occurances in Headlines')\n",
    "plt.xlabel('Trends')\n",
    "plt.show()"
   ]
  },
  {
   "cell_type": "code",
   "execution_count": 4,
   "metadata": {},
   "outputs": [
    {
     "data": {
      "text/html": [
       "<div>\n",
       "<style scoped>\n",
       "    .dataframe tbody tr th:only-of-type {\n",
       "        vertical-align: middle;\n",
       "    }\n",
       "\n",
       "    .dataframe tbody tr th {\n",
       "        vertical-align: top;\n",
       "    }\n",
       "\n",
       "    .dataframe thead th {\n",
       "        text-align: right;\n",
       "    }\n",
       "</style>\n",
       "<table border=\"1\" class=\"dataframe\">\n",
       "  <thead>\n",
       "    <tr style=\"text-align: right;\">\n",
       "      <th></th>\n",
       "      <th>keywords</th>\n",
       "      <th>counts</th>\n",
       "    </tr>\n",
       "  </thead>\n",
       "  <tbody>\n",
       "    <tr>\n",
       "      <th>0</th>\n",
       "      <td>world</td>\n",
       "      <td>61</td>\n",
       "    </tr>\n",
       "    <tr>\n",
       "      <th>1</th>\n",
       "      <td>won</td>\n",
       "      <td>60</td>\n",
       "    </tr>\n",
       "    <tr>\n",
       "      <th>2</th>\n",
       "      <td>women</td>\n",
       "      <td>59</td>\n",
       "    </tr>\n",
       "    <tr>\n",
       "      <th>3</th>\n",
       "      <td>wins</td>\n",
       "      <td>58</td>\n",
       "    </tr>\n",
       "    <tr>\n",
       "      <th>4</th>\n",
       "      <td>win</td>\n",
       "      <td>57</td>\n",
       "    </tr>\n",
       "    <tr>\n",
       "      <th>...</th>\n",
       "      <td>...</td>\n",
       "      <td>...</td>\n",
       "    </tr>\n",
       "    <tr>\n",
       "      <th>57</th>\n",
       "      <td>apple</td>\n",
       "      <td>4</td>\n",
       "    </tr>\n",
       "    <tr>\n",
       "      <th>58</th>\n",
       "      <td>america</td>\n",
       "      <td>3</td>\n",
       "    </tr>\n",
       "    <tr>\n",
       "      <th>59</th>\n",
       "      <td>2021</td>\n",
       "      <td>2</td>\n",
       "    </tr>\n",
       "    <tr>\n",
       "      <th>60</th>\n",
       "      <td>2020</td>\n",
       "      <td>1</td>\n",
       "    </tr>\n",
       "    <tr>\n",
       "      <th>61</th>\n",
       "      <td>19</td>\n",
       "      <td>0</td>\n",
       "    </tr>\n",
       "  </tbody>\n",
       "</table>\n",
       "<p>62 rows × 2 columns</p>\n",
       "</div>"
      ],
      "text/plain": [
       "   keywords  counts\n",
       "0     world      61\n",
       "1       won      60\n",
       "2     women      59\n",
       "3      wins      58\n",
       "4       win      57\n",
       "..      ...     ...\n",
       "57    apple       4\n",
       "58  america       3\n",
       "59     2021       2\n",
       "60     2020       1\n",
       "61       19       0\n",
       "\n",
       "[62 rows x 2 columns]"
      ]
     },
     "execution_count": 4,
     "metadata": {},
     "output_type": "execute_result"
    }
   ],
   "source": [
    "keywordDF"
   ]
  },
  {
   "cell_type": "markdown",
   "metadata": {},
   "source": [
    "# Data for csv label\n",
    "1. import the Data\n",
    "2. change Category to integer values which are 0 to 4\n",
    "3. split the data to prediction set and test set"
   ]
  },
  {
   "cell_type": "code",
   "execution_count": 5,
   "metadata": {},
   "outputs": [
    {
     "name": "stdout",
     "output_type": "stream",
     "text": [
      "The original files: Total: 1489 documents with 5 categories\n",
      "      ArticleId                                               Text  \\\n",
      "0          1833  worldcom ex-boss launches defence lawyers defe...   \n",
      "1           154  german business confidence slides german busin...   \n",
      "2          1101  bbc poll indicates economic gloom citizens in ...   \n",
      "3          1976  lifestyle  governs mobile choice  faster  bett...   \n",
      "4           917  enron bosses in $168m payout eighteen former e...   \n",
      "...         ...                                                ...   \n",
      "1485        857  double eviction from big brother model caprice...   \n",
      "1486        325  dj double act revamp chart show dj duo jk and ...   \n",
      "1487       1590  weak dollar hits reuters revenues at media gro...   \n",
      "1488       1587  apple ipod family expands market apple has exp...   \n",
      "1489        538  santy worm makes unwelcome visit thousands of ...   \n",
      "\n",
      "           Category  \n",
      "0          business  \n",
      "1          business  \n",
      "2          business  \n",
      "3              tech  \n",
      "4          business  \n",
      "...             ...  \n",
      "1485  entertainment  \n",
      "1486  entertainment  \n",
      "1487       business  \n",
      "1488           tech  \n",
      "1489           tech  \n",
      "\n",
      "[1490 rows x 3 columns]\n"
     ]
    }
   ],
   "source": [
    "import pandas as pd\n",
    "from sklearn.naive_bayes import GaussianNB\n",
    "from sklearn.feature_extraction import text\n",
    "import matplotlib.pyplot as plt\n",
    "stop_words = text.ENGLISH_STOP_WORDS\n",
    "data = pd.read_csv('BBC News Train.csv')\n",
    "print(\"The original files: Total: 1489 documents with 5 categories\")\n",
    "print(data)"
   ]
  },
  {
   "cell_type": "code",
   "execution_count": 6,
   "metadata": {},
   "outputs": [
    {
     "data": {
      "text/html": [
       "<div>\n",
       "<style scoped>\n",
       "    .dataframe tbody tr th:only-of-type {\n",
       "        vertical-align: middle;\n",
       "    }\n",
       "\n",
       "    .dataframe tbody tr th {\n",
       "        vertical-align: top;\n",
       "    }\n",
       "\n",
       "    .dataframe thead th {\n",
       "        text-align: right;\n",
       "    }\n",
       "</style>\n",
       "<table border=\"1\" class=\"dataframe\">\n",
       "  <thead>\n",
       "    <tr style=\"text-align: right;\">\n",
       "      <th></th>\n",
       "      <th>ArticleId</th>\n",
       "      <th>Text</th>\n",
       "      <th>Category</th>\n",
       "    </tr>\n",
       "  </thead>\n",
       "  <tbody>\n",
       "    <tr>\n",
       "      <th>0</th>\n",
       "      <td>1833</td>\n",
       "      <td>worldcom ex-boss launches defence lawyers defe...</td>\n",
       "      <td>0</td>\n",
       "    </tr>\n",
       "    <tr>\n",
       "      <th>1</th>\n",
       "      <td>154</td>\n",
       "      <td>german business confidence slides german busin...</td>\n",
       "      <td>0</td>\n",
       "    </tr>\n",
       "    <tr>\n",
       "      <th>2</th>\n",
       "      <td>1101</td>\n",
       "      <td>bbc poll indicates economic gloom citizens in ...</td>\n",
       "      <td>0</td>\n",
       "    </tr>\n",
       "    <tr>\n",
       "      <th>3</th>\n",
       "      <td>1976</td>\n",
       "      <td>lifestyle  governs mobile choice  faster  bett...</td>\n",
       "      <td>4</td>\n",
       "    </tr>\n",
       "    <tr>\n",
       "      <th>4</th>\n",
       "      <td>917</td>\n",
       "      <td>enron bosses in $168m payout eighteen former e...</td>\n",
       "      <td>0</td>\n",
       "    </tr>\n",
       "    <tr>\n",
       "      <th>...</th>\n",
       "      <td>...</td>\n",
       "      <td>...</td>\n",
       "      <td>...</td>\n",
       "    </tr>\n",
       "    <tr>\n",
       "      <th>1485</th>\n",
       "      <td>857</td>\n",
       "      <td>double eviction from big brother model caprice...</td>\n",
       "      <td>1</td>\n",
       "    </tr>\n",
       "    <tr>\n",
       "      <th>1486</th>\n",
       "      <td>325</td>\n",
       "      <td>dj double act revamp chart show dj duo jk and ...</td>\n",
       "      <td>1</td>\n",
       "    </tr>\n",
       "    <tr>\n",
       "      <th>1487</th>\n",
       "      <td>1590</td>\n",
       "      <td>weak dollar hits reuters revenues at media gro...</td>\n",
       "      <td>0</td>\n",
       "    </tr>\n",
       "    <tr>\n",
       "      <th>1488</th>\n",
       "      <td>1587</td>\n",
       "      <td>apple ipod family expands market apple has exp...</td>\n",
       "      <td>4</td>\n",
       "    </tr>\n",
       "    <tr>\n",
       "      <th>1489</th>\n",
       "      <td>538</td>\n",
       "      <td>santy worm makes unwelcome visit thousands of ...</td>\n",
       "      <td>4</td>\n",
       "    </tr>\n",
       "  </tbody>\n",
       "</table>\n",
       "<p>1490 rows × 3 columns</p>\n",
       "</div>"
      ],
      "text/plain": [
       "      ArticleId                                               Text Category\n",
       "0          1833  worldcom ex-boss launches defence lawyers defe...        0\n",
       "1           154  german business confidence slides german busin...        0\n",
       "2          1101  bbc poll indicates economic gloom citizens in ...        0\n",
       "3          1976  lifestyle  governs mobile choice  faster  bett...        4\n",
       "4           917  enron bosses in $168m payout eighteen former e...        0\n",
       "...         ...                                                ...      ...\n",
       "1485        857  double eviction from big brother model caprice...        1\n",
       "1486        325  dj double act revamp chart show dj duo jk and ...        1\n",
       "1487       1590  weak dollar hits reuters revenues at media gro...        0\n",
       "1488       1587  apple ipod family expands market apple has exp...        4\n",
       "1489        538  santy worm makes unwelcome visit thousands of ...        4\n",
       "\n",
       "[1490 rows x 3 columns]"
      ]
     },
     "execution_count": 6,
     "metadata": {},
     "output_type": "execute_result"
    }
   ],
   "source": [
    "#step 2\n",
    "digit_data = data\n",
    "digit_label = {'business': 0, 'entertainment': 1, 'politics': 2, 'sport': 3, 'tech': 4}\n",
    "for label in digit_label.keys():\n",
    "    digit_data.loc[digit_data[\"Category\"]== label,\"Category\",]= digit_label[label]\n",
    "digit_data"
   ]
  },
  {
   "cell_type": "code",
   "execution_count": 7,
   "metadata": {},
   "outputs": [],
   "source": [
    "from sklearn.model_selection import train_test_split\n",
    "import numpy as np\n",
    "#split data into train set and test set\n",
    "df_x = digit_data[\"Text\"]\n",
    "df_y = digit_data[\"Category\"]\n",
    "x_train, x_test, y_train, y_test = train_test_split(df_x, df_y, test_size=0.2, random_state=4)\n",
    "y_train = y_train.astype('int')\n",
    "y_test = np.array(y_test)"
   ]
  },
  {
   "cell_type": "code",
   "execution_count": 8,
   "metadata": {},
   "outputs": [
    {
     "name": "stdout",
     "output_type": "stream",
     "text": [
      "The appended documents depending on the categories\n",
      "   Category                                               Text\n",
      "0         0  worldcom ex-boss launches defence lawyers defe...\n",
      "1         1  french honour for director parker british film...\n",
      "2         2  howard  truanted to play snooker  conservative...\n",
      "3         3  wales silent on grand slam talk rhys williams ...\n",
      "4         4  lifestyle  governs mobile choice  faster  bett...\n"
     ]
    }
   ],
   "source": [
    "limited_data = data\n",
    "limited_data = limited_data.groupby('Category', sort=True)['Text'].apply(' '.join).reset_index()\n",
    "print(\"The appended documents depending on the categories\")\n",
    "print(limited_data)"
   ]
  },
  {
   "cell_type": "markdown",
   "metadata": {},
   "source": [
    "# Prediction Model\n",
    "1. predict_data: calculate the true positive rate depedning on the threshold\n",
    "2. find true positive rate for mindf = [0,10]\n",
    "3. print the result"
   ]
  },
  {
   "cell_type": "code",
   "execution_count": 18,
   "metadata": {},
   "outputs": [],
   "source": [
    "from sklearn.naive_bayes import MultinomialNB\n",
    "cv = text.CountVectorizer(stop_words=stop_words, min_df = threshold)\n",
    "xtrain_v = cv.fit_transform(x_train)\n",
    "label = cv.get_feature_names()\n",
    "xtest_v = cv.transform(x_test)\n",
    "def predict_data(threshold):\n",
    "    mnb = MultinomialNB()\n",
    "    mnb.fit(xtrain_v,y_train)\n",
    "    predictions = mnb.predict(xtest_v)\n",
    "    count = 0\n",
    "    for i in range (len(predictions)):\n",
    "        if predictions[i]== y_test[i]:\n",
    "            count=count+1\n",
    "    return count/len(predictions)"
   ]
  },
  {
   "cell_type": "code",
   "execution_count": 10,
   "metadata": {},
   "outputs": [
    {
     "data": {
      "text/plain": [
       "{0: 0.9697986577181208,\n",
       " 1: 0.9697986577181208,\n",
       " 2: 0.9697986577181208,\n",
       " 3: 0.9664429530201343,\n",
       " 4: 0.9697986577181208,\n",
       " 5: 0.9664429530201343,\n",
       " 6: 0.9731543624161074,\n",
       " 7: 0.9697986577181208,\n",
       " 8: 0.9697986577181208,\n",
       " 9: 0.959731543624161,\n",
       " 10: 0.9630872483221476}"
      ]
     },
     "execution_count": 10,
     "metadata": {},
     "output_type": "execute_result"
    }
   ],
   "source": [
    "#step 2:\n",
    "true_positive_rate = {}\n",
    "for i in range(11):\n",
    "    true_positive_rate[i] = (predict_data(i))\n",
    "true_positive_rate"
   ]
  },
  {
   "cell_type": "code",
   "execution_count": 11,
   "metadata": {},
   "outputs": [
    {
     "data": {
      "image/png": "[encoded data removed]",
      "text/plain": [
       "<Figure size 432x288 with 1 Axes>"
      ]
     },
     "metadata": {
      "needs_background": "light"
     },
     "output_type": "display_data"
    },
    {
     "name": "stdout",
     "output_type": "stream",
     "text": [
      "threshold for vocabulary ignore terms:  0  true positive rate: 0.9697986577181208\n",
      "threshold for vocabulary ignore terms:  1  true positive rate: 0.9697986577181208\n",
      "threshold for vocabulary ignore terms:  2  true positive rate: 0.9697986577181208\n",
      "threshold for vocabulary ignore terms:  3  true positive rate: 0.9664429530201343\n",
      "threshold for vocabulary ignore terms:  4  true positive rate: 0.9697986577181208\n",
      "threshold for vocabulary ignore terms:  5  true positive rate: 0.9664429530201343\n",
      "threshold for vocabulary ignore terms:  6  true positive rate: 0.9731543624161074\n",
      "threshold for vocabulary ignore terms:  7  true positive rate: 0.9697986577181208\n",
      "threshold for vocabulary ignore terms:  8  true positive rate: 0.9697986577181208\n",
      "threshold for vocabulary ignore terms:  9  true positive rate: 0.959731543624161\n",
      "threshold for vocabulary ignore terms:  10  true positive rate: 0.9630872483221476\n",
      "Best threshold:  6  true positive rate:  0.9731543624161074\n"
     ]
    }
   ],
   "source": [
    "#step 3:\n",
    "plt.plot(true_positive_rate.keys(), true_positive_rate.values())\n",
    "plt.title('true positive rate depending on threshold')\n",
    "plt.ylabel('true positive rate')\n",
    "plt.xlabel('threshold')\n",
    "plt.show()\n",
    "for min_df in true_positive_rate.keys():\n",
    "    print(\"threshold for vocabulary ignore terms: \", min_df, \" true positive rate:\", true_positive_rate[min_df])\n",
    "threshold = max(true_positive_rate,  key=true_positive_rate.get)\n",
    "print(\"Best threshold: \", threshold, \" true positive rate: \", true_positive_rate[threshold])\n"
   ]
  },
  {
   "cell_type": "markdown",
   "metadata": {},
   "source": [
    "# Decision Tree\n",
    "Analyze important words to categorize the documents\n",
    "**decision_tree**: max depth with the threshold with criterion entropy (information gain)\n",
    "#### variables from previous methods\n",
    "**xtrain_v**: vectorized trained data using fit_transform() a.k.a it is learned\\\n",
    "**xtest_v**: vectorized test data using transform() a.k.a not learned\n",
    "**y_train**: label for xtrain\n",
    "**y_test**: label for xtest"
   ]
  },
  {
   "cell_type": "code",
   "execution_count": 34,
   "metadata": {},
   "outputs": [
    {
     "data": {
      "text/plain": [
       "(<1192x5375 sparse matrix of type '<class 'numpy.int64'>'\n",
       " \twith 141661 stored elements in Compressed Sparse Row format>,\n",
       " 5375)"
      ]
     },
     "execution_count": 34,
     "metadata": {},
     "output_type": "execute_result"
    }
   ],
   "source": [
    "xtrain_v, len(label)"
   ]
  },
  {
   "cell_type": "code",
   "execution_count": 23,
   "metadata": {},
   "outputs": [
    {
     "data": {
      "text/plain": [
       "RandomForestClassifier(max_depth=6, random_state=2)"
      ]
     },
     "execution_count": 23,
     "metadata": {},
     "output_type": "execute_result"
    }
   ],
   "source": [
    "import sklearn\n",
    "from sklearn.ensemble import RandomForestClassifier\n",
    "xtrain_a = xtrain_v.toarray()\n",
    "xtest_a = xtest_v.toarray()\n",
    "N,D = xtrain_a.shape"
   ]
  },
  {
   "cell_type": "code",
   "execution_count": 21,
   "metadata": {},
   "outputs": [],
   "source": [
    "def predict_data_forest(clf):\n",
    "    predictions = clf.predict(xtest_a)\n",
    "    count = 0\n",
    "    for i in range (len(predictions)):\n",
    "        if predictions[i]== y_test[i]:\n",
    "            count=count+1\n",
    "    return count/len(predictions)"
   ]
  },
  {
   "cell_type": "markdown",
   "metadata": {},
   "source": [
    "### find the random forest that can predict the data best\n"
   ]
  },
  {
   "cell_type": "code",
   "execution_count": 32,
   "metadata": {},
   "outputs": [
    {
     "name": "stdout",
     "output_type": "stream",
     "text": [
      "depth:  10  state:  0  accuracy:  0.9295302013422819\n",
      "depth:  10  state:  1  accuracy:  0.9463087248322147\n",
      "depth:  10  state:  2  accuracy:  0.9395973154362416\n",
      "depth:  10  state:  3  accuracy:  0.9429530201342282\n",
      "depth:  10  state:  4  accuracy:  0.9362416107382551\n",
      "depth:  10  state:  5  accuracy:  0.9563758389261745\n",
      "depth:  10  state:  6  accuracy:  0.9328859060402684\n",
      "depth:  10  state:  7  accuracy:  0.9395973154362416\n",
      "depth:  10  state:  8  accuracy:  0.9429530201342282\n",
      "depth:  10  state:  9  accuracy:  0.9328859060402684\n",
      "depth:  11  state:  0  accuracy:  0.9395973154362416\n",
      "depth:  11  state:  1  accuracy:  0.9362416107382551\n",
      "depth:  11  state:  2  accuracy:  0.9395973154362416\n",
      "depth:  11  state:  3  accuracy:  0.9530201342281879\n",
      "depth:  11  state:  4  accuracy:  0.9463087248322147\n",
      "depth:  11  state:  5  accuracy:  0.9530201342281879\n",
      "depth:  11  state:  6  accuracy:  0.9463087248322147\n",
      "depth:  11  state:  7  accuracy:  0.9496644295302014\n",
      "depth:  11  state:  8  accuracy:  0.9295302013422819\n",
      "depth:  11  state:  9  accuracy:  0.9429530201342282\n",
      "depth:  12  state:  0  accuracy:  0.9429530201342282\n",
      "depth:  12  state:  1  accuracy:  0.9328859060402684\n",
      "depth:  12  state:  2  accuracy:  0.9429530201342282\n",
      "depth:  12  state:  3  accuracy:  0.9463087248322147\n",
      "depth:  12  state:  4  accuracy:  0.9395973154362416\n",
      "depth:  12  state:  5  accuracy:  0.9429530201342282\n",
      "depth:  12  state:  6  accuracy:  0.9463087248322147\n",
      "depth:  12  state:  7  accuracy:  0.9395973154362416\n",
      "depth:  12  state:  8  accuracy:  0.9429530201342282\n",
      "depth:  12  state:  9  accuracy:  0.9429530201342282\n",
      "depth:  13  state:  0  accuracy:  0.9463087248322147\n",
      "depth:  13  state:  1  accuracy:  0.9395973154362416\n",
      "depth:  13  state:  2  accuracy:  0.9395973154362416\n",
      "depth:  13  state:  3  accuracy:  0.959731543624161\n",
      "depth:  13  state:  4  accuracy:  0.9463087248322147\n",
      "depth:  13  state:  5  accuracy:  0.9496644295302014\n",
      "depth:  13  state:  6  accuracy:  0.9530201342281879\n",
      "depth:  13  state:  7  accuracy:  0.9530201342281879\n",
      "depth:  13  state:  8  accuracy:  0.9463087248322147\n",
      "depth:  13  state:  9  accuracy:  0.9530201342281879\n",
      "depth:  14  state:  0  accuracy:  0.9496644295302014\n",
      "depth:  14  state:  1  accuracy:  0.9362416107382551\n",
      "depth:  14  state:  2  accuracy:  0.9496644295302014\n",
      "depth:  14  state:  3  accuracy:  0.9630872483221476\n",
      "depth:  14  state:  4  accuracy:  0.9563758389261745\n",
      "depth:  14  state:  5  accuracy:  0.959731543624161\n",
      "depth:  14  state:  6  accuracy:  0.9530201342281879\n",
      "depth:  14  state:  7  accuracy:  0.9496644295302014\n",
      "depth:  14  state:  8  accuracy:  0.9463087248322147\n",
      "depth:  14  state:  9  accuracy:  0.9463087248322147\n",
      "depth:  15  state:  0  accuracy:  0.9395973154362416\n",
      "depth:  15  state:  1  accuracy:  0.9496644295302014\n",
      "depth:  15  state:  2  accuracy:  0.9463087248322147\n",
      "depth:  15  state:  3  accuracy:  0.9664429530201343\n",
      "depth:  15  state:  4  accuracy:  0.9463087248322147\n",
      "depth:  15  state:  5  accuracy:  0.9530201342281879\n",
      "depth:  15  state:  6  accuracy:  0.9496644295302014\n",
      "depth:  15  state:  7  accuracy:  0.9429530201342282\n",
      "depth:  15  state:  8  accuracy:  0.9563758389261745\n",
      "depth:  15  state:  9  accuracy:  0.9496644295302014\n",
      "depth:  16  state:  0  accuracy:  0.9429530201342282\n",
      "depth:  16  state:  1  accuracy:  0.9429530201342282\n",
      "depth:  16  state:  2  accuracy:  0.9429530201342282\n",
      "depth:  16  state:  3  accuracy:  0.959731543624161\n",
      "depth:  16  state:  4  accuracy:  0.9496644295302014\n",
      "depth:  16  state:  5  accuracy:  0.9664429530201343\n",
      "depth:  16  state:  6  accuracy:  0.9496644295302014\n",
      "depth:  16  state:  7  accuracy:  0.959731543624161\n",
      "depth:  16  state:  8  accuracy:  0.9328859060402684\n",
      "depth:  16  state:  9  accuracy:  0.9530201342281879\n",
      "depth:  17  state:  0  accuracy:  0.9463087248322147\n",
      "depth:  17  state:  1  accuracy:  0.9463087248322147\n",
      "depth:  17  state:  2  accuracy:  0.9429530201342282\n",
      "depth:  17  state:  3  accuracy:  0.9630872483221476\n",
      "depth:  17  state:  4  accuracy:  0.959731543624161\n",
      "depth:  17  state:  5  accuracy:  0.9563758389261745\n",
      "depth:  17  state:  6  accuracy:  0.9496644295302014\n",
      "depth:  17  state:  7  accuracy:  0.9563758389261745\n",
      "depth:  17  state:  8  accuracy:  0.9530201342281879\n",
      "depth:  17  state:  9  accuracy:  0.9563758389261745\n",
      "depth:  18  state:  0  accuracy:  0.9429530201342282\n",
      "depth:  18  state:  1  accuracy:  0.9496644295302014\n",
      "depth:  18  state:  2  accuracy:  0.9530201342281879\n",
      "depth:  18  state:  3  accuracy:  0.959731543624161\n",
      "depth:  18  state:  4  accuracy:  0.9530201342281879\n",
      "depth:  18  state:  5  accuracy:  0.9630872483221476\n",
      "depth:  18  state:  6  accuracy:  0.959731543624161\n",
      "depth:  18  state:  7  accuracy:  0.9563758389261745\n",
      "depth:  18  state:  8  accuracy:  0.959731543624161\n",
      "depth:  18  state:  9  accuracy:  0.9563758389261745\n",
      "depth:  19  state:  0  accuracy:  0.9496644295302014\n",
      "depth:  19  state:  1  accuracy:  0.9530201342281879\n",
      "depth:  19  state:  2  accuracy:  0.9563758389261745\n",
      "depth:  19  state:  3  accuracy:  0.9664429530201343\n",
      "depth:  19  state:  4  accuracy:  0.9496644295302014\n",
      "depth:  19  state:  5  accuracy:  0.959731543624161\n",
      "depth:  19  state:  6  accuracy:  0.9563758389261745\n",
      "depth:  19  state:  7  accuracy:  0.9530201342281879\n",
      "depth:  19  state:  8  accuracy:  0.9463087248322147\n",
      "depth:  19  state:  9  accuracy:  0.9463087248322147\n",
      "depth:  20  state:  0  accuracy:  0.9530201342281879\n",
      "depth:  20  state:  1  accuracy:  0.9496644295302014\n",
      "depth:  20  state:  2  accuracy:  0.9429530201342282\n",
      "depth:  20  state:  3  accuracy:  0.9563758389261745\n",
      "depth:  20  state:  4  accuracy:  0.9530201342281879\n",
      "depth:  20  state:  5  accuracy:  0.9530201342281879\n",
      "depth:  20  state:  6  accuracy:  0.959731543624161\n",
      "depth:  20  state:  7  accuracy:  0.9530201342281879\n",
      "depth:  20  state:  8  accuracy:  0.9530201342281879\n",
      "depth:  20  state:  9  accuracy:  0.9496644295302014\n",
      "The best prediction depth and random_state is  (15, 3)  which has a prediction rate of  0.9664429530201343\n"
     ]
    }
   ],
   "source": [
    "prediction_forest = {}\n",
    "for depth in range(10, 21):\n",
    "    for state in range(10):\n",
    "        clf = RandomForestClassifier(max_depth=depth, random_state=state)\n",
    "        clf.fit(xtrain_a, y_train)\n",
    "        prediction_forest[(depth,state)] = predict_data_forest(clf)\n",
    "        print(\"depth: \", depth, \" state: \", state, \" accuracy: \", prediction_forest[(depth,state)])\n",
    "best_forest = max(prediction_forest,  key=prediction_forest.get)\n",
    "print(\"The best prediction depth and random_state is \", best_forest, \" which has a prediction rate of \",\n",
    "     prediction_forest[best_forest])"
   ]
  },
  {
   "cell_type": "code",
   "execution_count": null,
   "metadata": {},
   "outputs": [],
   "source": [
    "depth, state = best_forest[0], best_forest[1]\n",
    "decision_tree = RandomForestClassifier(max_depth=depth, random_state=state)\n",
    "decision_tree.fit(xtrain_a, y_train)\n",
    "importance = decision_tree.feature_importances_"
   ]
  },
  {
   "cell_type": "code",
   "execution_count": 41,
   "metadata": {},
   "outputs": [
    {
     "data": {
      "image/png": "[encoded data removed]",
      "text/plain": [
       "<Figure size 432x288 with 1 Axes>"
      ]
     },
     "metadata": {
      "needs_background": "light"
     },
     "output_type": "display_data"
    },
    {
     "data": {
      "text/plain": [
       "((5375,), 5375)"
      ]
     },
     "execution_count": 41,
     "metadata": {},
     "output_type": "execute_result"
    }
   ],
   "source": [
    "order = pd.Index(-1*importance).argsort()\n",
    "sorted_label = np.array(label)[order]\n",
    "sorted_importance = importance[order]\n",
    "plt.bar(sorted_label[:20], sorted_importance[:20])\n",
    "plt.xticks(sorted_label[:20], rotation='vertical')\n",
    "plt.title(\"Feature importance for categorizing the news\")\n",
    "plt.ylabel(\"Feature importances\")\n",
    "plt.xlabel(\"features\")\n",
    "plt.show()\n",
    "importance.shape, len(label)"
   ]
  },
  {
   "cell_type": "markdown",
   "metadata": {},
   "source": [
    "# Use feature importance on Detecting Model\n",
    "**sorted_label**: impornat words\n",
    "**sorted_importance**: importance of those words"
   ]
  },
  {
   "cell_type": "code",
   "execution_count": null,
   "metadata": {},
   "outputs": [],
   "source": [
    "r,c = limited_data.shape\n",
    "documents = []\n",
    "len_documents = []\n",
    "y_train = []\n",
    "MAX_DOCUMENTS = 3000\n",
    "for i in range(r):\n",
    "    document = str(limited_data.loc[i,'Text'])\n",
    "    y_train.append(str(limited_data.loc[i,'Category']))\n",
    "    len_documents.append(len(document))\n",
    "    documents.extend(document)\n",
    "documents.extend(keywordDF['keywords'][:10].tolist()) #extend keywords\n",
    "#Form bag of words model using words used at least 10 times\n",
    "v = text.CountVectorizer(stop_words=stop_words, min_df = 10)\n",
    "print(documents)\n",
    "train = v.fit_transform(documents).toarray()\n",
    "x_train = []\n",
    "for i in len(len_documents) - 1:\n",
    "    x_train.append(train[:len_documents[i], :])#store in train_x\n",
    "gnb = GaussianNB()\n",
    "label = gnb.fit(data[x_train, y_train]).predict(train[len_documents[-1]:])\n",
    "print(label)#X_test: keywords, x_train, y_train: trained data"
   ]
  },
  {
   "cell_type": "code",
   "execution_count": null,
   "metadata": {},
   "outputs": [],
   "source": []
  },
  {
   "attachments": {
    "Screen%20Shot%202020-10-23%20at%2011.05.49%20AM.png": {
     "image/png": "[encoded data removed]"
    }
   },
   "cell_type": "markdown",
   "metadata": {},
   "source": [
    "# Evaluation\n",
    "store predicted data and evaluation from user whether the label is valid\n",
    "Evaluate the True Positive Rate and Fale Positive Rate by ROC curve\n",
    "![Screen%20Shot%202020-10-23%20at%2011.05.49%20AM.png](attachment:Screen%20Shot%202020-10-23%20at%2011.05.49%20AM.png)"
   ]
  },
  {
   "cell_type": "code",
   "execution_count": null,
   "metadata": {},
   "outputs": [],
   "source": []
  },
  {
   "cell_type": "code",
   "execution_count": null,
   "metadata": {},
   "outputs": [],
   "source": [
    "#get DataFrame from csv\n",
    "#add current data\n",
    "#do functions\n",
    "#store data to csv"
   ]
  }
 ],
 "metadata": {
  "colab": {
   "authorship_tag": "ABX9TyMq3J20zyPQufW5ciWp0rRf",
   "include_colab_link": true,
   "name": "revised_news.ipynb",
   "provenance": []
  },
  "kernelspec": {
   "display_name": "Python 3",
   "language": "python",
   "name": "python3"
  },
  "language_info": {
   "codemirror_mode": {
    "name": "ipython",
    "version": 3
   },
   "file_extension": ".py",
   "mimetype": "text/x-python",
   "name": "python",
   "nbconvert_exporter": "python",
   "pygments_lexer": "ipython3",
   "version": "3.8.3"
  }
 },
 "nbformat": 4,
 "nbformat_minor": 1
}
