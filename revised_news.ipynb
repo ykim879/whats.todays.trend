{
  "nbformat": 4,
  "nbformat_minor": 0,
  "metadata": {
    "colab": {
      "name": "revised_news.ipynb",
      "provenance": [],
      "authorship_tag": "ABX9TyMq4Ed6pNg1LhhH6PaFxS92",
      "include_colab_link": true
    },
    "kernelspec": {
      "name": "python3",
      "display_name": "Python 3"
    }
  },
  "cells": [
    {
      "cell_type": "markdown",
      "metadata": {
        "id": "view-in-github",
        "colab_type": "text"
      },
      "source": [
        "<a href=\"https://colab.research.google.com/github/ykim879/whats.todays.trend/blob/master/revised_news.ipynb\" target=\"_parent\"><img src=\"https://colab.research.google.com/assets/colab-badge.svg\" alt=\"Open In Colab\"/></a>"
      ]
    },
    {
      "cell_type": "code",
      "metadata": {
        "id": "bnx9G1CsJb4x"
      },
      "source": [
        "import queue\n",
        "import threading\n",
        "def eachNewsHeadlines(ID, q):\n",
        "\tresponse = requests.get('https://newsapi.org/v2/top-headlines?sources=' + ID + '&apiKey=' + key)\n",
        "\tjson = response.json()\n",
        "\tif json['status'] != 'ok':\n",
        "\t\traise IOError('API key is probably overused :(')\n",
        "\ttopNews = []\n",
        "\ttopNews.append(ID)\n",
        "\tfor elem in json['articles']:\n",
        "\t\ttopNews.append(elem['title'])\n",
        "\tq.put(topNews)"
      ],
      "execution_count": 1,
      "outputs": []
    },
    {
      "cell_type": "code",
      "metadata": {
        "id": "Mcsm2sdtIlwS",
        "outputId": "5d5537ec-3342-43e5-e67e-ea18db85f414",
        "colab": {
          "base_uri": "https://localhost:8080/",
          "height": 1000
        }
      },
      "source": [
        "import requests\n",
        "import pandas as pd\n",
        "key = '5e74c7cf9e344e3e8c04210f9b75125b'\n",
        "response = requests.get('https://newsapi.org/v2/sources?'\n",
        "\t\t\t   'language=en&country=us&'\n",
        "\t\t\t   'apiKey=' + key)\n",
        "sources = response.json()['sources']\n",
        "df = pd.DataFrame();\n",
        "pd.set_option('display.max_columns', 7)\n",
        "for source in sources:\n",
        "  row = pd.Series(source)\n",
        "  df = df.append(row, ignore_index = True)\n",
        "df.set_index(\"name\", inplace = True)\n",
        "#collects headline\n",
        "threads = []\n",
        "q = queue.Queue()\n",
        "for id in df['id']:\n",
        "  t = threading.Thread(target = eachNewsHeadlines, args = (id, q))\n",
        "  threads.append(t)\n",
        "  t.start()\n",
        "for t in threads:\n",
        "  t.join()\n",
        "headlines = []\n",
        "while not q.empty():\n",
        "  headlines.extend(q.get())\n",
        "print(headlines)"
      ],
      "execution_count": 6,
      "outputs": [
        {
          "output_type": "stream",
          "text": [
            "Exception in thread Thread-99:\n",
            "Traceback (most recent call last):\n",
            "  File \"/usr/lib/python3.6/threading.py\", line 916, in _bootstrap_inner\n",
            "    self.run()\n",
            "  File \"/usr/lib/python3.6/threading.py\", line 864, in run\n",
            "    self._target(*self._args, **self._kwargs)\n",
            "  File \"<ipython-input-1-5c882d89a6eb>\", line 7, in eachNewsHeadlines\n",
            "    raise IOError('API key is probably overused :(')\n",
            "OSError: API key is probably overused :(\n",
            "\n",
            "Exception in thread Thread-90:\n",
            "Traceback (most recent call last):\n",
            "  File \"/usr/lib/python3.6/threading.py\", line 916, in _bootstrap_inner\n",
            "    self.run()\n",
            "  File \"/usr/lib/python3.6/threading.py\", line 864, in run\n",
            "    self._target(*self._args, **self._kwargs)\n",
            "  File \"<ipython-input-1-5c882d89a6eb>\", line 7, in eachNewsHeadlines\n",
            "    raise IOError('API key is probably overused :(')\n",
            "OSError: API key is probably overused :(\n",
            "\n",
            "Exception in thread Thread-88:\n",
            "Traceback (most recent call last):\n",
            "  File \"/usr/lib/python3.6/threading.py\", line 916, in _bootstrap_inner\n",
            "    self.run()\n",
            "  File \"/usr/lib/python3.6/threading.py\", line 864, in run\n",
            "    self._target(*self._args, **self._kwargs)\n",
            "  File \"<ipython-input-1-5c882d89a6eb>\", line 7, in eachNewsHeadlines\n",
            "    raise IOError('API key is probably overused :(')\n",
            "OSError: API key is probably overused :(\n",
            "\n",
            "Exception in thread Thread-106:\n",
            "Traceback (most recent call last):\n",
            "  File \"/usr/lib/python3.6/threading.py\", line 916, in _bootstrap_inner\n",
            "    self.run()\n",
            "  File \"/usr/lib/python3.6/threading.py\", line 864, in run\n",
            "    self._target(*self._args, **self._kwargs)\n",
            "  File \"<ipython-input-1-5c882d89a6eb>\", line 7, in eachNewsHeadlines\n",
            "    raise IOError('API key is probably overused :(')\n",
            "OSError: API key is probably overused :(\n",
            "\n",
            "Exception in thread Thread-102:\n",
            "Traceback (most recent call last):\n",
            "  File \"/usr/lib/python3.6/threading.py\", line 916, in _bootstrap_inner\n",
            "    self.run()\n",
            "  File \"/usr/lib/python3.6/threading.py\", line 864, in run\n",
            "    self._target(*self._args, **self._kwargs)\n",
            "  File \"<ipython-input-1-5c882d89a6eb>\", line 7, in eachNewsHeadlines\n",
            "    raise IOError('API key is probably overused :(')\n",
            "OSError: API key is probably overused :(\n",
            "\n",
            "Exception in thread Thread-107:\n",
            "Traceback (most recent call last):\n",
            "  File \"/usr/lib/python3.6/threading.py\", line 916, in _bootstrap_inner\n",
            "    self.run()\n",
            "  File \"/usr/lib/python3.6/threading.py\", line 864, in run\n",
            "    self._target(*self._args, **self._kwargs)\n",
            "  File \"<ipython-input-1-5c882d89a6eb>\", line 7, in eachNewsHeadlines\n",
            "    raise IOError('API key is probably overused :(')\n",
            "OSError: API key is probably overused :(\n",
            "\n",
            "Exception in thread Thread-111:\n",
            "Traceback (most recent call last):\n",
            "  File \"/usr/lib/python3.6/threading.py\", line 916, in _bootstrap_inner\n",
            "    self.run()\n",
            "  File \"/usr/lib/python3.6/threading.py\", line 864, in run\n",
            "    self._target(*self._args, **self._kwargs)\n",
            "  File \"<ipython-input-1-5c882d89a6eb>\", line 7, in eachNewsHeadlines\n",
            "    raise IOError('API key is probably overused :(')\n",
            "OSError: API key is probably overused :(\n",
            "Exception in thread Thread-110:\n",
            "Traceback (most recent call last):\n",
            "  File \"/usr/lib/python3.6/threading.py\", line 916, in _bootstrap_inner\n",
            "    self.run()\n",
            "  File \"/usr/lib/python3.6/threading.py\", line 864, in run\n",
            "    self._target(*self._args, **self._kwargs)\n",
            "  File \"<ipython-input-1-5c882d89a6eb>\", line 7, in eachNewsHeadlines\n",
            "    raise IOError('API key is probably overused :(')\n",
            "OSError: API key is probably overused :(\n",
            "Exception in thread Thread-108:\n",
            "Traceback (most recent call last):\n",
            "  File \"/usr/lib/python3.6/threading.py\", line 916, in _bootstrap_inner\n",
            "    self.run()\n",
            "  File \"/usr/lib/python3.6/threading.py\", line 864, in run\n",
            "    self._target(*self._args, **self._kwargs)\n",
            "  File \"<ipython-input-1-5c882d89a6eb>\", line 7, in eachNewsHeadlines\n",
            "    raise IOError('API key is probably overused :(')\n",
            "OSError: API key is probably overused :(\n",
            "\n",
            "\n",
            "Exception in thread Thread-112:\n",
            "Traceback (most recent call last):\n",
            "  File \"/usr/lib/python3.6/threading.py\", line 916, in _bootstrap_inner\n",
            "    self.run()\n",
            "  File \"/usr/lib/python3.6/threading.py\", line 864, in run\n",
            "    self._target(*self._args, **self._kwargs)\n",
            "  File \"<ipython-input-1-5c882d89a6eb>\", line 7, in eachNewsHeadlines\n",
            "    raise IOError('API key is probably overused :(')\n",
            "OSError: API key is probably overused :(\n",
            "Exception in thread Thread-109:\n",
            "Traceback (most recent call last):\n",
            "  File \"/usr/lib/python3.6/threading.py\", line 916, in _bootstrap_inner\n",
            "    self.run()\n",
            "  File \"/usr/lib/python3.6/threading.py\", line 864, in run\n",
            "    self._target(*self._args, **self._kwargs)\n",
            "  File \"<ipython-input-1-5c882d89a6eb>\", line 7, in eachNewsHeadlines\n",
            "    raise IOError('API key is probably overused :(')\n",
            "OSError: API key is probably overused :(\n",
            "\n",
            "\n",
            "\n",
            "Exception in thread Thread-113:\n",
            "Traceback (most recent call last):\n",
            "  File \"/usr/lib/python3.6/threading.py\", line 916, in _bootstrap_inner\n",
            "    self.run()\n",
            "  File \"/usr/lib/python3.6/threading.py\", line 864, in run\n",
            "    self._target(*self._args, **self._kwargs)\n",
            "  File \"<ipython-input-1-5c882d89a6eb>\", line 7, in eachNewsHeadlines\n",
            "    raise IOError('API key is probably overused :(')\n",
            "OSError: API key is probably overused :(\n",
            "\n"
          ],
          "name": "stderr"
        },
        {
          "output_type": "stream",
          "text": [
            "['al-jazeera-english', \"COVID-19: US passes 'unfathomable' 200,000 death toll\", \"Iran says 'internal agents' may be responsible for Natanz blast\", 'Palestine quits Arab League role in protest over Israel deals', 'mashable', \"How to make iPhone's Screen Time actually helpful\", 'AOC opens up about death threats after baseball team shows offensive video of her', 'Uber will now kick off riders with low ratings', 'Metal Mario makes his Hot Wheels debut this summer', 'Amazon challenges Google with smaller, cheaper Echo Show', 'DC’s ‘Doom Patrol’ is the rare superhero show that understands trauma', 'Trump and Biden court older women demographic with Facebook ads', 'fox-sports', '', 'WWE', '', 'MLB', 'Watch WWE Friday Night SmackDown from July 17th in 3 minutes | FRIDAY NIGHT SMACKDOWN (VIDEO)', \"Which two members of the Madden 21 '99 Club' would you build around?\", 'MVP, Cy Young, Rookie of the Year: Who are favorites to win MLB awards?', '', 'NFL News, Videos, Scores, Teams, Standings, Stats', \"The NFL and Daniel Snyder respond to Thursday's Washington Post story\", 'reddit-r-all', 'r/PublicFreakout - I can understand why he did this, he tried asking nicely so they flash him I would have done the same', 'r/ANormalDayInRussia - Slav Lo-Fi HardBass', 'r/MadeMeSmile - Whitney Kropp, a bullied girl who was nominated for homecoming queen by her bullies as a prank. It backfired when the whole town rallied around her and supported her nomination. She ended up winning and was crowned Homecoming queen.', \"r/gaming - I modelled and printed these, whaddya think? I don't have an Xbox or I'd model that one, too.\", 'Create your Azure free account today | Microsoft Azure', 'r/nextfuckinglevel - Was recommended posting my weight loss journey in here. Started in July 2017 weighing 520.5lb, and have now lost 310.5lb.', \"Investigation launched into Trump’s 'political interference' in CDC and FDA's coronavirus work\", 'U.S. charges Russian military hackers with attacking American companies, targeting foreign elections', 'John Oliver visits Danbury sewage plant named in his honor', '1992 single by Rage Against the Machine', 'associated-press', 'Trump ups pressure on Barr to probe Bidens as election nears', 'Leaders in US, Europe divided on response to surging virus', \"Altered photo shows Ice Cube, 50 Cent in 'Trump 2020' hats \", 'US spacecraft diving to asteroid for rare rubble grab', 'Wisconsin voters line up to cast early in-person ballots', 'Justice Dept. files landmark antitrust case against Google', \"AP finds most arrested in protests aren't leftist radicals\", 'McConnell warns White House against COVID relief deal', 'In debate countdown, Trump holds rally, Biden does prep', 'Safety board: Lack of oversight blamed for deadly boat fire', 'mtv-news', 'The Vamps Channeled Elton John And Boxing Sweat For Cherry Blossom', 'Omer Fedi Is The Guitar-Pop Prodigy Behind 24kGoldn And Machine Gun Kelly', \"Lous And The Yakuza's Kate Bush Nod, Hope Tala's 'Crazy' Voice, And More Songs We Love\", 'Beabadoobee Mines Her Own Cosmic Dust', \"Meet The Fresh-Faced Cast Of Netflix's Grim Teen Drama Grand Army\", 'engadget', \"Radio Flyer's $100 Tesla Model Y is powered by kids' feet\", 'Samsung Galaxy Note 20 Ultra review: Unabashedly over the top', \"Hisense's $4,000 laser projector comes with a 100-inch screen\", \"Google's smart displays will simplify multi-room audio\", 'Google asks to test a new type of wireless broadband', 'hacker-news', \"Galileo's Ground Segment Problem - Articles\", 'bunkerity/bunkerized-nginx', 'Substack - Jobs', 'Why Deep Learning Works Even Though It Shouldn’t', 'Ridiculously fast unicode (UTF-8) validation', \"Apple's apps bypass firewalls like LittleSnitch and LuLu on macOS Big Sur\", 'Expanding AI’s Impact With Organizational Learning', 'Justice Department Files Antitrust Lawsuit Against Google', 'My Eight-Year Quest to Digitize 45 Videotapes (Part One)', 'Why mmap is faster than system calls - Alexandra (Sasha) Fedorova - Medium', 'fortune', 'Why do so few businesses see financial gains from using A.I.?', 'The Justice Department files a landmark suit against Google', 'Russia’s ‘Sandworm’ hackers will slither into the sunset', 'Jane Fraser’s two-pronged approach to becoming Citi’s next CEO', 'Ballot design should be boring', 'COVID-19’s hit on holiday spending', 'Why stronger labor unions would speed up America’s post-COVID recovery', 'Why America’s volunteer spirit could save the election', 'Valuation: Casino stocks got clobbered by COVID-19. This one is now an attractive bet', 'If Walmart wants to hear workers’ voices, it should give us a seat at the table', 'bleacher-report', 'New Gridiron Heights', \"NFL Power Rankings: B/R's Expert Consensus Rank for Every Team Entering Week 7\", 'Fantasy Football Week 7: Top Players to Target on the Waiver Wire', '2020 World Series: Rays vs. Dodgers Preview, Odds and Game-by-Game Predictions', \"Chiefs Don't Need Mahomes to Be MVP to Win, and That's Scary\", 'World Series 2020: Bold Predictions for Rays vs. Dodgers Showdown', \"Andrea Aquino Isn't Hiding from Anyone Anymore\", \"Dodgers Head to World Series but Work Isn't Done—It's Title or Bust\", 'crypto-coins-news', \"Prince Harry and Meghan Markle are 'Rock Stars, But Do You Care?\", \"Dow Soars as U.S. Stock Market Enjoys a Stellar 'Turnaround Tuesday'\", \"Dow Rebounds Ahead of Democrats' Stimulus Deadline\", 'Are Meghan Markle and Prince Harry the Most ‘Woke’ Royals?', 'This Deleted Ben Shapiro Tweet Reveals Insights Nobody Asked For', 'Dow Dives as Better Trump Polling Points to Turbulent Election', 'Prince Harry & Meghan Markle Demand Privacy - Unless You Paid $7,000!', 'Dow Rises to Start the Week as China Leads Tepid Global Recovery', \"Harry Styles & Louis Tomlinson 'Ships' Into a Delusional Twitter Trend\", 'cnn', 'Anderson Cooper Full Circle - CNN', \"President Trump called CNN 'bastards' for covering Covid-19. Hear this anchor's response - CNN Video\", 'All of the times President Trump said Covid-19 will disappear', 'The pandemic is speeding up automation, and 85 million jobs are on the line', 'Daily coronavirus case numbers in the US are at levels not seen since the summer, and 14 states recently have set hospitalization records', 'McConnell casts doubt on massive pre-election stimulus deal', 'A Texas woman died on a plane of Covid-19', \"Trump abruptly ends '60 Minutes' interview before taping joint appearance with Pence\", 'Melania Trump cancels plans to attend Tuesday rally citing Covid recovery', 'Eerie photos reveal how Covid curfew is transforming Paris', 'new-york-magazine', '13 Books You Should Read About Black Lives', 'the-huffington-post', 'Grand Jury For Breonna Taylor Never Presented With Homicide Charges, Juror Says', 'With Amy Coney Barrett In The Wings, SCOTUS Conservatives Hint At Radical Voting Decisions', \"Chuck Schumer Says He Had 'Long And Serious Talk' With Dianne Feinstein\", 'Melania Trump Nixes Campaign Trip Due To Lingering COVID-19 Cough', \"Billy Graham's Granddaughter: Evangelicals' Excuses For Trump Hurt Their Reputation\", 'Memphis Poll Worker Fired For Turning Away Voters With BLM Shirts', 'How Trump Plowed Through $1 Billion, Losing Cash Advantage', 'More Than 50 Former Intel Officials Say Hunter Biden Smear Smells Like Russia', 'End The Chaos: New Attack Ad Turns Stirring Anthem Into Anti-Trump Chant', 'At Least 67,000 Felons Registered To Vote In Florida, Group Says', 'fox-news', \"Bill Cosby's new mugshot trends on social media as he appears to be smiling\", \"Trump calls out Lesley Stahl for not wearing mask at White House following 'extremely hostile' interview\", 'Human coronaviruses ‘inactivated’ by mouthwash, oral rinses: study', 'Foreign policy not among topics of second presidential debate', 'Trump says voters must choose between American dream and socialism', 'Sex scandal, COVID-19 rock North Carolina Senate race', 'Majority favor confirming Barrett to Supreme Court, oppose court packing, polls show', 'Biden campaign faces backlash for TV ad depicting Michigan tech CEO as struggling bar owner', 'Kudlow on how Biden health care plan may mean tax hikes', \"Trump weighs in on Cuomo warning Americans to be 'skeptical' of a COVID-19 vaccine\", 'ign', 'Mortal Kombat 11 Ultimate - Rain Character Breakdown - IGN', 'Rogue Company - Rogue Reveal:  Dahlia Trailer - IGN', 'Genshin Impact: Wishes Explained - IGN', 'Disney at War With CA Governor Over Stringent Theme Park Reopening Guidelines - IGN', \"Assassin's Creed Valhalla Preorder Guide for Current and Next-Gen - IGN\", 'Doom Eternal: The Ancient Gods Part 1 - First 15 Minutes of Gameplay - IGN', \"Batman's Broke: All the Ways Gotham City Has Changed After Joker War - IGN\", 'Willow: Disney Plus Sequel Series Set With Warwick Davis, Director Jon M. Chu - IGN', 'Black Ops Cold War: Release Date, Gameplay Details, Crossplay, and Everything We Know About Call of Duty 2020 - IGN', \"Exclusive: First Look at D&D's 'Curse of Strahd Revamped' Collector's Edition - IGN\", 'business-insider', \"Impossible Foods's CEO on why it's doubling its R&D team - Business Insider\", 'Apple iPhone 12 first look: Size comparisons, new design, Night Mode - Business Insider', 'McConnell told White House to refrain from stimulus deal before election: report - Business Insider', \"Biden's tax plan could see rates up to 62% for wealthy in some states - Business Insider\", 'Early votes in Texas surpass all the statewide ballots cast for Trump in 2016 - Business Insider', \"Inside ex-Uber CEO Travis Kalanick's secret ghost kitchen startup - Business Insider\", 'Influencer Danielle Bernstein slammed for WeWoreWhat designs lawsuit - Business Insider', 'New documentary says Kushner task force was mainly young volunteers - Business Insider', 'Moderna vaccine trial: An infectious disease doctor on why she joined the trial and what... - Business Insider', \"Xbox Series X: Best, worst parts of Microsoft's $500 next-gen console - Business Insider\", 'politico', 'Federal judge rules Cuccinelli appointment unlawful', 'The fighter pilot takes on the astronaut: McSally’s 2020 Arizona mission', 'techradar', \"Test d'Apple Arcade\", \"tvOS 14 : date de sortie, version bêta et nouvelles fonctionnalités de la prochaine mise à jour d'Apple TV\", \"PlayStation Store : économisez jusqu'à 70% sur des centaines de jeux PS4\", 'Apple prépare la rentrée des classes et offre une paire d’AirPods gratuits aux étudiants', 'Le Canon EOS R6 est le nouveau concurrent puissant du Nikon Z6', 'Les meilleures imprimantes multifonctions pour la maison', 'buzzfeed', 'The Data Is Out — This Is What Parents Named Their Babies In The Nightmare That Is 2020', '19 Real-Life Events So Messed Up, They Made Horror Movies About Them', 'Former Trump Supporters Are Revealing Their \"Breaking Points\" And Why They Won\\'t Vote For Him In 2020', '21 TV Couples That People Stopped Shipping As The Show Went On', \"Build The Perfect Lazy Meal And We'll Tell You How Dateable You Are\", \"If You Can Name Just 4/13 Of These Famous People, You're Officially Old\", \"Tell Us If You Think These 20 Wedding Trends Are Cute Or Overdone And We'll Reveal When You'll Get Engaged\", \"22 Money Mistakes Millennials Hope Gen Z'ers Avoid\", \"This Nurse's Method On How To Properly Shave Your Pubic Hair Is Going Viral\", 'WTF Is Happening Today? BuzzFeed Newsletters Can Help!', 'espn', \"'Pretty good chance' Washington Football Team remains in 2021, says team president\", \"University of Michigan stay in place order won't impact Wolverines athletics\", 'Indiana Pacers hire Toronto Raptors assistant Nate Bjorkgren as head coach', 'Khabib Nurmagomedov - Only want Georges St-Pierre bout after Justin Gaethje', 'Source - Miami Dolphins naming Tua Tagovailoa starting quarterback', \"Jerry Jones 'not in feel-good mood' about Dallas Cowboys' 2-4 record despite NFC East lead\", '2021 NFL draft sleepers - Kiper, McShay make picks, plus Big Ten prospects to watch, risers, more', 'medical-news-today', 'Allergic reactions to nuts peak around Halloween and Easter', 'Residential area may impact risk of chronic conditions', 'What will the US election mean for Black-white disparities in maternal and child health?', 'Medical myths: Vitamins and supplements', 'Election 2020: We must ‘view access to mental healthcare as a human right’ says psychologist', 'COVID-19 live updates: Total number of cases passes 39.9 million', 'Study hints that early morning exercise may reduce cancer risk', 'How does risk vary for Black and Asian patients with COVID-19?', 'Respected scientific journals publicly oppose Trump', 'US elections 2020: Tips on how to vote safely', 'axios', 'Axios Pro Rata: D.C. disaster — Unity&#x27;s IPO wrinkle — 19 years later', \"Voters and natural gas: It's complicated\", 'Axios Login: Tech&#x27;s election survival plan — Russia, Iran and China hacks — The return of Gateway', \"Nikola's GM honeymoon interrupted\", 'Democrats tie climate to wider agenda', 'Axios Generate: Dems&#x27; THRIVE message — Nikola&#x27;s tough day — Natural gas polling', 'Exclusive: Facebook will give workers paid time off to work polls', 'Netanyahu backtracks from flying to D.C. on private jet', \"Coach John Calipari's strange streak\", \"College football's fall of uncertainty\", 'entertainment-weekly', 'Watch the <em>Legally Blonde</em> cast reunion', \"Kristen Stewart's queer holiday rom-com <em>Happiest Season</em> lands Hulu release date\", \"Disneyland slams California's 'unworkable, devastating' reopening plan\", 'The Outfield lead singer Tony Lewis dies at 62', 'The new <em>Dexter</em> finale should do these 5 things', 'First <em>This Is Us</em> season 5 photos show tense Big Three birthday reunion', 'What to Watch on Tuesday: Things are already heating up on <em>The Bachelorette</em> week 2', 'national-review', 'Zuckerberg Defends Refusal to Censor Political Ads: ‘People Can See for Themselves what Politicians Are Saying’', 'Ukraine President Zelensky Denies Negotiating ‘Quid Pro Quo,’ Criticizes Trump’s Stance on Ukraine Corruption', 'Aunt Becky and the ‘Underpaid Teachers’ Myth', 'No, You Don’t ‘Have to Go to College to Become a Welder’', 'Hey Christians, Are We a Welcoming Committee?', 'A Counterintuitive and Compelling Case for Class-Action Lawsuits', 'History Is Short', 'A Weakened Chinese State Presents Its Own Dangers', 'Kenneth Clark’s <i>Civilisation</i> After a Half Century', 'Why Al Pacino Matters', 'national-geographic', 'Black Americans see a health-care system infected by racism, new poll shows', 'Massive marine die-off in Russia could threaten endangered sea otters, other vulnerable species', '‘Super antigens’ tied to mysterious COVID-19 syndrome in children', 'News can be confusing. Here’s how to teach kids to be expert fact-checkers.', 'Dragon snakeheads—strange new underground fish—discovered in India', 'These paper crafts bring the party on Day of the Dead', 'In tiny Estonia, a fraught debate: What are forests for?', 'First tyrannosaur embryo fossils revealed', 'In daring mission, NASA is about to snatch pieces of an asteroid', 'What unites us? A new book explores Americans’ love of home and country', 'bloomberg', 'Big Tech to See Government Tailor About Size of Britches', 'Apple, Google Worked as ‘One Company’ on Search Deal, U.S. Says', 'What Are Militias? Are Militias Legal? History and Modern-Day Issues, Explained', 'J.C. Penney Rushes to Finalize Sale to Lender, Landlord Group', 'Ermotti Exiting UBS AFter Bank Thrives Through Pandemic (Radio)', 'USPS Still Not Sorting Election Mail Fast Enough, States Say', 'Brightline Offers to Buy $250 Million of Florida Train Bonds', 'Goldman’s Infrastructure Arm Makes $500 Million Data-Center Bet', 'U.S. Ending Sudan’s Terrorism Listing Offers Economic Lifeline', 'Qatar’s Wealth Fund Realigns Structure Under CEO', 'msnbc', \"Lawyers say they can't find the parents of 545 migrant children separated by Trump administration\", \"Fort Hood soldier Vanessa Guillén died 'in the line of duty,' Army inquiry says\", 'New film spotlights shifting politics of Asian American voters, the fastest growing voter bloc', 'Miami officer facing discipline after wearing Trump mask while in uniform at polling place', 'Mute point: Debate co-chair Fahrenkopf defends microphone-cutting decision in Trump-Biden debate', \"Houston sergeant with four decades on force killed responding to 'disturbance'\", \"New face masks in Vistaprint's collab: Keith Haring, Don C and more\", 'NASA will attempt to collect samples from the surface of an asteroid', 'Political candidates face uptick in anti-LGBTQ attack ads', 'Connecticut revises travel quarantine rules to curb Covid surge', 'breitbart-news', \"Second Giant 'Trump' Hollywood-Style Sign Appears in California\", \"HBO's 'Succession' Cast Drops Early Voting PSA: F**k Off. I'm F**king Serious. F**ing Vote\", \"Grassley: Big Tech Acting as 'Superspreaders' of Disinformation -- 'They Hate Trump'\", 'CO Dem Raises Money with Man Threatened to Kill Trump Supporters', 'McConnell: Senate will Vote to Confirm Amy Coney Barrett Next Monday', \"50 Cent Doubles Down On Biden's 'Very Bad' Tax Plan: 'I Don't Want to Be 20 Cent'\", \"Hoyer to Trump: Stop the 'Baloney,' Tell McConnell to Put Coronavirus Bill on the Floor\", \"New York AG: 7 More States May Join DOJ's Lawsuit Against Google\", 'Media Savages Jeffrey Toobin for Allegedly Masturbating On Zoom Call', \"Facebook Punishes Babylon Bee for Teasing Democrat with 'Monty Python' Joke\", 'abc-news', 'Black Trans Lives Matter: Activists call for inclusion in racial justice movement', 'Top Marine general removed after being investigated over use of a racial slur', 'Victims set to testify against alleged NorCal serial rapist at trial this week', 'Older workers face higher unemployment than midcareer peers', 'Judge orders speedy release of Ghislaine Maxwell transcripts', 'Judge considers challenge to CDC order halting evictions', 'Alaska Senate candidate hopes to ride Democratic wave', 'Funeral homes offer limousine rides to the polls nationwide', 'Postal carrier accused of stealing mail-in ballot in Miami', \"With coronavirus concerns a factor, it's all tied up in North Carolina: Poll\", 'ars-technica', 'What we know about the DOJ’s antitrust case against Google so far', 'You can currently take $10 off Cyberpunk 2077 a month before it comes out', '“Here we go”: Disney drops one last teaser for The Mandalorian S2', 'FCC trying to help Trump win election with Twitter crackdown, Democrats say', 'Sneak Preview: MSI Summit Tiger Lake-powered business laptop', 'The secret of how the Venus flytrap “remembers” when it captures prey', 'Adblockers installed 300,000 times are malicious and should be removed now', 'Microsoft’s new data center in a box will use SpaceX Starlink broadband', 'New ex-Blizzard game studio formed to pick up a fallen RTS mantle', 'Google Stadia’s free demos could prove the value of game streaming', 'google-news', 'McConnell warns White House against making stimulus deal as Pelosi and Mnuchin inch closer', \"Trump abruptly ends '60 Minutes' interview before taping joint appearance with Pence\", 'Miami officer facing discipline after wearing Trump mask while in uniform at polling place', 'Top Democrats refuse to stand by Feinstein after she praised GOP handling of Barrett hearings', 'Judge rules Breonna Taylor grand jurors may speak about case | TheHill', 'Presidential debate commission chairman defends rule to cut mics in next debate', 'First Lady Melania Trump cancels trip to president’s Erie rally because of cough', 'Starbucks barista hailed for keeping calm during wild rant by anti-masker', 'Nearly three-fourths of Americans support $2T coronavirus relief bill: poll | TheHill', 'With Two Weeks Until Election Day, These Nine GOP Senators Are in Danger of Losing Their Seat', 'espn-cric-info', 'PCB hands Umar Akmal three-year ban from all cricket | ESPNcricinfo.com', \"Akram's yorkers, Hegg's hits, and Chapple's 6 for 18 | ESPNcricinfo.com\", \"'It was the first time we realised we can also cry after winning a game'\", \"Five famous people (and one cat) you didn't know have ESPNcricinfo profiles | ESPNcricinfo.com\", \"Sri Lanka don't win the 1996 World Cup | ESPNcricinfo.com\", \"I'm fighting my own benchmarks - R Ashwin | ESPNcricinfo.com\", 'The Coronavirus soap opera, starring KP, Warnie, Mahela | ESPNcricinfo.com', 'Five CSK games only hardcore fans will remember | ESPNcricinfo.com', \"'This is a ball the whole world will remember' - Saeed Ajmal v Sachin Tendulkar revisited | ESPNcricinfo.com\", 'What we learned from watching the 1992 World Cup final in full again | ESPNcricinfo.com', 'nfl-news', \"Emmitt Smith: Cowboys can't play 'chicken' with Dak\", 'Raiders, CB Prince Amukamara agree to terms', \"Meyer: Haskins needs 'great players,' 'elite culture'\", \"Colts excited about '1-1 punch' in RBs Mack, Taylor\", 'NFL to closely monitor restart of soccer in Europe', 'Falcons could bring in competition for Younghoe Koo', 'Jets showing interest in free-agent CB Logan Ryan', \"Cards' Isaiah Simmons to focus on 1 position in NFL\", \"Dolphins' Tua Tagovailoa tops jersey sales since draft\", \"Gase: What Frank Gore brings to Jets is 'hard to teach'\", 'cbs-news', 'At least 42 coronavirus cases linked to multiday church event in Maine', 'Co-founder of Black Lives Matter releases new book on organizing movements', 'How do I vote in my state in the 2020 election?', 'Woman in her 30s died from COVID-19 on a flight', 'New coronavirus cases surging across the U.S.', 'McConnell urged White House not to make a deal on stimulus bill ahead of election', 'Coronavirus hospitalizations spike in states across the U.S.', 'Trump and Joe Biden will have mics muted during parts of final debate', 'California releases new guidelines for theme park reopenings', 'Live Updates: COVID-19 cases surge in the U.S.', 'recode', 'Democratic super PAC Future Forward and Dustin Moskovitz are spending $100 million against Trump', 'Bill Barr and Elizabeth Warren united behind Google antitrust lawsuit', 'The US Justice Department sues Google over its search practices', 'Trump’s FCC wants to rewrite Section 230 and change how social media works', 'Voter registration and early voting have reached record-breaking levels', 'Facebook and Twitter limit traffic to New York Post story about Hunter Biden', 'How is Germany doing with Covid-19? The country has fared better than its neighbors.', 'President Trump is largely responsible for spreading disinformation about mail-in voting', 'Virginia online voter registration website down hours before the deadline', 'How to listen to Vox with Google Assistant, on Google Home or Android, with “Your News Update”', 'next-big-future', 'Tesla Battery Expert Dahn Says Existing Lithium Ion Are Already Beyond 3 Million Mile Batteries', 'US Army and Navy Demo 300 Kilowatt Laser by 2022 and Navy Targets 500 Kilowatts by 2024 | NextBigFuture.com', 'army', 'Super Long Range Cannons Could Create Global Trench Warfare 2.0', 'future', '', 'energy', 'Kirk Sorensen Updates His Molten Salt Reactor Company', 'SpaceX Almost Has 100 Orbital Launches But Blue Origin is Just Suborbital', 'space', 'new-scientist', 'Covid-19 news: UK government imposes tier three rules in Manchester', \"UK's vital covid-19 infection tracking survey deluged by complaints\", 'Venus might not have signs of life after all, say astronomers', 'UK trial plans to infect volunteers with the coronavirus in January', 'NASA is about to grab a chunk of rock from asteroid Bennu', \"India's coronavirus pandemic is leading to many more deaths from TB\", 'Where did coronavirus come from? And other covid-19 questions answered', 'Rethinking your pension may just be the greenest thing you can do', 'We must pay attention to subtle yet deadly aspects of climate change', 'It is bad science to say covid-19 infections will create herd immunity', 'polygon', 'Twitch issued tons of DMCA takedown notices today', 'Alexandria Ocasio-Cortez will stream Among Us on Twitch to encourage voting', 'Destiny 2: Beyond Light story trailer shows off the main villain', 'Fallout New Vegas remake modders chugging along on 10th anniversary', 'Assassin’s Creed Valhalla season pass includes Beowulf quest, two full expansions', 'Apex Legends’ Halloween Shadow Royale event adds wall-running', 'Pac-Man battle royale game, Mega Tunnel Battle, coming to Google Stadia', 'Halo Master Chief Collection will be 120 fps on Xbox Series X', 'Pokémon Go adds facemasks, Verizon-exclusive event', 'The Sims 4’s new Japanese-inspired winter expansion coming Nov. 13', 'the-hill', \"Trump expresses unhappiness with '60 Minutes' interview, Lesley Stahl | TheHill\", 'Progress, but no breakthrough, on coronavirus relief | TheHill', 'Judge rules Breonna Taylor grand jurors may speak about case | TheHill', 'Trump remarks put pressure on Barr | TheHill', 'Senate to vote Monday to confirm Amy Coney Barrett to Supreme Court | TheHill', \"Durbin signals he isn't interested in chairing Judiciary Committee | TheHill\", 'Democrats seem unlikely to move against Feinstein | TheHill', 'Justice Department charges Google with illegally maintaining search monopoly | TheHill', \"Trump tells Fox he wants bigger relief deal as Pelosi's deadline nears | TheHill\", 'McConnell aims for unity amid growing divisions with Trump | TheHill', 'the-next-web', 'JBL L82 Classic review: These retro speakers offer modern acoustics', \"Bored at home? Here's 10 handy tools you can build with Python\", 'How Photoshop’s new Neural Filters harness AI to generate new pixels', 'All the new AI-powered features Adobe announced for its creative suite', 'Adobe brings Illustrator to iPad and Fresco to iPhone', 'Here’s why cargo bikes make more sense than vans for inner city deliveries', 'DxOMark debuts a new way to rate phone displays', 'Forget ‘users’ and focus on the 7 steps to make your organization ‘memberful’', 'The ultimate guide to getting hired as a Python programmer', '6 things you should know before choosing a web hosting company', 'nhl-news', \"Blackhawks issue letter to fans, say they're committed to rebuilding\", \"Color of Hockey: O'Ree not slowing down at 85\", '2021 World Junior Championship schedule released', 'Five Questions with Nevin Markwart', 'Bruins look to remain Stanley Cup contender after adding Smith', 'Sabres hope addition of Hall, Staal helps end nine-season playoff drought', 'Olczyk: NHL lucky to have had Doc Emrick', 'Fantasy hockey mock draft 1.0 for 2020-21', 'Emrick retiring from hockey broadcasting after 47 years', 'NHL Free Agent Tracker', 'techcrunch', 'Netflix to test free weekend-long access in India', 'Daily Crunch: DOJ files antitrust suit against Google', 'Apple HomePod update brings Intercom and other new features', 'Now may be the best time to become a full-stack developer', 'Cloud Foundry coalesces around Kubernetes', 'Synthetaic raises $3.5M to train AI with synthetic data', 'Snap shares explode after blowing past earnings expectations', \"Here's why Netflix shares are off after reporting earnings\", 'Netflix user growth slows as production ramps up again', 'Adobe brings its misinformation-fighting content attribution tool to the Photoshop beta']\n"
          ],
          "name": "stdout"
        }
      ]
    },
    {
      "cell_type": "code",
      "metadata": {
        "id": "eKe1daeVJuS7",
        "outputId": "9460eb3b-1bbe-4682-8ce3-ae485b9f2082",
        "colab": {
          "base_uri": "https://localhost:8080/",
          "height": 482
        }
      },
      "source": [
        "from sklearn.feature_extraction import text\n",
        "import matplotlib.pyplot as plt\n",
        "stop_words = text.ENGLISH_STOP_WORDS\n",
        "vectorizer = text.CountVectorizer(stop_words=stop_words, min_df=10)\n",
        "X = vectorizer.fit_transform(headlines)\n",
        "keywordDCT = sorted(vectorizer.vocabulary_.items(), key = lambda x:x[1], reverse = True)\n",
        "keywordDF = pd.DataFrame(keywordDCT, columns = ['keywords', 'counts'])\n",
        "print(keywordDF[:10])\n",
        "plt.bar(keywordDF['keywords'][:10], keywordDF['counts'][:10])\n",
        "plt.title('Top 10 Trends in News')\n",
        "plt.ylabel('# of Occurances in Headlines')\n",
        "plt.xlabel('Trends')\n",
        "plt.show()"
      ],
      "execution_count": 22,
      "outputs": [
        {
          "output_type": "stream",
          "text": [
            "   keywords  counts\n",
            "0     trump      15\n",
            "1   thehill      14\n",
            "2      says      13\n",
            "3      news      12\n",
            "4       new      11\n",
            "5   insider      10\n",
            "6       ign       9\n",
            "7    google       8\n",
            "8  election       7\n",
            "9     covid       6\n"
          ],
          "name": "stdout"
        },
        {
          "output_type": "display_data",
          "data": {
            "image/png": "[encoded data removed]",
            "text/plain": [
              "<Figure size 432x288 with 1 Axes>"
            ]
          },
          "metadata": {
            "tags": [],
            "needs_background": "light"
          }
        }
      ]
    }
  ]
}