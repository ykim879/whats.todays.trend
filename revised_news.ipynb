{
 "cells": [
  {
   "cell_type": "markdown",
   "metadata": {
    "colab_type": "text",
    "id": "view-in-github"
   },
   "source": [
    "<a href=\"https://colab.research.google.com/github/ykim879/whats.todays.trend/blob/master/revised_news.ipynb\" target=\"_parent\"><img src=\"https://colab.research.google.com/assets/colab-badge.svg\" alt=\"Open In Colab\"/></a>"
   ]
  },
  {
   "cell_type": "code",
   "execution_count": 58,
   "metadata": {
    "id": "bnx9G1CsJb4x"
   },
   "outputs": [],
   "source": [
    "import queue\n",
    "import threading\n",
    "def eachNewsHeadlines(ID, q):\n",
    "\tresponse = requests.get('https://newsapi.org/v2/top-headlines?sources=' + ID + '&apiKey=' + key)\n",
    "\tjson = response.json()\n",
    "\tif json['status'] != 'ok':\n",
    "\t\traise IOError('API key is probably overused :(')\n",
    "\ttopNews = []\n",
    "\ttopNews.append(ID)\n",
    "\tfor elem in json['articles']:\n",
    "\t\ttopNews.append(elem['title'])\n",
    "\tq.put(topNews)"
   ]
  },
  {
   "cell_type": "code",
   "execution_count": 59,
   "metadata": {
    "colab": {
     "base_uri": "https://localhost:8080/",
     "height": 1000
    },
    "id": "Mcsm2sdtIlwS",
    "outputId": "5d5537ec-3342-43e5-e67e-ea18db85f414"
   },
   "outputs": [
    {
     "name": "stderr",
     "output_type": "stream",
     "text": [
      "Exception in thread Thread-166:\n",
      "Traceback (most recent call last):\n",
      "  File \"/Users/yiyeon1/opt/anaconda3/lib/python3.8/site-packages/urllib3/connection.py\", line 159, in _new_conn\n",
      "    conn = connection.create_connection(\n",
      "  File \"/Users/yiyeon1/opt/anaconda3/lib/python3.8/site-packages/urllib3/util/connection.py\", line 61, in create_connection\n",
      "    for res in socket.getaddrinfo(host, port, family, socket.SOCK_STREAM):\n",
      "  File \"/Users/yiyeon1/opt/anaconda3/lib/python3.8/socket.py\", line 918, in getaddrinfo\n",
      "    for res in _socket.getaddrinfo(host, port, family, type, proto, flags):\n",
      "socket.gaierror: [Errno 8] nodename nor servname provided, or not known\n",
      "\n",
      "During handling of the above exception, another exception occurred:\n",
      "\n",
      "Traceback (most recent call last):\n",
      "  File \"/Users/yiyeon1/opt/anaconda3/lib/python3.8/site-packages/urllib3/connectionpool.py\", line 670, in urlopen\n",
      "    httplib_response = self._make_request(\n",
      "  File \"/Users/yiyeon1/opt/anaconda3/lib/python3.8/site-packages/urllib3/connectionpool.py\", line 381, in _make_request\n",
      "    self._validate_conn(conn)\n",
      "  File \"/Users/yiyeon1/opt/anaconda3/lib/python3.8/site-packages/urllib3/connectionpool.py\", line 976, in _validate_conn\n",
      "    conn.connect()\n",
      "  File \"/Users/yiyeon1/opt/anaconda3/lib/python3.8/site-packages/urllib3/connection.py\", line 308, in connect\n",
      "    conn = self._new_conn()\n",
      "  File \"/Users/yiyeon1/opt/anaconda3/lib/python3.8/site-packages/urllib3/connection.py\", line 171, in _new_conn\n",
      "    raise NewConnectionError(\n",
      "urllib3.exceptions.NewConnectionError: <urllib3.connection.HTTPSConnection object at 0x1208e8b20>: Failed to establish a new connection: [Errno 8] nodename nor servname provided, or not known\n",
      "\n",
      "During handling of the above exception, another exception occurred:\n",
      "\n",
      "Traceback (most recent call last):\n",
      "  File \"/Users/yiyeon1/opt/anaconda3/lib/python3.8/site-packages/requests/adapters.py\", line 439, in send\n",
      "    resp = conn.urlopen(\n",
      "  File \"/Users/yiyeon1/opt/anaconda3/lib/python3.8/site-packages/urllib3/connectionpool.py\", line 724, in urlopen\n",
      "    retries = retries.increment(\n",
      "  File \"/Users/yiyeon1/opt/anaconda3/lib/python3.8/site-packages/urllib3/util/retry.py\", line 439, in increment\n",
      "    raise MaxRetryError(_pool, url, error or ResponseError(cause))\n",
      "urllib3.exceptions.MaxRetryError: HTTPSConnectionPool(host='newsapi.org', port=443): Max retries exceeded with url: /v2/top-headlines?sources=time&apiKey=5e74c7cf9e344e3e8c04210f9b75125b (Caused by NewConnectionError('<urllib3.connection.HTTPSConnection object at 0x1208e8b20>: Failed to establish a new connection: [Errno 8] nodename nor servname provided, or not known'))\n",
      "\n",
      "During handling of the above exception, another exception occurred:\n",
      "\n",
      "Traceback (most recent call last):\n",
      "  File \"/Users/yiyeon1/opt/anaconda3/lib/python3.8/threading.py\", line 932, in _bootstrap_inner\n",
      "    self.run()\n",
      "  File \"/Users/yiyeon1/opt/anaconda3/lib/python3.8/threading.py\", line 870, in run\n",
      "    self._target(*self._args, **self._kwargs)\n",
      "  File \"<ipython-input-58-5c882d89a6eb>\", line 4, in eachNewsHeadlines\n",
      "  File \"/Users/yiyeon1/opt/anaconda3/lib/python3.8/site-packages/requests/api.py\", line 76, in get\n",
      "    return request('get', url, params=params, **kwargs)\n",
      "  File \"/Users/yiyeon1/opt/anaconda3/lib/python3.8/site-packages/requests/api.py\", line 61, in request\n",
      "    return session.request(method=method, url=url, **kwargs)\n",
      "  File \"/Users/yiyeon1/opt/anaconda3/lib/python3.8/site-packages/requests/sessions.py\", line 530, in request\n",
      "    resp = self.send(prep, **send_kwargs)\n",
      "  File \"/Users/yiyeon1/opt/anaconda3/lib/python3.8/site-packages/requests/sessions.py\", line 643, in send\n",
      "    r = adapter.send(request, **kwargs)\n",
      "  File \"/Users/yiyeon1/opt/anaconda3/lib/python3.8/site-packages/requests/adapters.py\", line 516, in send\n",
      "    raise ConnectionError(e, request=request)\n",
      "requests.exceptions.ConnectionError: HTTPSConnectionPool(host='newsapi.org', port=443): Max retries exceeded with url: /v2/top-headlines?sources=time&apiKey=5e74c7cf9e344e3e8c04210f9b75125b (Caused by NewConnectionError('<urllib3.connection.HTTPSConnection object at 0x1208e8b20>: Failed to establish a new connection: [Errno 8] nodename nor servname provided, or not known'))\n",
      "Exception in thread Exception in thread Exception in thread Exception in thread Thread-155Thread-169:\n",
      "Traceback (most recent call last):\n",
      "  File \"/Users/yiyeon1/opt/anaconda3/lib/python3.8/threading.py\", line 932, in _bootstrap_inner\n",
      "Thread-146:\n",
      "Traceback (most recent call last):\n",
      "  File \"/Users/yiyeon1/opt/anaconda3/lib/python3.8/threading.py\", line 932, in _bootstrap_inner\n",
      "Exception in thread Thread-157:\n",
      "Traceback (most recent call last):\n",
      "  File \"/Users/yiyeon1/opt/anaconda3/lib/python3.8/threading.py\", line 932, in _bootstrap_inner\n",
      "Exception in thread Thread-168:\n",
      "Traceback (most recent call last):\n",
      "  File \"/Users/yiyeon1/opt/anaconda3/lib/python3.8/threading.py\", line 932, in _bootstrap_inner\n",
      "    self.run()\n",
      "  File \"/Users/yiyeon1/opt/anaconda3/lib/python3.8/threading.py\", line 870, in run\n",
      "    self._target(*self._args, **self._kwargs)\n",
      "  File \"<ipython-input-58-5c882d89a6eb>\", line 7, in eachNewsHeadlines\n",
      "OSError: API key is probably overused :(\n",
      "    self.run()\n",
      "  File \"/Users/yiyeon1/opt/anaconda3/lib/python3.8/threading.py\", line 870, in run\n",
      "Exception in thread     self.run()\n",
      "  File \"/Users/yiyeon1/opt/anaconda3/lib/python3.8/threading.py\", line 870, in run\n",
      "    :\n",
      "Thread-162Traceback (most recent call last):\n",
      "Exception in thread Thread-150:\n",
      "Traceback (most recent call last):\n",
      "  File \"/Users/yiyeon1/opt/anaconda3/lib/python3.8/threading.py\", line 932, in _bootstrap_inner\n",
      "self.run()\n",
      "  File \"/Users/yiyeon1/opt/anaconda3/lib/python3.8/threading.py\", line 870, in run\n",
      ":\n",
      "  File \"/Users/yiyeon1/opt/anaconda3/lib/python3.8/threading.py\", line 932, in _bootstrap_inner\n",
      "Traceback (most recent call last):\n",
      "Thread-147    self._target(*self._args, **self._kwargs)\n",
      "  File \"<ipython-input-58-5c882d89a6eb>\", line 7, in eachNewsHeadlines\n",
      "      File \"/Users/yiyeon1/opt/anaconda3/lib/python3.8/threading.py\", line 932, in _bootstrap_inner\n",
      "    self._target(*self._args, **self._kwargs)\n",
      "  File \"<ipython-input-58-5c882d89a6eb>\", line 7, in eachNewsHeadlines\n",
      "Exception in thread Thread-165:\n",
      "Traceback (most recent call last):\n",
      "  File \"/Users/yiyeon1/opt/anaconda3/lib/python3.8/threading.py\", line 932, in _bootstrap_inner\n",
      "self._target(*self._args, **self._kwargs)\n",
      "  File \"<ipython-input-58-5c882d89a6eb>\", line 7, in eachNewsHeadlines\n",
      ":\n",
      "Traceback (most recent call last):\n",
      "  File \"/Users/yiyeon1/opt/anaconda3/lib/python3.8/threading.py\", line 932, in _bootstrap_inner\n",
      "    OSErrorself.run()\n",
      "  File \"/Users/yiyeon1/opt/anaconda3/lib/python3.8/threading.py\", line 870, in run\n",
      "    OSErrorself.run()\n",
      "  File \"/Users/yiyeon1/opt/anaconda3/lib/python3.8/threading.py\", line 870, in run\n",
      ": API key is probably overused :(\n",
      "    : API key is probably overused :(\n",
      "self.run()\n",
      "  File \"/Users/yiyeon1/opt/anaconda3/lib/python3.8/threading.py\", line 870, in run\n",
      "        self.run()\n",
      "  File \"/Users/yiyeon1/opt/anaconda3/lib/python3.8/threading.py\", line 870, in run\n",
      "self._target(*self._args, **self._kwargs)\n",
      "  File \"<ipython-input-58-5c882d89a6eb>\", line 7, in eachNewsHeadlines\n",
      "OSError: API key is probably overused :(\n",
      "    self._target(*self._args, **self._kwargs)\n",
      "  File \"<ipython-input-58-5c882d89a6eb>\", line 7, in eachNewsHeadlines\n",
      "    self._target(*self._args, **self._kwargs)\n",
      "  File \"<ipython-input-58-5c882d89a6eb>\", line 7, in eachNewsHeadlines\n",
      "        self._target(*self._args, **self._kwargs)\n",
      "  File \"<ipython-input-58-5c882d89a6eb>\", line 7, in eachNewsHeadlines\n",
      "self.run()\n",
      "  File \"/Users/yiyeon1/opt/anaconda3/lib/python3.8/threading.py\", line 870, in run\n",
      "OSError: API key is probably overused :(\n",
      "OSError: API key is probably overused :(\n",
      "OSErrorOSError: API key is probably overused :(\n",
      ": API key is probably overused :(\n",
      "    self._target(*self._args, **self._kwargs)\n",
      "  File \"<ipython-input-58-5c882d89a6eb>\", line 7, in eachNewsHeadlines\n",
      "OSError: API key is probably overused :(\n",
      "Exception in thread Thread-130:\n",
      "Traceback (most recent call last):\n",
      "  File \"/Users/yiyeon1/opt/anaconda3/lib/python3.8/threading.py\", line 932, in _bootstrap_inner\n",
      "    self.run()\n",
      "  File \"/Users/yiyeon1/opt/anaconda3/lib/python3.8/threading.py\", line 870, in run\n",
      "    self._target(*self._args, **self._kwargs)\n",
      "  File \"<ipython-input-58-5c882d89a6eb>\", line 7, in eachNewsHeadlines\n",
      "OSError: API key is probably overused :(\n"
     ]
    },
    {
     "name": "stderr",
     "output_type": "stream",
     "text": [
      "Exception in thread Thread-132:\n",
      "Traceback (most recent call last):\n",
      "  File \"/Users/yiyeon1/opt/anaconda3/lib/python3.8/threading.py\", line 932, in _bootstrap_inner\n",
      "    self.run()\n",
      "  File \"/Users/yiyeon1/opt/anaconda3/lib/python3.8/threading.py\", line 870, in run\n",
      "    self._target(*self._args, **self._kwargs)\n",
      "  File \"<ipython-input-58-5c882d89a6eb>\", line 7, in eachNewsHeadlines\n",
      "OSError: API key is probably overused :(\n"
     ]
    }
   ],
   "source": [
    "import requests\n",
    "import pandas as pd\n",
    "key = '5e74c7cf9e344e3e8c04210f9b75125b'\n",
    "response = requests.get('https://newsapi.org/v2/sources?'\n",
    "\t\t\t   'language=en&country=us&'\n",
    "\t\t\t   'apiKey=' + key)\n",
    "sources = response.json()['sources']\n",
    "df = pd.DataFrame();\n",
    "pd.set_option('display.max_columns', 7)\n",
    "for source in sources:\n",
    "  row = pd.Series(source)\n",
    "  df = df.append(row, ignore_index = True)\n",
    "df.set_index(\"name\", inplace = True)\n",
    "#collects headline\n",
    "threads = []\n",
    "q = queue.Queue()\n",
    "for id in df['id']:\n",
    "  t = threading.Thread(target = eachNewsHeadlines, args = (id, q))\n",
    "  threads.append(t)\n",
    "  t.start()\n",
    "for t in threads:\n",
    "  t.join()\n",
    "headlines = []\n",
    "while not q.empty():\n",
    "  headlines.extend(q.get())"
   ]
  },
  {
   "cell_type": "code",
   "execution_count": 60,
   "metadata": {
    "colab": {
     "base_uri": "https://localhost:8080/",
     "height": 482
    },
    "id": "eKe1daeVJuS7",
    "outputId": "9460eb3b-1bbe-4682-8ce3-ae485b9f2082"
   },
   "outputs": [
    {
     "name": "stdout",
     "output_type": "stream",
     "text": [
      "     keywords  counts\n",
      "0       world      53\n",
      "1         win      52\n",
      "2       watch      51\n",
      "3       votes      50\n",
      "4     vaccine      49\n",
      "5       trump      48\n",
      "6  transition      47\n",
      "7        time      46\n",
      "8     thehill      45\n",
      "9        team      44\n"
     ]
    },
    {
     "data": {
      "image/png": "[encoded data removed]",
      "text/plain": [
       "<Figure size 1440x360 with 1 Axes>"
      ]
     },
     "metadata": {
      "needs_background": "light"
     },
     "output_type": "display_data"
    }
   ],
   "source": [
    "from sklearn.feature_extraction import text\n",
    "import matplotlib.pyplot as plt\n",
    "from datetime import date\n",
    "\n",
    "today = date.today()\n",
    "d1 = today.strftime(\"%m/%d/%Y\")\n",
    "stop_words = text.ENGLISH_STOP_WORDS.union({'says','news','new'})\n",
    "vectorizer1 = text.CountVectorizer(stop_words=stop_words, min_df= 6)\n",
    "vectorizer2 = text.CountVectorizer(stop_words=stop_words, min_df = 10)\n",
    "X = vectorizer1.fit_transform(headlines)\n",
    "keywordDCT = sorted(vectorizer1.vocabulary_.items(), key = lambda x:x[1], reverse = True)\n",
    "keywordDF = pd.DataFrame(keywordDCT, columns = ['keywords', 'counts'])\n",
    "print(keywordDF[:10])\n",
    "plt.figure(figsize=(20,5))\n",
    "plt.bar(keywordDF['keywords'][:10], keywordDF['counts'][:10])\n",
    "plt.title('Top 10 Trends in News: ' + d1)\n",
    "plt.ylabel('# of Occurances in Headlines')\n",
    "plt.xlabel('Trends')\n",
    "plt.show()"
   ]
  },
  {
   "cell_type": "code",
   "execution_count": 61,
   "metadata": {},
   "outputs": [
    {
     "data": {
      "text/html": [
       "<div>\n",
       "<style scoped>\n",
       "    .dataframe tbody tr th:only-of-type {\n",
       "        vertical-align: middle;\n",
       "    }\n",
       "\n",
       "    .dataframe tbody tr th {\n",
       "        vertical-align: top;\n",
       "    }\n",
       "\n",
       "    .dataframe thead th {\n",
       "        text-align: right;\n",
       "    }\n",
       "</style>\n",
       "<table border=\"1\" class=\"dataframe\">\n",
       "  <thead>\n",
       "    <tr style=\"text-align: right;\">\n",
       "      <th></th>\n",
       "      <th>keywords</th>\n",
       "      <th>counts</th>\n",
       "    </tr>\n",
       "  </thead>\n",
       "  <tbody>\n",
       "    <tr>\n",
       "      <th>0</th>\n",
       "      <td>world</td>\n",
       "      <td>53</td>\n",
       "    </tr>\n",
       "    <tr>\n",
       "      <th>1</th>\n",
       "      <td>win</td>\n",
       "      <td>52</td>\n",
       "    </tr>\n",
       "    <tr>\n",
       "      <th>2</th>\n",
       "      <td>watch</td>\n",
       "      <td>51</td>\n",
       "    </tr>\n",
       "    <tr>\n",
       "      <th>3</th>\n",
       "      <td>votes</td>\n",
       "      <td>50</td>\n",
       "    </tr>\n",
       "    <tr>\n",
       "      <th>4</th>\n",
       "      <td>vaccine</td>\n",
       "      <td>49</td>\n",
       "    </tr>\n",
       "    <tr>\n",
       "      <th>5</th>\n",
       "      <td>trump</td>\n",
       "      <td>48</td>\n",
       "    </tr>\n",
       "    <tr>\n",
       "      <th>6</th>\n",
       "      <td>transition</td>\n",
       "      <td>47</td>\n",
       "    </tr>\n",
       "    <tr>\n",
       "      <th>7</th>\n",
       "      <td>time</td>\n",
       "      <td>46</td>\n",
       "    </tr>\n",
       "    <tr>\n",
       "      <th>8</th>\n",
       "      <td>thehill</td>\n",
       "      <td>45</td>\n",
       "    </tr>\n",
       "    <tr>\n",
       "      <th>9</th>\n",
       "      <td>team</td>\n",
       "      <td>44</td>\n",
       "    </tr>\n",
       "    <tr>\n",
       "      <th>10</th>\n",
       "      <td>states</td>\n",
       "      <td>43</td>\n",
       "    </tr>\n",
       "    <tr>\n",
       "      <th>11</th>\n",
       "      <td>senate</td>\n",
       "      <td>42</td>\n",
       "    </tr>\n",
       "    <tr>\n",
       "      <th>12</th>\n",
       "      <td>results</td>\n",
       "      <td>41</td>\n",
       "    </tr>\n",
       "    <tr>\n",
       "      <th>13</th>\n",
       "      <td>ps5</td>\n",
       "      <td>40</td>\n",
       "    </tr>\n",
       "    <tr>\n",
       "      <th>14</th>\n",
       "      <td>president</td>\n",
       "      <td>39</td>\n",
       "    </tr>\n",
       "    <tr>\n",
       "      <th>15</th>\n",
       "      <td>presidency</td>\n",
       "      <td>38</td>\n",
       "    </tr>\n",
       "    <tr>\n",
       "      <th>16</th>\n",
       "      <td>post</td>\n",
       "      <td>37</td>\n",
       "    </tr>\n",
       "    <tr>\n",
       "      <th>17</th>\n",
       "      <td>pfizer</td>\n",
       "      <td>36</td>\n",
       "    </tr>\n",
       "    <tr>\n",
       "      <th>18</th>\n",
       "      <td>nfl</td>\n",
       "      <td>35</td>\n",
       "    </tr>\n",
       "    <tr>\n",
       "      <th>19</th>\n",
       "      <td>million</td>\n",
       "      <td>34</td>\n",
       "    </tr>\n",
       "    <tr>\n",
       "      <th>20</th>\n",
       "      <td>live</td>\n",
       "      <td>33</td>\n",
       "    </tr>\n",
       "    <tr>\n",
       "      <th>21</th>\n",
       "      <td>legal</td>\n",
       "      <td>32</td>\n",
       "    </tr>\n",
       "    <tr>\n",
       "      <th>22</th>\n",
       "      <td>latest</td>\n",
       "      <td>31</td>\n",
       "    </tr>\n",
       "    <tr>\n",
       "      <th>23</th>\n",
       "      <td>know</td>\n",
       "      <td>30</td>\n",
       "    </tr>\n",
       "    <tr>\n",
       "      <th>24</th>\n",
       "      <td>just</td>\n",
       "      <td>29</td>\n",
       "    </tr>\n",
       "    <tr>\n",
       "      <th>25</th>\n",
       "      <td>joe</td>\n",
       "      <td>28</td>\n",
       "    </tr>\n",
       "    <tr>\n",
       "      <th>26</th>\n",
       "      <td>insider</td>\n",
       "      <td>27</td>\n",
       "    </tr>\n",
       "    <tr>\n",
       "      <th>27</th>\n",
       "      <td>ign</td>\n",
       "      <td>26</td>\n",
       "    </tr>\n",
       "    <tr>\n",
       "      <th>28</th>\n",
       "      <td>hours</td>\n",
       "      <td>25</td>\n",
       "    </tr>\n",
       "    <tr>\n",
       "      <th>29</th>\n",
       "      <td>georgia</td>\n",
       "      <td>24</td>\n",
       "    </tr>\n",
       "    <tr>\n",
       "      <th>30</th>\n",
       "      <td>game</td>\n",
       "      <td>23</td>\n",
       "    </tr>\n",
       "    <tr>\n",
       "      <th>31</th>\n",
       "      <td>fraud</td>\n",
       "      <td>22</td>\n",
       "    </tr>\n",
       "    <tr>\n",
       "      <th>32</th>\n",
       "      <td>fox</td>\n",
       "      <td>21</td>\n",
       "    </tr>\n",
       "    <tr>\n",
       "      <th>33</th>\n",
       "      <td>fight</td>\n",
       "      <td>20</td>\n",
       "    </tr>\n",
       "    <tr>\n",
       "      <th>34</th>\n",
       "      <td>espncricinfo</td>\n",
       "      <td>19</td>\n",
       "    </tr>\n",
       "    <tr>\n",
       "      <th>35</th>\n",
       "      <td>esper</td>\n",
       "      <td>18</td>\n",
       "    </tr>\n",
       "    <tr>\n",
       "      <th>36</th>\n",
       "      <td>emergency</td>\n",
       "      <td>17</td>\n",
       "    </tr>\n",
       "    <tr>\n",
       "      <th>37</th>\n",
       "      <td>em</td>\n",
       "      <td>16</td>\n",
       "    </tr>\n",
       "    <tr>\n",
       "      <th>38</th>\n",
       "      <td>election</td>\n",
       "      <td>15</td>\n",
       "    </tr>\n",
       "    <tr>\n",
       "      <th>39</th>\n",
       "      <td>doj</td>\n",
       "      <td>14</td>\n",
       "    </tr>\n",
       "    <tr>\n",
       "      <th>40</th>\n",
       "      <td>democrats</td>\n",
       "      <td>13</td>\n",
       "    </tr>\n",
       "    <tr>\n",
       "      <th>41</th>\n",
       "      <td>deal</td>\n",
       "      <td>12</td>\n",
       "    </tr>\n",
       "    <tr>\n",
       "      <th>42</th>\n",
       "      <td>covid</td>\n",
       "      <td>11</td>\n",
       "    </tr>\n",
       "    <tr>\n",
       "      <th>43</th>\n",
       "      <td>coronavirus</td>\n",
       "      <td>10</td>\n",
       "    </tr>\n",
       "    <tr>\n",
       "      <th>44</th>\n",
       "      <td>com</td>\n",
       "      <td>9</td>\n",
       "    </tr>\n",
       "    <tr>\n",
       "      <th>45</th>\n",
       "      <td>claims</td>\n",
       "      <td>8</td>\n",
       "    </tr>\n",
       "    <tr>\n",
       "      <th>46</th>\n",
       "      <td>business</td>\n",
       "      <td>7</td>\n",
       "    </tr>\n",
       "    <tr>\n",
       "      <th>47</th>\n",
       "      <td>big</td>\n",
       "      <td>6</td>\n",
       "    </tr>\n",
       "    <tr>\n",
       "      <th>48</th>\n",
       "      <td>biden</td>\n",
       "      <td>5</td>\n",
       "    </tr>\n",
       "    <tr>\n",
       "      <th>49</th>\n",
       "      <td>best</td>\n",
       "      <td>4</td>\n",
       "    </tr>\n",
       "    <tr>\n",
       "      <th>50</th>\n",
       "      <td>barr</td>\n",
       "      <td>3</td>\n",
       "    </tr>\n",
       "    <tr>\n",
       "      <th>51</th>\n",
       "      <td>apple</td>\n",
       "      <td>2</td>\n",
       "    </tr>\n",
       "    <tr>\n",
       "      <th>52</th>\n",
       "      <td>2020</td>\n",
       "      <td>1</td>\n",
       "    </tr>\n",
       "    <tr>\n",
       "      <th>53</th>\n",
       "      <td>19</td>\n",
       "      <td>0</td>\n",
       "    </tr>\n",
       "  </tbody>\n",
       "</table>\n",
       "</div>"
      ],
      "text/plain": [
       "        keywords  counts\n",
       "0          world      53\n",
       "1            win      52\n",
       "2          watch      51\n",
       "3          votes      50\n",
       "4        vaccine      49\n",
       "5          trump      48\n",
       "6     transition      47\n",
       "7           time      46\n",
       "8        thehill      45\n",
       "9           team      44\n",
       "10        states      43\n",
       "11        senate      42\n",
       "12       results      41\n",
       "13           ps5      40\n",
       "14     president      39\n",
       "15    presidency      38\n",
       "16          post      37\n",
       "17        pfizer      36\n",
       "18           nfl      35\n",
       "19       million      34\n",
       "20          live      33\n",
       "21         legal      32\n",
       "22        latest      31\n",
       "23          know      30\n",
       "24          just      29\n",
       "25           joe      28\n",
       "26       insider      27\n",
       "27           ign      26\n",
       "28         hours      25\n",
       "29       georgia      24\n",
       "30          game      23\n",
       "31         fraud      22\n",
       "32           fox      21\n",
       "33         fight      20\n",
       "34  espncricinfo      19\n",
       "35         esper      18\n",
       "36     emergency      17\n",
       "37            em      16\n",
       "38      election      15\n",
       "39           doj      14\n",
       "40     democrats      13\n",
       "41          deal      12\n",
       "42         covid      11\n",
       "43   coronavirus      10\n",
       "44           com       9\n",
       "45        claims       8\n",
       "46      business       7\n",
       "47           big       6\n",
       "48         biden       5\n",
       "49          best       4\n",
       "50          barr       3\n",
       "51         apple       2\n",
       "52          2020       1\n",
       "53            19       0"
      ]
     },
     "execution_count": 61,
     "metadata": {},
     "output_type": "execute_result"
    }
   ],
   "source": [
    "keywordDF"
   ]
  },
  {
   "cell_type": "markdown",
   "metadata": {},
   "source": [
    "# Data for csv label\n",
    "1. import the Data\n",
    "2. change Category to integer values which are 0 to 4\n",
    "3. split the data to prediction set and test set"
   ]
  },
  {
   "cell_type": "code",
   "execution_count": 62,
   "metadata": {},
   "outputs": [
    {
     "name": "stdout",
     "output_type": "stream",
     "text": [
      "The original files: Total: 1489 documents with 5 categories\n",
      "      ArticleId                                               Text  \\\n",
      "0          1833  worldcom ex-boss launches defence lawyers defe...   \n",
      "1           154  german business confidence slides german busin...   \n",
      "2          1101  bbc poll indicates economic gloom citizens in ...   \n",
      "3          1976  lifestyle  governs mobile choice  faster  bett...   \n",
      "4           917  enron bosses in $168m payout eighteen former e...   \n",
      "...         ...                                                ...   \n",
      "1485        857  double eviction from big brother model caprice...   \n",
      "1486        325  dj double act revamp chart show dj duo jk and ...   \n",
      "1487       1590  weak dollar hits reuters revenues at media gro...   \n",
      "1488       1587  apple ipod family expands market apple has exp...   \n",
      "1489        538  santy worm makes unwelcome visit thousands of ...   \n",
      "\n",
      "           Category  \n",
      "0          business  \n",
      "1          business  \n",
      "2          business  \n",
      "3              tech  \n",
      "4          business  \n",
      "...             ...  \n",
      "1485  entertainment  \n",
      "1486  entertainment  \n",
      "1487       business  \n",
      "1488           tech  \n",
      "1489           tech  \n",
      "\n",
      "[1490 rows x 3 columns]\n"
     ]
    }
   ],
   "source": [
    "import pandas as pd\n",
    "from sklearn.naive_bayes import GaussianNB\n",
    "from sklearn.feature_extraction import text\n",
    "import matplotlib.pyplot as plt\n",
    "stop_words = text.ENGLISH_STOP_WORDS\n",
    "data = pd.read_csv('BBC News Train.csv')\n",
    "print(\"The original files: Total: 1489 documents with 5 categories\")\n",
    "print(data)"
   ]
  },
  {
   "cell_type": "code",
   "execution_count": 63,
   "metadata": {},
   "outputs": [
    {
     "data": {
      "text/html": [
       "<div>\n",
       "<style scoped>\n",
       "    .dataframe tbody tr th:only-of-type {\n",
       "        vertical-align: middle;\n",
       "    }\n",
       "\n",
       "    .dataframe tbody tr th {\n",
       "        vertical-align: top;\n",
       "    }\n",
       "\n",
       "    .dataframe thead th {\n",
       "        text-align: right;\n",
       "    }\n",
       "</style>\n",
       "<table border=\"1\" class=\"dataframe\">\n",
       "  <thead>\n",
       "    <tr style=\"text-align: right;\">\n",
       "      <th></th>\n",
       "      <th>ArticleId</th>\n",
       "      <th>Text</th>\n",
       "      <th>Category</th>\n",
       "    </tr>\n",
       "  </thead>\n",
       "  <tbody>\n",
       "    <tr>\n",
       "      <th>0</th>\n",
       "      <td>1833</td>\n",
       "      <td>worldcom ex-boss launches defence lawyers defe...</td>\n",
       "      <td>0</td>\n",
       "    </tr>\n",
       "    <tr>\n",
       "      <th>1</th>\n",
       "      <td>154</td>\n",
       "      <td>german business confidence slides german busin...</td>\n",
       "      <td>0</td>\n",
       "    </tr>\n",
       "    <tr>\n",
       "      <th>2</th>\n",
       "      <td>1101</td>\n",
       "      <td>bbc poll indicates economic gloom citizens in ...</td>\n",
       "      <td>0</td>\n",
       "    </tr>\n",
       "    <tr>\n",
       "      <th>3</th>\n",
       "      <td>1976</td>\n",
       "      <td>lifestyle  governs mobile choice  faster  bett...</td>\n",
       "      <td>4</td>\n",
       "    </tr>\n",
       "    <tr>\n",
       "      <th>4</th>\n",
       "      <td>917</td>\n",
       "      <td>enron bosses in $168m payout eighteen former e...</td>\n",
       "      <td>0</td>\n",
       "    </tr>\n",
       "    <tr>\n",
       "      <th>...</th>\n",
       "      <td>...</td>\n",
       "      <td>...</td>\n",
       "      <td>...</td>\n",
       "    </tr>\n",
       "    <tr>\n",
       "      <th>1485</th>\n",
       "      <td>857</td>\n",
       "      <td>double eviction from big brother model caprice...</td>\n",
       "      <td>1</td>\n",
       "    </tr>\n",
       "    <tr>\n",
       "      <th>1486</th>\n",
       "      <td>325</td>\n",
       "      <td>dj double act revamp chart show dj duo jk and ...</td>\n",
       "      <td>1</td>\n",
       "    </tr>\n",
       "    <tr>\n",
       "      <th>1487</th>\n",
       "      <td>1590</td>\n",
       "      <td>weak dollar hits reuters revenues at media gro...</td>\n",
       "      <td>0</td>\n",
       "    </tr>\n",
       "    <tr>\n",
       "      <th>1488</th>\n",
       "      <td>1587</td>\n",
       "      <td>apple ipod family expands market apple has exp...</td>\n",
       "      <td>4</td>\n",
       "    </tr>\n",
       "    <tr>\n",
       "      <th>1489</th>\n",
       "      <td>538</td>\n",
       "      <td>santy worm makes unwelcome visit thousands of ...</td>\n",
       "      <td>4</td>\n",
       "    </tr>\n",
       "  </tbody>\n",
       "</table>\n",
       "<p>1490 rows × 3 columns</p>\n",
       "</div>"
      ],
      "text/plain": [
       "      ArticleId                                               Text Category\n",
       "0          1833  worldcom ex-boss launches defence lawyers defe...        0\n",
       "1           154  german business confidence slides german busin...        0\n",
       "2          1101  bbc poll indicates economic gloom citizens in ...        0\n",
       "3          1976  lifestyle  governs mobile choice  faster  bett...        4\n",
       "4           917  enron bosses in $168m payout eighteen former e...        0\n",
       "...         ...                                                ...      ...\n",
       "1485        857  double eviction from big brother model caprice...        1\n",
       "1486        325  dj double act revamp chart show dj duo jk and ...        1\n",
       "1487       1590  weak dollar hits reuters revenues at media gro...        0\n",
       "1488       1587  apple ipod family expands market apple has exp...        4\n",
       "1489        538  santy worm makes unwelcome visit thousands of ...        4\n",
       "\n",
       "[1490 rows x 3 columns]"
      ]
     },
     "execution_count": 63,
     "metadata": {},
     "output_type": "execute_result"
    }
   ],
   "source": [
    "#step 2\n",
    "digit_data = data\n",
    "digit_label = {'business': 0, 'entertainment': 1, 'politics': 2, 'sport': 3, 'tech': 4}\n",
    "for label in digit_label.keys():\n",
    "    digit_data.loc[digit_data[\"Category\"]== label,\"Category\",]= digit_label[label]\n",
    "digit_data"
   ]
  },
  {
   "cell_type": "code",
   "execution_count": 64,
   "metadata": {},
   "outputs": [],
   "source": [
    "from sklearn.model_selection import train_test_split\n",
    "import numpy as np\n",
    "#split data into train set and test set\n",
    "df_x = digit_data[\"Text\"]\n",
    "df_y = digit_data[\"Category\"]\n",
    "x_train, x_test, y_train, y_test = train_test_split(df_x, df_y, test_size=0.2, random_state=4)\n",
    "y_train = y_train.astype('int')\n",
    "y_test = np.array(y_test)"
   ]
  },
  {
   "cell_type": "code",
   "execution_count": 65,
   "metadata": {},
   "outputs": [
    {
     "name": "stdout",
     "output_type": "stream",
     "text": [
      "The appended documents depending on the categories\n",
      "   Category                                               Text\n",
      "0         0  worldcom ex-boss launches defence lawyers defe...\n",
      "1         1  french honour for director parker british film...\n",
      "2         2  howard  truanted to play snooker  conservative...\n",
      "3         3  wales silent on grand slam talk rhys williams ...\n",
      "4         4  lifestyle  governs mobile choice  faster  bett...\n"
     ]
    }
   ],
   "source": [
    "limited_data = data\n",
    "limited_data = limited_data.groupby('Category', sort=True)['Text'].apply(' '.join).reset_index()\n",
    "print(\"The appended documents depending on the categories\")\n",
    "print(limited_data)"
   ]
  },
  {
   "cell_type": "markdown",
   "metadata": {},
   "source": [
    "# Prediction Model\n",
    "1. predict_data: calculate the true positive rate depedning on the threshold\n",
    "2. find true positive rate for mindf = [0,10]\n",
    "3. print the result"
   ]
  },
  {
   "cell_type": "code",
   "execution_count": 66,
   "metadata": {},
   "outputs": [],
   "source": [
    "from sklearn.naive_bayes import MultinomialNB\n",
    "#threshold = 6 # this is the result of the algorithm\n",
    "cv = text.CountVectorizer(stop_words=stop_words, min_df = 6)\n",
    "xtrain_v = cv.fit_transform(x_train)\n",
    "label = cv.get_feature_names()\n",
    "xtest_v = cv.transform(x_test)\n",
    "def predict_data(threshold):\n",
    "    mnb = MultinomialNB()\n",
    "    mnb.fit(xtrain_v,y_train)\n",
    "    predictions = mnb.predict(xtest_v)\n",
    "    count = 0\n",
    "    for i in range (len(predictions)):\n",
    "        if predictions[i]== y_test[i]:\n",
    "            count=count+1\n",
    "    return count/len(predictions)"
   ]
  },
  {
   "cell_type": "code",
   "execution_count": 67,
   "metadata": {},
   "outputs": [
    {
     "data": {
      "text/plain": [
       "{0: 0.9731543624161074,\n",
       " 1: 0.9731543624161074,\n",
       " 2: 0.9731543624161074,\n",
       " 3: 0.9731543624161074,\n",
       " 4: 0.9731543624161074,\n",
       " 5: 0.9731543624161074,\n",
       " 6: 0.9731543624161074,\n",
       " 7: 0.9731543624161074,\n",
       " 8: 0.9731543624161074,\n",
       " 9: 0.9731543624161074,\n",
       " 10: 0.9731543624161074}"
      ]
     },
     "execution_count": 67,
     "metadata": {},
     "output_type": "execute_result"
    }
   ],
   "source": [
    "#step 2:\n",
    "true_positive_rate = {}\n",
    "for i in range(11):\n",
    "    true_positive_rate[i] = (predict_data(i))\n",
    "true_positive_rate"
   ]
  },
  {
   "cell_type": "code",
   "execution_count": 68,
   "metadata": {},
   "outputs": [
    {
     "data": {
      "image/png": "[encoded data removed]",
      "text/plain": [
       "<Figure size 432x288 with 1 Axes>"
      ]
     },
     "metadata": {
      "needs_background": "light"
     },
     "output_type": "display_data"
    },
    {
     "name": "stdout",
     "output_type": "stream",
     "text": [
      "threshold for vocabulary ignore terms:  0  true positive rate: 0.9731543624161074\n",
      "threshold for vocabulary ignore terms:  1  true positive rate: 0.9731543624161074\n",
      "threshold for vocabulary ignore terms:  2  true positive rate: 0.9731543624161074\n",
      "threshold for vocabulary ignore terms:  3  true positive rate: 0.9731543624161074\n",
      "threshold for vocabulary ignore terms:  4  true positive rate: 0.9731543624161074\n",
      "threshold for vocabulary ignore terms:  5  true positive rate: 0.9731543624161074\n",
      "threshold for vocabulary ignore terms:  6  true positive rate: 0.9731543624161074\n",
      "threshold for vocabulary ignore terms:  7  true positive rate: 0.9731543624161074\n",
      "threshold for vocabulary ignore terms:  8  true positive rate: 0.9731543624161074\n",
      "threshold for vocabulary ignore terms:  9  true positive rate: 0.9731543624161074\n",
      "threshold for vocabulary ignore terms:  10  true positive rate: 0.9731543624161074\n",
      "Best threshold:  0  true positive rate:  0.9731543624161074\n"
     ]
    }
   ],
   "source": [
    "#step 3:\n",
    "plt.plot(true_positive_rate.keys(), true_positive_rate.values())\n",
    "plt.title('true positive rate depending on threshold')\n",
    "plt.ylabel('true positive rate')\n",
    "plt.xlabel('threshold')\n",
    "plt.show()\n",
    "for min_df in true_positive_rate.keys():\n",
    "    print(\"threshold for vocabulary ignore terms: \", min_df, \" true positive rate:\", true_positive_rate[min_df])\n",
    "threshold = max(true_positive_rate,  key=true_positive_rate.get)\n",
    "print(\"Best threshold: \", threshold, \" true positive rate: \", true_positive_rate[threshold])\n"
   ]
  },
  {
   "cell_type": "markdown",
   "metadata": {},
   "source": [
    "# Decision Tree\n",
    "Analyze important words to categorize the documents\n",
    "**decision_tree**: max depth with the threshold with criterion entropy (information gain)\n",
    "#### variables from previous methods\n",
    "**xtrain_v**: vectorized trained data using fit_transform() a.k.a it is learned\\\n",
    "**xtest_v**: vectorized test data using transform() a.k.a not learned\n",
    "**y_train**: label for xtrain\n",
    "**y_test**: label for xtest"
   ]
  },
  {
   "cell_type": "code",
   "execution_count": 69,
   "metadata": {},
   "outputs": [
    {
     "data": {
      "text/plain": [
       "(<1192x5375 sparse matrix of type '<class 'numpy.int64'>'\n",
       " \twith 141661 stored elements in Compressed Sparse Row format>,\n",
       " 5375)"
      ]
     },
     "execution_count": 69,
     "metadata": {},
     "output_type": "execute_result"
    }
   ],
   "source": [
    "xtrain_v, len(label)"
   ]
  },
  {
   "cell_type": "code",
   "execution_count": 70,
   "metadata": {},
   "outputs": [],
   "source": [
    "import sklearn\n",
    "from sklearn.ensemble import RandomForestClassifier\n",
    "xtrain_a = xtrain_v.toarray()\n",
    "xtest_a = xtest_v.toarray()\n",
    "N,D = xtrain_a.shape"
   ]
  },
  {
   "cell_type": "code",
   "execution_count": 71,
   "metadata": {},
   "outputs": [],
   "source": [
    "def predict_data_forest(clf):\n",
    "    predictions = clf.predict(xtest_a)\n",
    "    count = 0\n",
    "    for i in range (len(predictions)):\n",
    "        if predictions[i]== y_test[i]:\n",
    "            count=count+1\n",
    "    return count/len(predictions)"
   ]
  },
  {
   "cell_type": "markdown",
   "metadata": {},
   "source": [
    "### find the random forest that can predict the data best\n"
   ]
  },
  {
   "cell_type": "code",
   "execution_count": 72,
   "metadata": {},
   "outputs": [
    {
     "name": "stdout",
     "output_type": "stream",
     "text": [
      "depth:  10  state:  0  accuracy:  0.9295302013422819\n",
      "depth:  10  state:  1  accuracy:  0.9463087248322147\n",
      "depth:  10  state:  2  accuracy:  0.9395973154362416\n",
      "depth:  10  state:  3  accuracy:  0.9429530201342282\n",
      "depth:  10  state:  4  accuracy:  0.9362416107382551\n",
      "depth:  10  state:  5  accuracy:  0.9563758389261745\n",
      "depth:  10  state:  6  accuracy:  0.9328859060402684\n",
      "depth:  10  state:  7  accuracy:  0.9395973154362416\n",
      "depth:  10  state:  8  accuracy:  0.9429530201342282\n",
      "depth:  10  state:  9  accuracy:  0.9328859060402684\n",
      "depth:  11  state:  0  accuracy:  0.9395973154362416\n",
      "depth:  11  state:  1  accuracy:  0.9362416107382551\n",
      "depth:  11  state:  2  accuracy:  0.9395973154362416\n",
      "depth:  11  state:  3  accuracy:  0.9530201342281879\n",
      "depth:  11  state:  4  accuracy:  0.9463087248322147\n",
      "depth:  11  state:  5  accuracy:  0.9530201342281879\n",
      "depth:  11  state:  6  accuracy:  0.9463087248322147\n",
      "depth:  11  state:  7  accuracy:  0.9496644295302014\n",
      "depth:  11  state:  8  accuracy:  0.9295302013422819\n",
      "depth:  11  state:  9  accuracy:  0.9429530201342282\n",
      "depth:  12  state:  0  accuracy:  0.9429530201342282\n",
      "depth:  12  state:  1  accuracy:  0.9328859060402684\n",
      "depth:  12  state:  2  accuracy:  0.9429530201342282\n",
      "depth:  12  state:  3  accuracy:  0.9463087248322147\n",
      "depth:  12  state:  4  accuracy:  0.9395973154362416\n",
      "depth:  12  state:  5  accuracy:  0.9429530201342282\n",
      "depth:  12  state:  6  accuracy:  0.9463087248322147\n",
      "depth:  12  state:  7  accuracy:  0.9395973154362416\n",
      "depth:  12  state:  8  accuracy:  0.9429530201342282\n",
      "depth:  12  state:  9  accuracy:  0.9429530201342282\n",
      "depth:  13  state:  0  accuracy:  0.9463087248322147\n",
      "depth:  13  state:  1  accuracy:  0.9395973154362416\n",
      "depth:  13  state:  2  accuracy:  0.9395973154362416\n",
      "depth:  13  state:  3  accuracy:  0.959731543624161\n",
      "depth:  13  state:  4  accuracy:  0.9463087248322147\n",
      "depth:  13  state:  5  accuracy:  0.9496644295302014\n",
      "depth:  13  state:  6  accuracy:  0.9530201342281879\n",
      "depth:  13  state:  7  accuracy:  0.9530201342281879\n",
      "depth:  13  state:  8  accuracy:  0.9463087248322147\n",
      "depth:  13  state:  9  accuracy:  0.9530201342281879\n",
      "depth:  14  state:  0  accuracy:  0.9496644295302014\n",
      "depth:  14  state:  1  accuracy:  0.9362416107382551\n",
      "depth:  14  state:  2  accuracy:  0.9496644295302014\n",
      "depth:  14  state:  3  accuracy:  0.9630872483221476\n",
      "depth:  14  state:  4  accuracy:  0.9563758389261745\n",
      "depth:  14  state:  5  accuracy:  0.959731543624161\n",
      "depth:  14  state:  6  accuracy:  0.9530201342281879\n",
      "depth:  14  state:  7  accuracy:  0.9496644295302014\n",
      "depth:  14  state:  8  accuracy:  0.9463087248322147\n",
      "depth:  14  state:  9  accuracy:  0.9463087248322147\n",
      "depth:  15  state:  0  accuracy:  0.9395973154362416\n",
      "depth:  15  state:  1  accuracy:  0.9496644295302014\n",
      "depth:  15  state:  2  accuracy:  0.9463087248322147\n",
      "depth:  15  state:  3  accuracy:  0.9664429530201343\n",
      "depth:  15  state:  4  accuracy:  0.9463087248322147\n",
      "depth:  15  state:  5  accuracy:  0.9530201342281879\n",
      "depth:  15  state:  6  accuracy:  0.9496644295302014\n",
      "depth:  15  state:  7  accuracy:  0.9429530201342282\n",
      "depth:  15  state:  8  accuracy:  0.9563758389261745\n",
      "depth:  15  state:  9  accuracy:  0.9496644295302014\n",
      "depth:  16  state:  0  accuracy:  0.9429530201342282\n",
      "depth:  16  state:  1  accuracy:  0.9429530201342282\n",
      "depth:  16  state:  2  accuracy:  0.9429530201342282\n",
      "depth:  16  state:  3  accuracy:  0.959731543624161\n",
      "depth:  16  state:  4  accuracy:  0.9496644295302014\n",
      "depth:  16  state:  5  accuracy:  0.9664429530201343\n",
      "depth:  16  state:  6  accuracy:  0.9496644295302014\n",
      "depth:  16  state:  7  accuracy:  0.959731543624161\n",
      "depth:  16  state:  8  accuracy:  0.9328859060402684\n",
      "depth:  16  state:  9  accuracy:  0.9530201342281879\n",
      "depth:  17  state:  0  accuracy:  0.9463087248322147\n",
      "depth:  17  state:  1  accuracy:  0.9463087248322147\n",
      "depth:  17  state:  2  accuracy:  0.9429530201342282\n",
      "depth:  17  state:  3  accuracy:  0.9630872483221476\n",
      "depth:  17  state:  4  accuracy:  0.959731543624161\n",
      "depth:  17  state:  5  accuracy:  0.9563758389261745\n",
      "depth:  17  state:  6  accuracy:  0.9496644295302014\n",
      "depth:  17  state:  7  accuracy:  0.9563758389261745\n",
      "depth:  17  state:  8  accuracy:  0.9530201342281879\n",
      "depth:  17  state:  9  accuracy:  0.9563758389261745\n",
      "depth:  18  state:  0  accuracy:  0.9429530201342282\n",
      "depth:  18  state:  1  accuracy:  0.9496644295302014\n",
      "depth:  18  state:  2  accuracy:  0.9530201342281879\n",
      "depth:  18  state:  3  accuracy:  0.959731543624161\n",
      "depth:  18  state:  4  accuracy:  0.9530201342281879\n",
      "depth:  18  state:  5  accuracy:  0.9630872483221476\n",
      "depth:  18  state:  6  accuracy:  0.959731543624161\n",
      "depth:  18  state:  7  accuracy:  0.9563758389261745\n",
      "depth:  18  state:  8  accuracy:  0.959731543624161\n",
      "depth:  18  state:  9  accuracy:  0.9563758389261745\n",
      "depth:  19  state:  0  accuracy:  0.9496644295302014\n",
      "depth:  19  state:  1  accuracy:  0.9530201342281879\n",
      "depth:  19  state:  2  accuracy:  0.9563758389261745\n",
      "depth:  19  state:  3  accuracy:  0.9664429530201343\n",
      "depth:  19  state:  4  accuracy:  0.9496644295302014\n",
      "depth:  19  state:  5  accuracy:  0.959731543624161\n",
      "depth:  19  state:  6  accuracy:  0.9563758389261745\n",
      "depth:  19  state:  7  accuracy:  0.9530201342281879\n",
      "depth:  19  state:  8  accuracy:  0.9463087248322147\n",
      "depth:  19  state:  9  accuracy:  0.9463087248322147\n",
      "depth:  20  state:  0  accuracy:  0.9530201342281879\n",
      "depth:  20  state:  1  accuracy:  0.9496644295302014\n",
      "depth:  20  state:  2  accuracy:  0.9429530201342282\n",
      "depth:  20  state:  3  accuracy:  0.9563758389261745\n",
      "depth:  20  state:  4  accuracy:  0.9530201342281879\n",
      "depth:  20  state:  5  accuracy:  0.9530201342281879\n",
      "depth:  20  state:  6  accuracy:  0.959731543624161\n",
      "depth:  20  state:  7  accuracy:  0.9530201342281879\n",
      "depth:  20  state:  8  accuracy:  0.9530201342281879\n",
      "depth:  20  state:  9  accuracy:  0.9496644295302014\n",
      "The best prediction depth and random_state is  (15, 3)  which has a prediction rate of  0.9664429530201343\n"
     ]
    }
   ],
   "source": [
    "prediction_forest = {}\n",
    "for depth in range(15, 16):\n",
    "    for state in range(3):\n",
    "        clf = RandomForestClassifier(max_depth=depth, random_state=state)\n",
    "        clf.fit(xtrain_a, y_train)\n",
    "        prediction_forest[(depth,state)] = predict_data_forest(clf)\n",
    "        print(\"depth: \", depth, \" state: \", state, \" accuracy: \", prediction_forest[(depth,state)])\n",
    "best_forest = max(prediction_forest,  key=prediction_forest.get)\n",
    "print(\"The best prediction depth and random_state is \", best_forest, \" which has a prediction rate of \",\n",
    "     prediction_forest[best_forest])"
   ]
  },
  {
   "cell_type": "code",
   "execution_count": 73,
   "metadata": {},
   "outputs": [],
   "source": [
    "depth, state = best_forest[0], best_forest[1]\n",
    "decision_tree = RandomForestClassifier(max_depth=depth, random_state=state)\n",
    "decision_tree.fit(xtrain_a, y_train)\n",
    "importance = decision_tree.feature_importances_"
   ]
  },
  {
   "cell_type": "code",
   "execution_count": 74,
   "metadata": {},
   "outputs": [
    {
     "data": {
      "image/png": "[encoded data removed]",
      "text/plain": [
       "<Figure size 1440x360 with 1 Axes>"
      ]
     },
     "metadata": {
      "needs_background": "light"
     },
     "output_type": "display_data"
    },
    {
     "data": {
      "text/plain": [
       "((5375,), 5375)"
      ]
     },
     "execution_count": 74,
     "metadata": {},
     "output_type": "execute_result"
    }
   ],
   "source": [
    "order = pd.Index(-1*importance).argsort()\n",
    "sorted_label = np.array(label)[order]\n",
    "sorted_importance = importance[order]\n",
    "fn = 40\n",
    "plt.figure(figsize=(20,5))\n",
    "plt.bar(sorted_label[:fn], sorted_importance[:fn])\n",
    "plt.xticks(sorted_label[:fn], rotation='vertical')\n",
    "plt.title(\"Feature importance for categorizing the news\")\n",
    "plt.ylabel(\"Feature importances\")\n",
    "plt.xlabel(\"features\")\n",
    "plt.show()\n",
    "importance.shape, len(label)"
   ]
  },
  {
   "cell_type": "markdown",
   "metadata": {},
   "source": [
    "# Use feature importance on Detecting Model\n",
    "**sorted_label**: impornat words\\\n",
    "**sorted_importance**: importance of those words\\\n",
    "**xtrain_v/x_test_v**: vectorized data by **cv**\\\n",
    "1. store xtrain_v in dataframes and drop not feature important words"
   ]
  },
  {
   "cell_type": "code",
   "execution_count": 75,
   "metadata": {},
   "outputs": [
    {
     "data": {
      "text/plain": [
       "(<1192x5375 sparse matrix of type '<class 'numpy.int64'>'\n",
       " \twith 141661 stored elements in Compressed Sparse Row format>,\n",
       " 1007    4\n",
       " 521     0\n",
       " 863     4\n",
       " 1321    2\n",
       " 1194    2\n",
       "        ..\n",
       " 360     0\n",
       " 709     3\n",
       " 439     3\n",
       " 174     0\n",
       " 1146    3\n",
       " Name: Category, Length: 1192, dtype: int64)"
      ]
     },
     "execution_count": 75,
     "metadata": {},
     "output_type": "execute_result"
    }
   ],
   "source": [
    "xtrain_v, y_train"
   ]
  },
  {
   "cell_type": "code",
   "execution_count": 76,
   "metadata": {},
   "outputs": [],
   "source": [
    "def generate_non_important(fn):\n",
    "    sorted_label_list = sorted_label[:fn].tolist()\n",
    "    vocab = cv.vocabulary_.items()\n",
    "    non_important = []\n",
    "    for key, value in vocab:\n",
    "        if key not in sorted_label_list:\n",
    "            non_important.append(key)\n",
    "    return text.ENGLISH_STOP_WORDS.union(non_important)"
   ]
  },
  {
   "cell_type": "code",
   "execution_count": 77,
   "metadata": {},
   "outputs": [],
   "source": [
    "def predict_data_from_reduced(stopwords_appended):\n",
    "    cv = text.CountVectorizer(stop_words=stopwords_appended, min_df = 6)\n",
    "    xtrain_vr = cv.fit_transform(x_train)\n",
    "    label = cv.get_feature_names()\n",
    "    xtest_vr = cv.transform(x_test)\n",
    "    mnb = MultinomialNB()\n",
    "    mnb.fit(xtrain_vr,y_train)\n",
    "    predictions = mnb.predict(xtest_vr)\n",
    "    count = 0\n",
    "    for i in range (len(predictions)):\n",
    "        if predictions[i]== y_test[i]:\n",
    "            count=count+1\n",
    "    return count/len(predictions)"
   ]
  },
  {
   "cell_type": "code",
   "execution_count": 89,
   "metadata": {},
   "outputs": [
    {
     "name": "stdout",
     "output_type": "stream",
     "text": [
      "The best number to consider while avoiding overffiting is  3461 with prediction rate, 0.9798657718120806\n"
     ]
    }
   ],
   "source": [
    "#generates the prediction\n",
    "original_stop_word = cv.stop_words_\n",
    "feature_non_dict = {}\n",
    "for k in range(3000, 5000):\n",
    "    stopwords_appended = generate_non_important(k)\n",
    "    feature_non_dict[k] = predict_data_from_reduced(stopwords_appended)\n",
    "best_featured_num = max(feature_non_dict,  key=feature_non_dict.get)\n",
    "print(\"The best number to consider while avoiding overffiting is \", best_featured_num,\n",
    "      \"with prediction rate,\", feature_non_dict[best_featured_num])"
   ]
  },
  {
   "cell_type": "code",
   "execution_count": 90,
   "metadata": {},
   "outputs": [
    {
     "data": {
      "image/png": "[encoded data removed]",
      "text/plain": [
       "<Figure size 432x288 with 1 Axes>"
      ]
     },
     "metadata": {
      "needs_background": "light"
     },
     "output_type": "display_data"
    }
   ],
   "source": [
    "plt.plot(feature_non_dict.keys(), feature_non_dict.values())\n",
    "plt.title('true positive rate depending on number of important words')\n",
    "plt.ylabel('true positive rate')\n",
    "plt.xlabel('number of important workds')\n",
    "plt.show()"
   ]
  },
  {
   "cell_type": "code",
   "execution_count": 91,
   "metadata": {},
   "outputs": [
    {
     "name": "stdout",
     "output_type": "stream",
     "text": [
      "The best number to consider while avoiding overffiting is  2690 with prediction rate, 0.9798657718120806\n"
     ]
    }
   ],
   "source": [
    "feature_non_dict = {}\n",
    "for k in range(2000, 3500):\n",
    "    stopwords_appended = generate_non_important(k)\n",
    "    feature_non_dict[k] = predict_data_from_reduced(stopwords_appended)\n",
    "best_featured_num = max(feature_non_dict,  key=feature_non_dict.get)\n",
    "print(\"The best number to consider while avoiding overffiting is \", best_featured_num,\n",
    "      \"with prediction rate,\", feature_non_dict[best_featured_num])"
   ]
  },
  {
   "cell_type": "code",
   "execution_count": 92,
   "metadata": {},
   "outputs": [
    {
     "data": {
      "image/png": "[encoded data removed]",
      "text/plain": [
       "<Figure size 432x288 with 1 Axes>"
      ]
     },
     "metadata": {
      "needs_background": "light"
     },
     "output_type": "display_data"
    }
   ],
   "source": [
    "plt.plot(feature_non_dict.keys(), feature_non_dict.values())\n",
    "plt.title('true positive rate depending on number of important words')\n",
    "plt.ylabel('true positive rate')\n",
    "plt.xlabel('number of important workds')\n",
    "plt.show()"
   ]
  },
  {
   "cell_type": "code",
   "execution_count": 79,
   "metadata": {},
   "outputs": [
    {
     "data": {
      "text/plain": [
       "\"\\nr,c = limited_data.shape\\ndocuments = []\\nlen_documents = []\\ny_train = []\\nMAX_DOCUMENTS = 3000\\nfor i in range(r):\\n    document = str(limited_data.loc[i,'Text'])\\n    y_train.append(str(limited_data.loc[i,'Category']))\\n    len_documents.append(len(document))\\n    documents.extend(document)\\ndocuments.extend(keywordDF['keywords'][:10].tolist()) #extend keywords\\n#Form bag of words model using words used at least 10 times\\nv = text.CountVectorizer(stop_words=stop_words, min_df = 10)\\nprint(documents)\\ntrain = v.fit_transform(documents).toarray()\\nx_train = []\\nfor i in len(len_documents) - 1:\\n    x_train.append(train[:len_documents[i], :])#store in train_x\\ngnb = GaussianNB()\\nlabel = gnb.fit(data[x_train, y_train]).predict(train[len_documents[-1]:])\\nprint(label)#X_test: keywords, x_train, y_train: trained data\\n\""
      ]
     },
     "execution_count": 79,
     "metadata": {},
     "output_type": "execute_result"
    }
   ],
   "source": [
    "\"\"\"\n",
    "r,c = limited_data.shape\n",
    "documents = []\n",
    "len_documents = []\n",
    "y_train = []\n",
    "MAX_DOCUMENTS = 3000\n",
    "for i in range(r):\n",
    "    document = str(limited_data.loc[i,'Text'])\n",
    "    y_train.append(str(limited_data.loc[i,'Category']))\n",
    "    len_documents.append(len(document))\n",
    "    documents.extend(document)\n",
    "documents.extend(keywordDF['keywords'][:10].tolist()) #extend keywords\n",
    "#Form bag of words model using words used at least 10 times\n",
    "v = text.CountVectorizer(stop_words=stop_words, min_df = 10)\n",
    "print(documents)\n",
    "train = v.fit_transform(documents).toarray()\n",
    "x_train = []\n",
    "for i in len(len_documents) - 1:\n",
    "    x_train.append(train[:len_documents[i], :])#store in train_x\n",
    "gnb = GaussianNB()\n",
    "label = gnb.fit(data[x_train, y_train]).predict(train[len_documents[-1]:])\n",
    "print(label)#X_test: keywords, x_train, y_train: trained data\n",
    "\"\"\""
   ]
  },
  {
   "cell_type": "code",
   "execution_count": null,
   "metadata": {},
   "outputs": [],
   "source": []
  },
  {
   "cell_type": "code",
   "execution_count": null,
   "metadata": {},
   "outputs": [],
   "source": []
  },
  {
   "attachments": {
    "Screen%20Shot%202020-10-23%20at%2011.05.49%20AM.png": {
     "image/png": "[encoded data removed]"
    }
   },
   "cell_type": "markdown",
   "metadata": {},
   "source": [
    "# Evaluation\n",
    "store predicted data and evaluation from user whether the label is valid\n",
    "Evaluate the True Positive Rate and Fale Positive Rate by ROC curve\n",
    "![Screen%20Shot%202020-10-23%20at%2011.05.49%20AM.png](attachment:Screen%20Shot%202020-10-23%20at%2011.05.49%20AM.png)"
   ]
  },
  {
   "cell_type": "code",
   "execution_count": null,
   "metadata": {},
   "outputs": [],
   "source": []
  },
  {
   "cell_type": "code",
   "execution_count": 80,
   "metadata": {},
   "outputs": [],
   "source": [
    "#get DataFrame from csv\n",
    "#add current data\n",
    "#do functions\n",
    "#store data to csv"
   ]
  }
 ],
 "metadata": {
  "colab": {
   "authorship_tag": "ABX9TyMq3J20zyPQufW5ciWp0rRf",
   "include_colab_link": true,
   "name": "revised_news.ipynb",
   "provenance": []
  },
  "kernelspec": {
   "display_name": "Python 3",
   "language": "python",
   "name": "python3"
  },
  "language_info": {
   "codemirror_mode": {
    "name": "ipython",
    "version": 3
   },
   "file_extension": ".py",
   "mimetype": "text/x-python",
   "name": "python",
   "nbconvert_exporter": "python",
   "pygments_lexer": "ipython3",
   "version": "3.8.3"
  }
 },
 "nbformat": 4,
 "nbformat_minor": 1
}
