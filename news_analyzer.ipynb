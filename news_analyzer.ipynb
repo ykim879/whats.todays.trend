{
  "nbformat": 4,
  "nbformat_minor": 0,
  "metadata": {
    "colab": {
      "name": "news_analyzer",
      "provenance": []
    },
    "kernelspec": {
      "display_name": "Python 3",
      "language": "python",
      "name": "python3"
    },
    "language_info": {
      "codemirror_mode": {
        "name": "ipython",
        "version": 3
      },
      "file_extension": ".py",
      "mimetype": "text/x-python",
      "name": "python",
      "nbconvert_exporter": "python",
      "pygments_lexer": "ipython3",
      "version": "3.7.1"
    }
  },
  "cells": [
    {
      "cell_type": "markdown",
      "metadata": {
        "colab_type": "text",
        "id": "VTA9UXv7skDf"
      },
      "source": [
        "# News Analyzer"
      ]
    },
    {
      "cell_type": "code",
      "metadata": {
        "colab_type": "code",
        "id": "FmMh0GmerjOr",
        "colab": {}
      },
      "source": [
        "import requests\n",
        "import pandas as pd"
      ],
      "execution_count": 30,
      "outputs": []
    },
    {
      "cell_type": "markdown",
      "metadata": {
        "id": "JrbvsHn5jrjQ",
        "colab_type": "text"
      },
      "source": [
        "## Requests\n",
        "### reqeust for API key on [News API](https://newsapi.org\") and update API key on key variable"
      ]
    },
    {
      "cell_type": "code",
      "metadata": {
        "colab_type": "code",
        "id": "b0Dy0sl1sx09",
        "colab": {}
      },
      "source": [
        "key = '5e74c7cf9e344e3e8c04210f9b75125b'\n",
        "response = requests.get('https://newsapi.org/v2/sources?'\n",
        "\t\t\t   'language=en&country=us&'\n",
        "\t\t\t   'apiKey=' + key)\n",
        "sources = response.json()['sources']\n",
        "df = pd.DataFrame();\n",
        "pd.set_option('display.max_columns', 7)\n",
        "for source in sources:\n",
        "  row = pd.Series(source)\n",
        "  df = df.append(row, ignore_index = True)\n",
        "df.set_index(\"name\", inplace = True)"
      ],
      "execution_count": 31,
      "outputs": []
    },
    {
      "cell_type": "code",
      "metadata": {
        "colab_type": "code",
        "id": "ef2LuuHltdtu",
        "colab": {
          "base_uri": "https://localhost:8080/",
          "height": 1000
        },
        "outputId": "354e2fe6-896f-4f21-bb98-e4fbb14c6c57"
      },
      "source": [
        "print(df)"
      ],
      "execution_count": 32,
      "outputs": [
        {
          "output_type": "stream",
          "text": [
            "                                category country  \\\n",
            "name                                               \n",
            "ABC News                         general      us   \n",
            "Al Jazeera English               general      us   \n",
            "Ars Technica                  technology      us   \n",
            "Associated Press                 general      us   \n",
            "Axios                            general      us   \n",
            "Bleacher Report                   sports      us   \n",
            "Bloomberg                       business      us   \n",
            "Breitbart News                   general      us   \n",
            "Business Insider                business      us   \n",
            "Buzzfeed                   entertainment      us   \n",
            "CBS News                         general      us   \n",
            "CNN                              general      us   \n",
            "Crypto Coins News             technology      us   \n",
            "Engadget                      technology      us   \n",
            "Entertainment Weekly       entertainment      us   \n",
            "ESPN                              sports      us   \n",
            "ESPN Cric Info                    sports      us   \n",
            "Fortune                         business      us   \n",
            "Fox News                         general      us   \n",
            "Fox Sports                        sports      us   \n",
            "Google News                      general      us   \n",
            "Hacker News                   technology      us   \n",
            "IGN                        entertainment      us   \n",
            "Mashable                   entertainment      us   \n",
            "Medical News Today                health      us   \n",
            "MSNBC                            general      us   \n",
            "MTV News                   entertainment      us   \n",
            "National Geographic              science      us   \n",
            "National Review                  general      us   \n",
            "NBC News                         general      us   \n",
            "New Scientist                    science      us   \n",
            "Newsweek                         general      us   \n",
            "New York Magazine                general      us   \n",
            "Next Big Future                  science      us   \n",
            "NFL News                          sports      us   \n",
            "NHL News                          sports      us   \n",
            "Politico                         general      us   \n",
            "Polygon                    entertainment      us   \n",
            "Recode                        technology      us   \n",
            "Reddit /r/all                    general      us   \n",
            "Reuters                          general      us   \n",
            "TechCrunch                    technology      us   \n",
            "TechRadar                     technology      us   \n",
            "The American Conservative        general      us   \n",
            "The Hill                         general      us   \n",
            "The Huffington Post              general      us   \n",
            "The Next Web                  technology      us   \n",
            "The Verge                     technology      us   \n",
            "The Wall Street Journal         business      us   \n",
            "The Washington Post              general      us   \n",
            "The Washington Times             general      us   \n",
            "Time                             general      us   \n",
            "USA Today                        general      us   \n",
            "Vice News                        general      us   \n",
            "Wired                         technology      us   \n",
            "\n",
            "                                                                 description  \\\n",
            "name                                                                           \n",
            "ABC News                   Your trusted source for breaking news, analysi...   \n",
            "Al Jazeera English         News, analysis from the Middle East and worldw...   \n",
            "Ars Technica               The PC enthusiast's resource. Power users and ...   \n",
            "Associated Press           The AP delivers in-depth coverage on the inter...   \n",
            "Axios                      Axios are a new media company delivering vital...   \n",
            "Bleacher Report            Sports journalists and bloggers covering NFL, ...   \n",
            "Bloomberg                  Bloomberg delivers business and markets news, ...   \n",
            "Breitbart News             Syndicated news and opinion website providing ...   \n",
            "Business Insider           Business Insider is a fast-growing business si...   \n",
            "Buzzfeed                   BuzzFeed is a cross-platform, global network f...   \n",
            "CBS News                   CBS News: dedicated to providing the best in j...   \n",
            "CNN                        View the latest news and breaking news today f...   \n",
            "Crypto Coins News          Providing breaking cryptocurrency news - focus...   \n",
            "Engadget                   Engadget is a web magazine with obsessive dail...   \n",
            "Entertainment Weekly       Online version of the print magazine includes ...   \n",
            "ESPN                       ESPN has up-to-the-minute sports news coverage...   \n",
            "ESPN Cric Info             ESPN Cricinfo provides the most comprehensive ...   \n",
            "Fortune                         Fortune 500 Daily and Breaking Business News   \n",
            "Fox News                   Breaking News, Latest News and Current News fr...   \n",
            "Fox Sports                 Find live scores, player and team news, videos...   \n",
            "Google News                Comprehensive, up-to-date news coverage, aggre...   \n",
            "Hacker News                Hacker News is a social news website focusing ...   \n",
            "IGN                        IGN is your site for Xbox One, PS4, PC, Wii-U,...   \n",
            "Mashable                   Mashable is a global, multi-platform media and...   \n",
            "Medical News Today         Medical news and health news headlines posted ...   \n",
            "MSNBC                      Breaking news and in-depth analysis of the hea...   \n",
            "MTV News                   The ultimate news source for music, celebrity,...   \n",
            "National Geographic        Reporting our world daily: original nature and...   \n",
            "National Review            National Review: Conservative News, Opinion, P...   \n",
            "NBC News                   Breaking news, videos, and the latest top stor...   \n",
            "New Scientist              Breaking science and technology news from arou...   \n",
            "Newsweek                   Newsweek provides in-depth analysis, news and ...   \n",
            "New York Magazine          NYMAG and New York magazine cover the new, the...   \n",
            "Next Big Future            Coverage of science and technology that have t...   \n",
            "NFL News                   The official source for NFL news, schedules, s...   \n",
            "NHL News                   The most up-to-date breaking hockey news from ...   \n",
            "Politico                   Political news about Congress, the White House...   \n",
            "Polygon                    Polygon is a gaming website in partnership wit...   \n",
            "Recode                     Get the latest independent tech news, reviews ...   \n",
            "Reddit /r/all              Reddit is an entertainment, social news networ...   \n",
            "Reuters                    Reuters.com brings you the latest news from ar...   \n",
            "TechCrunch                 TechCrunch is a leading technology media prope...   \n",
            "TechRadar                  The latest technology news and reviews, coveri...   \n",
            "The American Conservative  Realism and reform. A new voice for a new gene...   \n",
            "The Hill                   The Hill is a top US political website, read b...   \n",
            "The Huffington Post        The Huffington Post is a politically liberal A...   \n",
            "The Next Web               The Next Web is one of the world’s largest onl...   \n",
            "The Verge                  The Verge covers the intersection of technolog...   \n",
            "The Wall Street Journal    WSJ online coverage of breaking news and curre...   \n",
            "The Washington Post        Breaking news and analysis on politics, busine...   \n",
            "The Washington Times       The Washington Times delivers breaking news an...   \n",
            "Time                       Breaking news and analysis from TIME.com. Poli...   \n",
            "USA Today                  Get the latest national, international, and po...   \n",
            "Vice News                  Vice News is Vice Media, Inc.'s current affair...   \n",
            "Wired                      Wired is a monthly American magazine, publishe...   \n",
            "\n",
            "                                                  id language  \\\n",
            "name                                                            \n",
            "ABC News                                    abc-news       en   \n",
            "Al Jazeera English                al-jazeera-english       en   \n",
            "Ars Technica                            ars-technica       en   \n",
            "Associated Press                    associated-press       en   \n",
            "Axios                                          axios       en   \n",
            "Bleacher Report                      bleacher-report       en   \n",
            "Bloomberg                                  bloomberg       en   \n",
            "Breitbart News                        breitbart-news       en   \n",
            "Business Insider                    business-insider       en   \n",
            "Buzzfeed                                    buzzfeed       en   \n",
            "CBS News                                    cbs-news       en   \n",
            "CNN                                              cnn       en   \n",
            "Crypto Coins News                  crypto-coins-news       en   \n",
            "Engadget                                    engadget       en   \n",
            "Entertainment Weekly            entertainment-weekly       en   \n",
            "ESPN                                            espn       en   \n",
            "ESPN Cric Info                        espn-cric-info       en   \n",
            "Fortune                                      fortune       en   \n",
            "Fox News                                    fox-news       en   \n",
            "Fox Sports                                fox-sports       en   \n",
            "Google News                              google-news       en   \n",
            "Hacker News                              hacker-news       en   \n",
            "IGN                                              ign       en   \n",
            "Mashable                                    mashable       en   \n",
            "Medical News Today                medical-news-today       en   \n",
            "MSNBC                                          msnbc       en   \n",
            "MTV News                                    mtv-news       en   \n",
            "National Geographic              national-geographic       en   \n",
            "National Review                      national-review       en   \n",
            "NBC News                                    nbc-news       en   \n",
            "New Scientist                          new-scientist       en   \n",
            "Newsweek                                    newsweek       en   \n",
            "New York Magazine                  new-york-magazine       en   \n",
            "Next Big Future                      next-big-future       en   \n",
            "NFL News                                    nfl-news       en   \n",
            "NHL News                                    nhl-news       en   \n",
            "Politico                                    politico       en   \n",
            "Polygon                                      polygon       en   \n",
            "Recode                                        recode       en   \n",
            "Reddit /r/all                           reddit-r-all       en   \n",
            "Reuters                                      reuters       en   \n",
            "TechCrunch                                techcrunch       en   \n",
            "TechRadar                                  techradar       en   \n",
            "The American Conservative  the-american-conservative       en   \n",
            "The Hill                                    the-hill       en   \n",
            "The Huffington Post              the-huffington-post       en   \n",
            "The Next Web                            the-next-web       en   \n",
            "The Verge                                  the-verge       en   \n",
            "The Wall Street Journal      the-wall-street-journal       en   \n",
            "The Washington Post              the-washington-post       en   \n",
            "The Washington Times            the-washington-times       en   \n",
            "Time                                            time       en   \n",
            "USA Today                                  usa-today       en   \n",
            "Vice News                                  vice-news       en   \n",
            "Wired                                          wired       en   \n",
            "\n",
            "                                                                 url  \n",
            "name                                                                  \n",
            "ABC News                                      https://abcnews.go.com  \n",
            "Al Jazeera English                          http://www.aljazeera.com  \n",
            "Ars Technica                                  http://arstechnica.com  \n",
            "Associated Press                                 https://apnews.com/  \n",
            "Axios                                          https://www.axios.com  \n",
            "Bleacher Report                        http://www.bleacherreport.com  \n",
            "Bloomberg                                   http://www.bloomberg.com  \n",
            "Breitbart News                              http://www.breitbart.com  \n",
            "Business Insider                      http://www.businessinsider.com  \n",
            "Buzzfeed                                    https://www.buzzfeed.com  \n",
            "CBS News                                      http://www.cbsnews.com  \n",
            "CNN                                                http://us.cnn.com  \n",
            "Crypto Coins News                                https://www.ccn.com  \n",
            "Engadget                                    https://www.engadget.com  \n",
            "Entertainment Weekly                               http://www.ew.com  \n",
            "ESPN                                              http://espn.go.com  \n",
            "ESPN Cric Info                          http://www.espncricinfo.com/  \n",
            "Fortune                                           http://fortune.com  \n",
            "Fox News                                      http://www.foxnews.com  \n",
            "Fox Sports                                  http://www.foxsports.com  \n",
            "Google News                                  https://news.google.com  \n",
            "Hacker News                             https://news.ycombinator.com  \n",
            "IGN                                               http://www.ign.com  \n",
            "Mashable                                        https://mashable.com  \n",
            "Medical News Today                   http://www.medicalnewstoday.com  \n",
            "MSNBC                                           http://www.msnbc.com  \n",
            "MTV News                                     http://www.mtv.com/news  \n",
            "National Geographic               http://news.nationalgeographic.com  \n",
            "National Review                      https://www.nationalreview.com/  \n",
            "NBC News                                      http://www.nbcnews.com  \n",
            "New Scientist              https://www.newscientist.com/section/news  \n",
            "Newsweek                                    https://www.newsweek.com  \n",
            "New York Magazine                                   http://nymag.com  \n",
            "Next Big Future                        https://www.nextbigfuture.com  \n",
            "NFL News                                     http://www.nfl.com/news  \n",
            "NHL News                                    https://www.nhl.com/news  \n",
            "Politico                                    https://www.politico.com  \n",
            "Polygon                                       http://www.polygon.com  \n",
            "Recode                                         http://www.recode.net  \n",
            "Reddit /r/all                           https://www.reddit.com/r/all  \n",
            "Reuters                                       http://www.reuters.com  \n",
            "TechCrunch                                    https://techcrunch.com  \n",
            "TechRadar                                   http://www.techradar.com  \n",
            "The American Conservative    http://www.theamericanconservative.com/  \n",
            "The Hill                                          http://thehill.com  \n",
            "The Huffington Post                    http://www.huffingtonpost.com  \n",
            "The Next Web                                   http://thenextweb.com  \n",
            "The Verge                                    http://www.theverge.com  \n",
            "The Wall Street Journal                           http://www.wsj.com  \n",
            "The Washington Post                   https://www.washingtonpost.com  \n",
            "The Washington Times                https://www.washingtontimes.com/  \n",
            "Time                                                 http://time.com  \n",
            "USA Today                               http://www.usatoday.com/news  \n",
            "Vice News                                      https://news.vice.com  \n",
            "Wired                                          https://www.wired.com  \n"
          ],
          "name": "stdout"
        }
      ]
    },
    {
      "cell_type": "markdown",
      "metadata": {
        "colab_type": "text",
        "id": "fTIi51gyzQpT"
      },
      "source": [
        "## Method: eachNewsHeadlines\n",
        "### collects each 55 news headline"
      ]
    },
    {
      "cell_type": "code",
      "metadata": {
        "colab_type": "code",
        "id": "8F3fBTFHpQAX",
        "colab": {}
      },
      "source": [
        "import queue\n",
        "import threading\n",
        "def eachNewsHeadlines(ID, q):\n",
        "\tresponse = requests.get('https://newsapi.org/v2/top-headlines?sources=' + ID + '&apiKey=' + key)\n",
        "\tjson = response.json()\n",
        "\tif json['status'] != 'ok':\n",
        "\t\traise IOError('API key is probably overused :(')\n",
        "\ttopNews = []\n",
        "\ttopNews.append(ID)\n",
        "\tfor elem in json['articles']:\n",
        "\t\ttopNews.append(elem['title'])\n",
        "\tq.put(topNews)"
      ],
      "execution_count": 33,
      "outputs": []
    },
    {
      "cell_type": "code",
      "metadata": {
        "colab_type": "code",
        "id": "Ysr6mh7pxPKN",
        "colab": {
          "base_uri": "https://localhost:8080/",
          "height": 54
        },
        "outputId": "a8685fa6-0092-45ac-8b57-1208a9ff3aa6"
      },
      "source": [
        "threads = []\n",
        "q = queue.Queue()\n",
        "for id in df['id']:\n",
        "  t = threading.Thread(target = eachNewsHeadlines, args = (id, q))\n",
        "  threads.append(t)\n",
        "  t.start()\n",
        "for t in threads:\n",
        "  t.join()\n",
        "\n",
        "headlines = []\n",
        "while not q.empty():\n",
        "  headlines.append(q.get())\n",
        "#for id in df['id']:\n",
        "#  headlines.append(eachNewsHeadlines(id))\n",
        "print(headlines)"
      ],
      "execution_count": 34,
      "outputs": [
        {
          "output_type": "stream",
          "text": [
            "[['bleacher-report', 'NBA', 'Anthony Edwards B/R Exclusive', '2020 MLB Prospect Power Rankings for Top 30 Catchers', 'Addressing the Biggest Questions About NBA Draft Prospect Obi Toppin', 'The Biggest MLB Trade Chips Available from Sellers Ahead of 2020 Deadline', '2020 NBA Draft: Long Shots Who Could Sneak into the Lottery', \"NBA Players Drop in to 'Courtnite'\"], ['associated-press', \"London's famous Tower Bridge gets stuck in an open position\", \"Ketamine that's injected during arrests draws new scrutiny\", 'AP EXCLUSIVE: US faces back-to-school laptop shortage', 'In just a week, wildfires burn 1 million acres in California', \"AP FACT CHECK: Trump's distortion on Dems and the pledge\", 'As more colleges stay online, students demand tuition cuts', 'The bully pulpit: Trump pushes Washington, but virus resists', 'Miami ICU nurse: I have never in my life seen so many deaths', 'House passes bill to reverse changes blamed for mail delays ', '2 tropical storms heading for double blow to US Gulf Coast'], ['al-jazeera-english', 'Global coronavirus death toll surpasses 800,000: Live updates', 'US House passes bill to send $25bn to Postal Service, block cuts', 'West African mediators arrive in Mali to push for coup reversal'], ['engadget', \"Radio Flyer's $100 Tesla Model Y is powered by kids' feet\", 'Samsung Galaxy Note 20 Ultra review: Unabashedly over the top', \"Hisense's $4,000 laser projector comes with a 100-inch screen\", \"Google's smart displays will simplify multi-room audio\", 'Google asks to test a new type of wireless broadband'], ['fortune', 'A pair of twin YouTubers offer a lesson in openness', 'Paul Ryan jumps onto the SPAC train', 'Why Barack Obama would be taking down TikTok, too', 'The Chinese and U.S. Internets are drifting apart. Why that’s bad for the whole world', 'Women are finally reclaiming the ‘house dress’', 'Corporate values under a Biden presidency', 'Investors ride the Big Tech rally even as COVID cases and unemployment spike', 'COVID-19 has spurred rapid transformation in health care. Let’s make sure it stays that way', 'Why female leaders are faring better than ‘wartime presidents’ against COVID-19', 'The President is going postal'], ['reuters', 'S&P 500 closes nominally higher amid COVID-19 spikes, muted data', 'Trump unfit to be U.S. president, Democrat Pelosi, conservative Bolton agree', 'World stock markets slip on second wave virus fears, safe-havens rise', 'Trump pledges new list of conservative Supreme Court contenders', \"Atlanta officer says he is not 'state's witness' in Rayshard Brooks case\", \"Mexico's foreign ministry says it will monitor U.S. DACA program developments\", \"Pelosi says Trump 'ethically unfit' for presidency, will continue oversight\", \"Facebook takes down Trump ads over 'organized hate' policy\", 'Tesla wants to start building a new U.S. vehicle plant this summer', \"U.S. Supreme Court blocks Trump bid to end 'Dreamers' immigrant program\"], ['mashable', \"How to make iPhone's Screen Time actually helpful\", 'AOC opens up about death threats after baseball team shows offensive video of her', 'Uber will now kick off riders with low ratings', 'Metal Mario makes his Hot Wheels debut this summer', 'Amazon challenges Google with smaller, cheaper Echo Show', 'DC’s ‘Doom Patrol’ is the rare superhero show that understands trauma', 'Trump and Biden court older women demographic with Facebook ads'], ['msnbc', 'Morning Joe | MSNBC Morning Joe Live with Joe Scarborough', 'MTP Daily on MSNBC', 'The Beat With Ari Melber on MSNBC'], ['abc-news', 'Report: Trump administration to block proposed Alaska mine', '2,000 Brazilians flee homes after water pipe ruptures', 'Senator to supporters: How about skipping a meal to donate?', 'Kanye West files to appear on ballot in Louisiana', 'Trump ordered to pay $44,100 in Stormy Daniels legal fees', \"'Poisoned' Russian opposition leader Navalny lands in Berlin for emergency treatment\", 'COVID-19 in the quad: Colleges crack down on student parties as virus spreads across campuses', \"Family says USPS lost veterans' remains\", 'Tropical Storm Laura, Marco simultaneously heading toward Gulf of Mexico', 'Smoke fills air as Portland police clear riot at precinct'], ['fox-sports', '', 'WWE', '', 'MLB', 'Watch WWE Friday Night SmackDown from July 17th in 3 minutes | FRIDAY NIGHT SMACKDOWN (VIDEO)', \"Which two members of the Madden 21 '99 Club' would you build around?\", 'MVP, Cy Young, Rookie of the Year: Who are favorites to win MLB awards?', '', 'NFL News, Videos, Scores, Teams, Standings, Stats', \"The NFL and Daniel Snyder respond to Thursday's Washington Post story\"], ['mtv-news', \"Travis Scott's 'The Plan' Is A Bass-Rattling Tenet Trip\", \"Greyson Chance's Victory Bell, Tomberlin's 'Wasted' Dream, And More Songs We Love\", \"BTS Detonate Their 'Dynamite' For An Infectiously Catchy Disco Dream\", \"Listen To Twice's Energetic English Take On 'More & More'\", 'DaBaby And Black Eyed Peas Will Bring The Heat Performing At The 2020 VMAs'], ['ars-technica', 'New Wonder Woman 1984 trailer offers first look at Kristen Wiig’s Cheetah', 'Hint of COVID-19 immunity: 3 sailors with antibodies spared in outbreak at sea', 'This plane flies itself—we went for a ride', 'The race to collect the pandemic’s history—as it unfolds', 'Former Uber security chief faces criminal charges for hiding 2016 breach', 'July was a hot one, but here’s what NOAA sees ahead for the US', 'How do you do, fellow gamers?—Burger King exploits Twitch for cheap ads', 'Peer inside a mummified cat from ancient Egypt, courtesy of high-res 3D X-rays', 'Ancient lake sites suggest lots of precipitation on Mars', 'Untested COVID-19 vaccine, Sputnik V, begins 40,000-person trial next week'], ['breitbart-news', 'Virgil: Reparations for Everyone -- What Do We Do If We’re All Victims and Victimizers?', \"NY State Sen: I Think Nursing Home COVID Deaths Undercounted by 'a Couple of Thousand' 'at a Minimum'\", \"Chicago Activist Tells People Mad About Looting to 'Get Over it!'\", 'Innocent Bystander Paralyzed After NYC Shooting in Broad Daylight', \"TN Bishop: I Don’t See How Joe Biden Claims to Be a ‘Faithful Catholic'\", \"Protesters Plan to 'Save' USPS; Call for Postmaster General Louis DeJoy's Resignation\", 'Sheriff: Looters Arrested for Targeting Homes of CA Wildfire Evacuees', \"Police: Multiple Arrests Made During Riot Outside Portland's North Precinct\", \"Nolte: Rose McGowan Rips DNC, Clintons -- 'I Believe Joe Biden Is a Rapist'\", \"Rose McGowan Body Slams Alyssa Milano: 'Get Off My Coattails You F**ing Fraud'\"], ['vice-news', \"A GOP Lawmaker Tested Positive for Coronavirus and Didn't Bother to Tell His Democratic Colleagues\", 'This GOP Congressman Officiated a Gay Wedding, and It Could Cost Him an Election', \"‘It's The End of Hong Kong’: The National Security Law China Just Approved Is The Protest Movement's Worst Nightmare\", 'Far-Right Social Network Gab Has a Verified Account Waiting For Trump With 27,000 Followers', 'Minneapolis is Burning: Protesters Loot and Set Buildings On Fire to Protest Police Killing of George Floyd', \"New Videos Appear to Undermine Police Account That George Floyd 'Resisted' Officers\", \"Coronavirus Took Away a Huge Milestone for First-Generation Graduates: 'I Can't Stop Crying'\", \"Trump's FDA Won't Let Women Get Abortion Pills Remotely In a Pandemic. So The ACLU Is Suing.\", 'Tara Reade Is Now Being Investigated For Allegedly Lying on the Witness Stand', \"The Cops Involved in George Floyd's Fatal Arrest Had Previous Violent Incidents on the Force\"], ['business-insider', 'House passes $25 billion bill in emergency USPS funding - Business Insider', 'Trump attacked and misrepresented Democrats on Pledge of Allegiance - Business Insider', 'Costa Rica reopening in September to US tourists from 6 states - Insider', 'Joe Biden economic plan details, would mull stimulus checks if elected - Business Insider', 'How Carnival mishandled the coronavirus, according to cruise employees - Business Insider', 'Apple helped build top secret iPod that only 4 employees knew about - Business Insider', 'Tech execs are donating millions to get psychedelics FDA-approved - Business Insider', 'Major wildfires growing in northern California: updates - Insider', 'Biden rips into Trump for not standing up to Putin over Navalny - Business Insider', 'How Amazon exec Dave Clark became a force in corporate America - Business Insider'], ['buzzfeed', 'Which Movie Did It Better — \"Mamma Mia!\" Or \"Mamma Mia! Here We Go Again\"?', \"We Asked A Therapist To Review Reddit Relationship Advice, And Here's What She Said\", \"37 Products That'll Keep Going And Going\", 'Can We Successfully Guess Your Zodiac Sign Based On Your Turn-Ons And Turn-Offs?', '16 Weird Teen Drama Cameos We All Forgot About', \"31 TV Actors Who Weren't In The First Episode, But Ultimately Changed Their Shows For The Better\", 'Maine Wedding Reception Coronavirus Outbreak Leads To One Death', 'Sofia Vergara Responded To A Clip Of Ellen DeGeneres Joking About Her Accent', '17 Movie Scenes That Never Fail To Frustrate People', 'WTF Is Happening Today? BuzzFeed Newsletters Can Help!'], ['new-york-magazine', '13 Books You Should Read About Black Lives'], ['cnn', 'Sean Penn: Coronavirus czar a liar and incompetent pawn - CNN Video', \"California fires: Firefighters say they're struggling, and more lightning could make everything worse\", \"Opinion: It's a mistake for Democrats to brush impeachment under the rug\", 'House approves bill to send $25 billion to Postal Service and halt changes', 'Nearly 70,000 lives could be saved in the next 3 months if more Americans wore masks, researchers say', \"Syracuse University suspends 23 students after 'incredibly reckless' gathering\", 'Trump, without evidence, accuses FDA of delaying coronavirus vaccine trials and pressures agency chief', 'Oh, great: NASA says an asteroid is headed our way right before Election Day', 'Fans crowd into an indoor concert in experiment on how to return to normality', 'Coronavirus update: Latest news from around the world'], ['bloomberg', 'Apple Reverses Move to Force WordPress to Add In-App Payments', 'Trump Pressures the FDA, Claiming ‘Deep State’ Slowing Vaccine', 'Smoke Fills Air as Portland Police Clear Riot at Precinct', \"Jokowi's Indonesia Needs a Lot More Than a Reboot\", 'Sarah Halzack on Clothing Stores Fight Back (Podcast)', \"Boeing's Fed Backstop Leaves Workers in Lurch\", 'Anti-Graft Champion AMLO Finds Brother in Way of Mexico Crusade', 'Postmaster DeJoy Slams ‘Outrageous Claim’ of Trump Meddling', 'Stocks Extend Weekly Advance After Economic Data: Markets Wrap', 'Biden Scorns Trump as Failed President, Vows to End ‘Darkness’'], ['crypto-coins-news', 'The Stock Market Is Holding Its Breath for a Pullback', \"Meghan Markle Gets Trashed For Voting Remarks - and I'm Exasperated\", \"Yaya Toure is Wrong. Pep Guardiola Doesn't Need the Champions League\", \"High Jobless Claims Aren't Going Away in This 'Record' Stock Market\", \"Here's Why the U.S. Stock Market's Recovery Is an Illusion\", \"The Dow Is Rallying Because Wall Street Doesn't Care If Biden Wins\", \"The Ugly Truth About the Netflix Cuties 'Pedobait' Scandal\", 'Could the Housing Market Save Capitalism as We Know It?', \"Here's Why Persona 4 May Herald a New PC 'Golden' Age for Sega\", \"It's Obvious Why Kate Middleton Didn't Pander to Meghan Markle\"], ['axios', 'Axios Pro Rata: Silicon Valley&#x27;s Veep — AirIPO — Brooks Brothers lives', 'The busiest owner in sports', 'GOP congressman condemns QAnon after conspiracy theorist wins Georgia runoff', 'House Oversight chair introduces bill to preserve USPS services', 'U.S. threatens to veto UN peacekeeping in Lebanon over Hezbollah concerns', \"Poll: America's confidence in public school system jumps amid pandemic\", 'Watch: Gen Z and the future of politics', 'Watch: The future of employability in Milwaukee', \"Watch: Industry's digital update\", 'Coronavirus dashboard'], ['politico', 'Federal judge rules Cuccinelli appointment unlawful', 'The fighter pilot takes on the astronaut: McSally’s 2020 Arizona mission'], ['espn-cric-info', 'PCB hands Umar Akmal three-year ban from all cricket | ESPNcricinfo.com', \"Akram's yorkers, Hegg's hits, and Chapple's 6 for 18 | ESPNcricinfo.com\", \"'It was the first time we realised we can also cry after winning a game'\", \"Five famous people (and one cat) you didn't know have ESPNcricinfo profiles | ESPNcricinfo.com\", \"Sri Lanka don't win the 1996 World Cup | ESPNcricinfo.com\", \"I'm fighting my own benchmarks - R Ashwin | ESPNcricinfo.com\", 'The Coronavirus soap opera, starring KP, Warnie, Mahela | ESPNcricinfo.com', 'Five CSK games only hardcore fans will remember | ESPNcricinfo.com', \"'This is a ball the whole world will remember' - Saeed Ajmal v Sachin Tendulkar revisited | ESPNcricinfo.com\", 'What we learned from watching the 1992 World Cup final in full again | ESPNcricinfo.com'], ['espn', 'Chicago Cubs place Kris Bryant on IL with finger sprain', 'Dustin Johnson finishes Round 3 birdie-eagle to seize control of The Northern Trust', 'Alexander Povetkin stuns Dillian Whyte with uppercut in fifth, disrupts title shot', 'Washington Nationals fire employee for throwing coffee at woman', \"Mike Milbury off NHL playoff broadcasts after 'insulting' comment about women\", 'Seahawks end practice after DE Branden Jackson knocked unconscious', \"Fantasy football rankings - Eric Karabell's running back tiers\"], ['cbs-news', 'Putin critic Alexei Navalny in coma after possible poisoning', 'Australia experiences rare August snowstorm', '\"Lightning siege\" hits California with nearly 12,000 strikes in a week', 'Minnesota State Fair’s butter sculpting tradition lives on despite coronavirus cancellation', 'Iowa slow to recover from devastating derecho', 'Rate of fatal traffic accidents increasing despite reduced car ridership', 'House approves additional Postal Service funding while Trump threatens veto', 'Giant panda gives birth at Smithsonian’s National Zoo', 'Wildfires continue to ravage the West as resources grow thin', 'Back-to-back storms expected to hit U.S. next week'], ['fox-news', 'Rep. Norman reacts to House vote on $25B postal service bill', 'Tennessee ramps up punishments for protesters, including loss of voting rights', \"Laura Fink: The 2020 Democratic Convention was really an invitation to conservative women – Here's why\", 'Dueling Portland clashes shut down streets, as police try to manage chaos', \"House passes $25B in 'emergency' Post Office funding, White House threatens veto\", 'Trump on viral comedian Sarah Cooper’s videos impersonating the president', 'Trump: I have to fight back', 'Trump touts law and order agenda, predicts grim future for America under Biden', 'Students demand tuition cuts as more colleges pivot to virtual learning', 'Portland attack victim on the arrest of Marquese Love who kicked him from behind'], ['hacker-news', 'Worldwide Mobile Data Pricing League | Cost of 1GB in 230 countries - Cable.co.uk', 'Apple apologizes to WordPress, won’t force the free app to add purchases after all', 'Rosatom releases previously classified documentary video of Tsar Bomba nuke test', 'degoogle', 'Future of DeepSpeech / STT after recent changes at Mozilla', 'Build tools around workflows, not workflows around tools', 'VTM', 'Initial public offerings are back in Silicon Valley', 'Zero G: Some German mobile users still waiting for a signal', 'The Inside Story of the 25-Year, $8 Million Heist From the Carnegie Library'], ['techradar', \"Test d'Apple Arcade\", \"tvOS 14 : date de sortie, version bêta et nouvelles fonctionnalités de la prochaine mise à jour d'Apple TV\", \"PlayStation Store : économisez jusqu'à 70% sur des centaines de jeux PS4\", 'Apple prépare la rentrée des classes et offre une paire d’AirPods gratuits aux étudiants', 'Le Canon EOS R6 est le nouveau concurrent puissant du Nikon Z6', 'Les meilleures imprimantes multifonctions pour la maison'], ['entertainment-weekly', 'Dwayne Johnson reveals Justice Society lineup in <em>Black Adam</em>', \"Zack Snyder's <em>Justice League</em> releases first trailer of mysterious cut\", '<em>Penny Dreadful: City of Angels</em> canceled at Showtime', \"<em>Brooklyn Nine-Nine</em> star Melissa Fumero calls out Canadian remake's whitewashed casting\", \"Gal Gadot faces off with Kristen Wiig's Cheetah in new <em>Wonder Woman 1984</em> trailer\", \"Sofia Vergara defends Ellen DeGeneres after interview clip resurfaces: 'I was never a victim'\", 'What to Watch this Weekend: <em>Lucifer</em> rises again with season 5 premiere on Netflix'], ['google-news', 'Live Updates of the California Wildfires', 'Black man in Louisiana dies after being shot 11 times and tased by police | TheHill', 'Trump and Pence expected to attend roll call votes on Monday at RNC', 'Portland protest turns violent, federal police clear plaza', 'House Approves Bill That Blocks Changes At Postal Service Until After The Election', \"Syracuse University suspends 23 students after 'incredibly reckless' gathering\", 'Trump without evidence accuses ‘deep state’ at FDA of slow-walking coronavirus vaccines and treatments', \"'Poisoned' Russian opposition leader Navalny lands in Berlin for emergency treatment\", 'Melania Trump unveils renovated White House Rose Garden'], ['medical-news-today', 'Even mild COVID-19 may produce long lasting immunity', 'Is COVID-19 more dangerous because SARS-CoV-2 reduces specific microRNAs?', 'Treating COVID-19: Bipolar drug shows promise and other hopeful findings', 'The Recovery Room: News beyond the pandemic', 'Tool to help manage COVID-19 patients with diabetes', 'Dry heat can effectively sanitize N95 masks', 'Will the COVID-19 pandemic and Black Lives Matter change science and society?', 'COVID-19: How a new blood test could help speed up vaccine development and population screening', 'How does weather affect COVID-19?', 'Live updates: Coronavirus COVID-19'], ['ign', 'Suicide Squad: Kill the Justice League Set in Batman: Arkham Universe - IGN', 'Suicide Squad: Kill the Justice League Playable Characters Announced - IGN', 'Animated Harley Quinn Mocks Batman v Superman in NSFW Fan Q&A - IGN', 'Suicide Squad: Kill the Justice League First Trailer, 2022 Release - IGN', 'The Batman: New Images Revealed From the Matt Reeves/Robert Pattinson Film - IGN', 'Shazam 2 Title Revealed: Shazam! Fury of the Gods - IGN', \"Aquaman 2 Will Be 'A Little More Serious,' Director James Wan Says - IGN\", 'Gotham Knights: Playable Characters, Story, Combat and Dead Batman Explained - IGN', 'Titans: Season 3 Adds Red Hood, Barbara Gordon and Scarecrow - IGN', 'DC FanDome: The Biggest and Best Announcements and Reveals So Far - IGN'], ['new-scientist', 'Covid-19 news: UK cases level off as R number rises slightly', \"Man sees half of every face like it's melting due to rare brain lesion\", \"Cancer tumour microbiome may predict a person's chances of survival\", 'How likely are you to be infected by the coronavirus on a flight?', 'Walking catfish may use their whole body to smell when on land', 'Sea turtles carrying thermometers could improve hurricane forecasts', 'We should rewild the sky to restore the atmosphere to its former glory', 'Why dark matter should be called something else', 'What Hiroshima teaches us about coronavirus and the future of humanity', 'A weather forecast for fake news outbreaks on social media is coming'], ['nbc-news', 'Slate of proposed bills could change policing in California', 'Northern California wildfire now 2nd-largest ever as total blazes scorch nearly 1M acres', 'Georgia officer fired after video shows him using stun gun on woman during arrest', 'House debates Postal Service changes, funds ahead of vote in rare Saturday session', \"'White supremacy' was behind child separations — and Trump officials went along, critics say\", \"The Week in Pictures: A cow 'flies south' and a virtual convention\", 'QAnon looms behind nationwide rallies and viral #SavetheChildren hashtags', 'America failed Ferraro and Palin. What can their VP campaigns teach us about sexism?', 'The best digital thermometers for at-home use'], ['next-big-future', 'Cerebras Wafer Scale Chip With 1.2 Trillion Transistors', 'The Future of AI Research is Never Ending Storage and Cheap, Small Processors', 'Eight Nvidia A100 Next Generation Tensor Chips for 5 Petaflops at $200,000', 'Scale of Future Tesla Dominance Tricks You Into Thinking It Is Hype', 'artificial intelligence', 'AGI', 'Ben Goertzel 2020 Interview on Artificial General Intelligence', 'elon musk', 'Tesla Will Overcome Denial in the Next 8 Months and Become a $1 Trillion Tech Giant', 'coronavirus'], ['newsweek', 'Minnesota and Nebraska Officials Say COVID-19 Cases Linked to Sturgis Motorcycle Rally', 'Biden Leads Over Trump in Five Battleground States as Much as 12 Points: Poll', \"Russian Opposition Leader Navalny Was 'Taken Away from Us in Secret,' Press Sec. Says\", \"ISIS Church Bombs Help China Gain Indian Ocean Ally to America's Chagrin\", \"'I Designed Michelle Obama's VOTE Necklace'\", 'Leading Engineering & Computer Science Programs 2020', 'What Brands do You Trust the Most?', 'Best Maternity Care Hospitals 2020', \"America's Best Realtors 2020\", 'Newsweek AMPLIFY Empowers Affiliate Brands Through Digital Content'], ['national-review', 'Zuckerberg Defends Refusal to Censor Political Ads: ‘People Can See for Themselves what Politicians Are Saying’', 'Ukraine President Zelensky Denies Negotiating ‘Quid Pro Quo,’ Criticizes Trump’s Stance on Ukraine Corruption', 'Aunt Becky and the ‘Underpaid Teachers’ Myth', 'No, You Don’t ‘Have to Go to College to Become a Welder’', 'Hey Christians, Are We a Welcoming Committee?', 'A Counterintuitive and Compelling Case for Class-Action Lawsuits', 'History Is Short', 'A Weakened Chinese State Presents Its Own Dangers', 'Kenneth Clark’s <i>Civilisation</i> After a Half Century', 'Why Al Pacino Matters'], ['national-geographic', 'The robot revolution has arrived', 'Why we explored humanity’s complicated relationship with robots', 'This ‘rhino court’ had 100 percent poacher convictions. Why was it closed?', 'Why are so many artists drawn to Maine?', 'Coronavirus gets dangerously close to isolated ‘Arrow People’ in Amazon', 'Farming coffee continues to grow hope in Caquetá, Colombia', 'Tainted sanitizers and bootleg booze are poisoning people', 'En garde! Why France was the dueling capital of Europe', 'COVID-19 vaccines could become mandatory. Here’s how it might work.', 'The fight to save America’s historic Black cemeteries'], ['nfl-news', \"Emmitt Smith: Cowboys can't play 'chicken' with Dak\", 'Raiders, CB Prince Amukamara agree to terms', \"Meyer: Haskins needs 'great players,' 'elite culture'\", \"Colts excited about '1-1 punch' in RBs Mack, Taylor\", 'NFL to closely monitor restart of soccer in Europe', 'Falcons could bring in competition for Younghoe Koo', 'Jets showing interest in free-agent CB Logan Ryan', \"Cards' Isaiah Simmons to focus on 1 position in NFL\", \"Dolphins' Tua Tagovailoa tops jersey sales since draft\", \"Gase: What Frank Gore brings to Jets is 'hard to teach'\"], ['time', 'Finding Hope: The TIME 100 Community on Navigating Our New Reality', \"Why You're Regressing to Your Teenage Self During the COVID-19 Outbreak\", 'Renters Are Being Forced From Their Homes Despite Eviction Moratoriums Meant to Protect Them', 'Trump’s Signature Will Appear on Coronavirus Stimulus Checks', 'Watch a New York City Doctor Describe How Medical Professionals Fight Against COVID-19', \"'Otherwise I'd Be Alone.' Foster Pets Offer Much-Needed Companionship in an Age of Isolation\", 'Ditching Zoom? Here Are 10 Video Chat Alternatives You Can Use Instead'], ['polygon', 'Suicide Squad: Kill The Justice League from Rocksteady revealed at DC FanDome', 'First Suicide Squad footage remakes Harley Quinn and unleashes new villains', 'Gotham Knights is the next Batman video game from WB Games', 'New Wonder Woman 1984 trailer at DC Fandome reveals Kristen Wiig’s Cheetah', 'Microsoft Flight Simulator’s visual glitches sprinkle in cosmic horror', 'Metal Gear Solid board game delayed again, from 2020 to 2021', 'Apple responds to Epic’s Fortnite lawsuit, says Tim Sweeney asked for “special deal”', 'Ubisoft collector’s editions on Xbox One, Series X won’t include disc copies', 'Everything leaving Destiny in Destiny 2: Beyond Light', 'The Court of Owls: the villains of the new Batman game Gotham Knights'], ['recode', 'Dynasty Toys’ get-rich-quick scheme cost Amazon sellers thousands — and then got them banned', 'Apple’s Fortnite ban, explained', 'Amazon, Walmart, and Target reap the rewards of Covid restrictions', 'The strategy behind the Lincoln Project, the anti-Trump PAC', 'Trump just embraced followers of the violent QAnon conspiracy movement', 'Facebook bans some QAnon groups', 'Photos of USPS mailboxes being removed aren’t always what they seem', 'Do social media companies censor political speech? A majority of Americans think so.', 'Kamala Harris misinformation on Facebook and Twitter worries experts', 'Fortnite parent Epic dares Apple to block its game on iPhones'], ['techcrunch', 'Palantir and the great revenue mystery', 'Startups Weekly: Will future unicorns go public sooner?', 'Launched with $17 million by two former Norwest investors, Tau Ventures is ready for its closeup', 'Hey Apple, how about a MacBook SE?', 'Bletchley Park, birth-place of the computer, faces uncertain future after pandemic hits income', 'Hear from experienced edtech investors on the market’s overnight boom', \"This Week in Apps: Apple's antitrust war, TikTok ban, alt app ecosystems\", 'Five proven ways to attract and hire more diverse talent', \"Original Content podcast: On Netflix's 'Selling Sunset', everyone's a villain\", 'Five VCs discuss how no-code is going horizontal across the world’s industries'], ['reddit-r-all', 'r/memes - Spitting straight faxx', 'r/aww - Parrot reaction to music', 'r/dankmemes - Let’s hope he gives me cyberpunk 2077 next', 'r/BeAmazed - Champ!', 'r/HumansBeingBros - Helping a stray Dog.', 'r/ScottishPeopleTwitter - Just seen this had to share it', \"Hey Reddit! Interested in Cloud and how it's changing the game for companies adapting to the &quot;never normal&quot;? Then check out our AMA with Tristan Morel L'Horset, lead at Accenture for Cloud &amp; Infrastructure Growth here.\", 'r/gaming - When someone is copying your answers so you write wrong ones', 'What was she thinking?', 'Gorilla messing with his friend in a very humanlike way.'], ['the-hill', \"McConnell rips Democrats for passing 'piecemeal Postal Bill', 'ignoring urgent needs' of Americans | TheHill\", 'House passes $25B bill to boost Postal Service | TheHill', \"Inside Ed Markey's unlikely emergence as an icon to Gen Z activists | TheHill\", 'Meadows appears in Capitol to talk to Pelosi amid stalled coronavirus negotiations | TheHill', \"Pelosi hammers Trump for 'very dangerous' attack on FDA | TheHill\", \"Democrats say Postal Service delays 'far worse than previously acknowledged'\\xa0 | TheHill\", 'Outgoing Democratic chairman faces time crunch with Pompeo probe | TheHill', 'How six key swing states handle voting by mail | TheHill', 'Trump rails against FDA over vaccine testing | TheHill', 'Biden unites Democrats — for now | TheHill'], ['nhl-news', 'Smith thriving again for Golden Knights entering series with Canucks', 'Flyers vs. Islanders playoff preview', \"Bruins, Lightning expect 'pretty intense' Eastern Second Round series\", 'Golden Knights vs. Canucks playoff preview', \"Stamkos won't play for Lightning in Game 1 against Bruins\", 'Canadiens had bad luck while losing to Flyers in Eastern First Round', \"Blues didn't overcome Binnington's struggles in first-round vs. Canucks\", 'Stanley Cup Playoffs spring into second round', \"Blues eliminated by Canucks in Game 6, 'looked like a junior team'\", 'Stanley Cup Playoffs second-round schedule'], ['the-american-conservative', 'Two Russian Icons', 'Rubio and the Rise of the Neoreactionaries', 'Post-Cold War Triumphalism and Kennan’s Warning', 'The Modernity of <i>Robinson Crusoe</i>, an American Art Pioneer, and Resurrecting James Dean', 'The Forgotten Treasure In These American Lands', 'When ‘Sexist’ (and Desperate) Democrats Bully Warren', 'The Poetry of Populism', 'What is the New ‘Woke’ Military Really Preparing Us For?', 'Watch Live Now: TAC’s ‘Regime Change’ Foreign Policy Conference', 'A Note to Progressives: Tell Me How This Ends'], ['the-next-web', 'Fatty acids found in fish could help treat asthma patients', 'Why AI and human perception are too complex to be compared', 'This Adobe web design training can help creators unleash sites and apps like nothing else', 'How COVID-19 is accelerating the shift away from fossil fuels', 'Red giant star Betelgeuse dimmed because it ‘sneezed,’ astronomers explain', 'Grab your popcorn: Apple fires back at Epic in new court filing', 'How to find alternate language options on HBO Max', 'How Intel helped give the ‘world’s first’ cyborg a voice', 'Apple worth $1 trillion more since COVID-19 crashed the NASDAQ 100', 'How will GPT-3 change our lives?'], ['the-washington-post', 'Sign up to get our Coronavirus Updates newsletter', 'Coronavirus', 'Your Life at Home', 'Map: Which states are reopening and closing again after coronavirus shutdown', 'A newbie RV renter learns from her mistakes — and so can you', 'As kids move from quarantine to school, separation anxiety may follow. Here’s how to help.', 'Don’t make these travel mistakes: 7 writers share stories about blunders on the road', 'Perspective | President Trump has no idea how to run for reelection as an incumbent', 'Asked and answered: What readers want to know about coronavirus', 'U.S. coronavirus cases and state maps: Tracking cases, deaths'], ['usa-today', 'House returns from recess to vote on additional $25 billion for United States Postal Service', 'California wildfires updates: Redwoods burn in Big Basin state park, more lightning possible this weekend', 'Opinion: The Big 12, left for dead a decade ago, might have saved this football season', \"'Hurry, he's dying': A hospital chaplain’s journal chronicles a pandemic's private wounds\", \"Could hurricanes collide? Here's what may happen if\\xa0Laura and Marco meet up in the Gulf\", \"'Not an easy task': GOP scrambles to finalize plans for convention amid COVID-19, venue changes, Trump input\", 'Gannett news president: Diversity and inclusion are choices, not just words. Today we reaffirm our mission.', 'Where you can vote by mail, absentee ballot in the 2020 election', 'Women of the Century', 'INSIDE The Amway Coaches Poll - Former Head Coach Mark Richt joins the show plus Ryan Aber of The Oklahoman - INSIDE The Amway Coaches Poll - Omny.fm'], ['wired', 'Facebook Finally Cracks Down on QAnon', 'Solar Panels Are Starting to Die, Leaving Behind Toxic Trash', 'The 6 Best TVs for Every Budget (2020): TCL, Samsung, LG', 'A Standing Desk Changed My Life—It Can Save Yours Too', 'The 14 Best Weekend Deals: Earbuds, Robot Vacuums, and More', \"Facebook's ‘Kill Switch’ Solves the Wrong Problem\", \"The Uncanny Escapism of 'Flight Simulator 2020'\", 'California Wildfires Can Create Their Own Terrifying Weather', '9 Best Cheap Laptops for 2020: Our Picks for $700 or Less', 'A Rocket Scientist’s Love Algorithm Adds Up During Covid-19'], ['the-huffington-post', \"Trump Accuses FDA Of 'Deep State' Conspiracy Against Him Over COVID-19 Vaccine Testing\", 'House Debates Sending USPS $25 Billion In Rare Saturday Session', 'QAnon Cultists, Emboldened By Trump, Rally In Hollywood To Spread Dangerous Conspiracies', \"In Leaked Audio, Trump Credits Black Americans Who Didn't Vote In 2016: Reports\", '2 Tropical Storms A Potential Double Threat To US Gulf Coast', 'More Than 70 Republican Ex-National Security Officials Endorse Joe Biden', \"Trump's $300 Unemployment Benefit: A State-By-State Guide To When It Starts\", 'Europe Took A Holiday From COVID-19. Now It’s Paying The Price.', 'Top FDA Official Says He Would Resign If Agency Rubber-Stamps Unproven COVID-19 Vaccine', 'Coronavirus Live Updates: Read The Latest About The COVID-19 Outbreak'], ['the-verge', 'Watch the first trailer for Suicide Squad: Kill the Justice League', 'Apple apologizes to WordPress, won’t require the free app to add purchases after all', 'First trailer for Zack Snyder’s Justice League cut debuts at DC FanDome', 'If you think Fall Guys would be a perfect mobile game, China has news for you', 'TikTok confirms it will sue the Trump administration', 'Here’s your first look at Gotham Knights, the new game from WB Games Montreal', 'Watch the new Wonder Woman 1984 trailer from FanDome', 'COVID-19 just schooled a bunch of universities', 'Read the Epic and Apple emails that led to\\xa0Fortnite’s App Store ban', 'Apple claims Epic asked for a ‘special deal’ for Fortnite payments'], ['the-wall-street-journal', 'TikTok Plans to Challenge President Trump’s Executive Order', 'California Wildfires Grow to Second and Third Largest in State History', 'Putin Critic Alexei Navalny Evacuated From Russia to Germany', 'This Market Is a Tech Market. If Bond Yields Rise, Watch Out.', 'House Passes Bill to Bolster U.S. Postal Service', 'Even With a Strong Crop This Year, U.S. Farmers Are Suffering', 'As South Africa Lifts Ban on Wine Sales, Many Vintners Fear It’s Too Late', 'Covid-19 Is Dividing the American Worker', 'An AI Breaks the Writing Barrier', 'Covid-19 Pay Cuts Are Coming to an End at Some Companies'], ['the-washington-times', 'House passes $25 billion Postal Service bill', \"House Oversight Chair Maloney: Mail delays were 'far worse' than reported\", \"Nancy Pelosi says Trump is trafficking in 'voter suppression'\", \"Meadows calls for 'skinny' COVID relief package, Pelosi calls request 'deficient'\", \"Joe Biden says he'd shut down U.S. again if scientists recommend it\", 'States sue Postal Service ahead of election as mail-in ballot requests surge', \"Bernie Sanders wants 'serious debate' with Biden after teaming up on the election\", 'FBI warns of new cyberattacks and counterintelligence threats facing D.C. think tanks', 'How To Entirely Empty Your Bowels Every Morning - Top Surgeon Explains How', 'Heart Surgeon: Throw Out Your Olive Oil Now (Here’s Why)']]\n"
          ],
          "name": "stdout"
        }
      ]
    },
    {
      "cell_type": "markdown",
      "metadata": {
        "colab_type": "text",
        "id": "NZHSVRnNKfKZ"
      },
      "source": [
        "## Method: parseWords\n",
        "### this will parse the headlines to count how many times each vocabs appears in headlines"
      ]
    },
    {
      "cell_type": "code",
      "metadata": {
        "colab_type": "code",
        "id": "tAWD02dfH5AF",
        "colab": {}
      },
      "source": [
        "import re"
      ],
      "execution_count": null,
      "outputs": []
    },
    {
      "cell_type": "code",
      "metadata": {
        "colab_type": "code",
        "id": "v9uzdNApGPua",
        "colab": {}
      },
      "source": [
        "def parseWords(headlines, dic):\n",
        "  for headline in headlines:\n",
        "    for line in headline[1:]:\n",
        "      vocabs = re.split('\\W+', line)\n",
        "      for vocab in vocabs:\n",
        "        if vocab in dic:\n",
        "          dic[vocab] += 1\n",
        "        else:\n",
        "          dic[vocab] = 1"
      ],
      "execution_count": null,
      "outputs": []
    },
    {
      "cell_type": "code",
      "metadata": {
        "colab_type": "code",
        "id": "8TIc5ixoIw-h",
        "colab": {
          "base_uri": "https://localhost:8080/",
          "height": 54
        },
        "outputId": "b9fdf141-0f3f-4e9c-ccb9-78c03286af36"
      },
      "source": [
        "parseWords(headlines, parseVocab)\n",
        "print(parseVocab)"
      ],
      "execution_count": null,
      "outputs": [
        {
          "output_type": "stream",
          "text": [
            "{'Protesters': 6, 'arrested': 2, 'in': 154, 'Charlotte': 2, 'as': 35, 'GOP': 22, 'delegates': 2, 'arrive': 4, 'Trump': 96, 'ordered': 3, 'to': 225, 'pay': 4, '44': 3, '100': 13, 'Stormy': 3, 'Daniels': 3, 'legal': 3, 'fees': 3, 'US': 16, 'WeChat': 3, 'users': 4, 'sue': 6, 'over': 16, 'order': 3, 'banning': 2, 'messaging': 2, 'app': 7, 'House': 33, 'set': 4, 'vote': 13, 'on': 82, 'USPS': 14, 'bill': 10, 'amid': 11, 'mail': 10, 'voting': 4, 'controversy': 2, 'Officials': 6, 'Police': 10, 'shoot': 3, 'kill': 3, 'man': 3, 'outside': 3, 'store': 3, 'Louisiana': 3, 'Statue': 2, 'of': 119, 'lauded': 2, 'rocker': 2, 'Chris': 3, 'Cornell': 2, 'vandalized': 2, 'Seattle': 2, 'Family': 2, 'says': 19, 'lost': 2, 'veterans': 2, 'remains': 2, 'Tropical': 4, 'Storm': 2, 'Laura': 4, 'Marco': 4, 'simultaneously': 2, 'heading': 2, 'toward': 2, 'Gulf': 10, 'Mexico': 4, 'Smoke': 3, 'fills': 2, 'air': 2, 'Portland': 9, 'police': 3, 'clear': 2, 'riot': 2, 'at': 34, 'precinct': 2, 'Steve': 3, 'Bannon': 2, 'calls': 9, 'his': 10, 'arrest': 4, 'a': 104, 'political': 4, 'hit': 2, 'job': 2, 'effort': 2, 'was': 18, 'support': 2, 'West': 2, 'African': 2, 'mediators': 2, 'Mali': 2, 'push': 2, 'for': 104, 'coup': 2, 'reversal': 2, 'Alexei': 4, 'Navalny': 10, 's': 203, 'health': 6, 'condition': 2, 'very': 7, 'worrying': 2, '': 151, 'Global': 1, 'coronavirus': 20, 'death': 3, 'toll': 1, 'hits': 5, '800': 1, '000': 8, 'Live': 9, 'news': 10, 'New': 16, 'Wonder': 9, 'Woman': 9, '1984': 8, 'trailer': 10, 'offers': 2, 'first': 18, 'look': 7, 'Kristen': 6, 'Wiig': 6, 'Cheetah': 6, 'Hint': 2, 'COVID': 62, '19': 66, 'immunity': 4, '3': 11, 'sailors': 2, 'with': 36, 'antibodies': 2, 'spared': 2, 'outbreak': 4, 'sea': 2, 'This': 24, 'plane': 2, 'flies': 3, 'itself': 2, 'we': 12, 'went': 4, 'ride': 4, 'The': 117, 'race': 4, 'collect': 2, 'the': 167, 'pandemic': 16, 'history': 4, 'it': 27, 'unfolds': 2, 'Former': 4, 'Uber': 5, 'security': 2, 'chief': 2, 'faces': 10, 'criminal': 2, 'charges': 2, 'hiding': 2, '2016': 3, 'breach': 2, 'July': 5, 'hot': 2, 'one': 4, 'but': 6, 'here': 4, 'what': 9, 'NOAA': 2, 'sees': 4, 'ahead': 9, 'How': 39, 'do': 7, 'you': 17, 'fellow': 2, 'gamers': 2, 'Burger': 2, 'King': 2, 'exploits': 2, 'Twitch': 2, 'cheap': 2, 'ads': 6, 'Peer': 2, 'inside': 2, 'mummified': 2, 'cat': 4, 'from': 42, 'ancient': 2, 'Egypt': 2, 'courtesy': 2, 'high': 4, 'res': 2, '3D': 2, 'X': 4, 'rays': 2, 'Ancient': 2, 'lake': 2, 'sites': 4, 'suggest': 2, 'lots': 2, 'precipitation': 2, 'Mars': 2, 'Untested': 2, 'vaccine': 8, 'Sputnik': 2, 'V': 2, 'begins': 4, '40': 2, 'person': 6, 'trial': 2, 'next': 7, 'week': 3, 'London': 2, 'famous': 4, 'Tower': 2, 'Bridge': 2, 'gets': 6, 'stuck': 2, 'an': 21, 'open': 2, 'position': 4, '2': 10, 'bodies': 1, 'found': 5, 'missing': 1, 'after': 26, 'explosion': 1, 'Texas': 2, 'port': 1, 'Ketamine': 2, 'that': 15, 'injected': 2, 'during': 2, 'arrests': 2, 'draws': 2, 'new': 27, 'scrutiny': 2, 'AP': 4, 'EXCLUSIVE': 2, 'back': 9, 'school': 6, 'laptop': 2, 'shortage': 2, 'does': 5, 'spread': 3, 'concert': 1, 'Germans': 1, 'test': 6, 'FACT': 2, 'CHECK': 2, 'distortion': 2, 'Dems': 2, 'and': 114, 'pledge': 4, 'As': 5, 'more': 14, 'colleges': 4, 'stay': 2, 'online': 2, 'students': 5, 'demand': 4, 'tuition': 4, 'cuts': 5, 'bully': 2, 'pulpit': 2, 'pushes': 2, 'Washington': 5, 'virus': 5, 'resists': 2, 'Miami': 2, 'ICU': 2, 'nurse': 2, 'I': 23, 'have': 9, 'never': 6, 'my': 4, 'life': 3, 'seen': 4, 'so': 9, 'many': 4, 'deaths': 3, 'Democrats': 15, 'see': 2, 'racism': 2, 'mispronunciations': 2, 'Kamala': 9, 'Axios': 2, 'Pro': 4, 'Rata': 2, 'Silicon': 4, 'Valley': 4, 'x27': 2, 'Veep': 2, 'AirIPO': 2, 'Brooks': 4, 'Brothers': 2, 'lives': 4, 'busiest': 2, 'owner': 2, 'sports': 2, 'congressman': 2, 'condemns': 2, 'QAnon': 15, 'conspiracy': 4, 'theorist': 2, 'wins': 2, 'Georgia': 2, 'runoff': 2, 'Oversight': 4, 'chair': 2, 'introduces': 2, 'preserve': 2, 'services': 2, 'U': 31, 'S': 31, 'threatens': 3, 'veto': 3, 'UN': 2, 'peacekeeping': 2, 'Lebanon': 3, 'Hezbollah': 2, 'concerns': 3, 'Poll': 8, 'America': 14, 'confidence': 2, 'public': 6, 'system': 2, 'jumps': 4, 'Watch': 18, 'Gen': 4, 'Z': 4, 'future': 12, 'politics': 2, 'employability': 2, 'Milwaukee': 2, 'Industry': 2, 'digital': 3, 'update': 2, 'Coronavirus': 22, 'dashboard': 2, 'NBA': 9, 'Anthony': 2, 'Edwards': 2, 'B': 2, 'R': 6, 'Exclusive': 2, '2020': 38, 'MLB': 8, 'Prospect': 4, 'Power': 3, 'Rankings': 2, 'Top': 6, '30': 3, 'Catchers': 2, 'Addressing': 2, 'Biggest': 6, 'Questions': 2, 'About': 14, 'Draft': 4, 'Obi': 2, 'Toppin': 2, 'Trade': 2, 'Chips': 3, 'Available': 2, 'Sellers': 2, 'Ahead': 2, 'Deadline': 2, 'Long': 2, 'Shots': 2, 'Who': 10, 'Could': 9, 'Sneak': 2, 'into': 9, 'Lottery': 2, 'Players': 2, 'Drop': 2, 'Courtnite': 2, 'Student': 2, 'Travel': 2, 'Company': 2, 'STA': 2, 'Stops': 2, 'Trading': 2, 'K': 3, 'Fills': 1, 'Air': 1, 'Clear': 1, 'Riot': 3, 'Precinct': 3, 'Stressed': 1, 'Stocks': 2, 'Investors': 3, 'Are': 18, 'Betting': 1, 'Big': 8, 'Europe': 7, 'Sarah': 2, 'Halzack': 1, 'Clothing': 1, 'Stores': 1, 'Fight': 3, 'Back': 2, 'Podcast': 1, 'Boeing': 1, 'Fed': 1, 'Backstop': 1, 'Leaves': 1, 'Workers': 1, 'Lurch': 1, 'Flagging': 1, 'Brexit': 1, 'Negotiations': 1, 'Revive': 1, 'quad': 1, 'Colleges': 1, 'crack': 1, 'down': 4, 'student': 1, 'parties': 1, 'spreads': 1, 'across': 2, 'campuses': 1, 'passes': 5, 'send': 2, '25bn': 1, 'Postal': 14, 'Service': 13, 'block': 3, 'In': 10, 'just': 4, 'wildfires': 3, 'burn': 2, '1': 7, 'million': 2, 'acres': 2, 'California': 9, 'reverse': 1, 'changes': 7, 'blamed': 1, 'delays': 4, 'Black': 11, 'Sea': 2, 'Just': 3, 'Beginning': 1, 'Gas': 1, 'Finds': 1, 'Turkey': 1, 'Says': 3, 'Putin': 3, 'Critic': 2, 'Remains': 1, 'Critical': 1, 'After': 3, 'German': 2, 'Transfer': 1, 'An': 3, 'Epidemic': 1, 'Depression': 1, 'Anxiety': 1, 'Among': 2, 'Young': 2, 'Adults': 1, 'Jokowi': 1, 'Indonesia': 1, 'Needs': 1, 'Lot': 1, 'More': 6, 'Than': 2, 'Reboot': 1, 'Bloomberg': 1, 'Lori': 1, 'Loughlin': 1, 'Gets': 2, 'Two': 2, 'Months': 2, 'Prison': 1, 'College': 2, 'Scam': 1, 'Conspiracy': 2, 'Theory': 1, 'Creeping': 1, 'Into': 2, 'Politics': 1, 'Brazil': 1, 'Shifts': 1, 'Strategy': 1, 'Ensure': 1, 'Austerity': 1, 'Amid': 2, 'Social': 2, 'Spending': 1, 'Administration': 2, 'Reassures': 1, 'Apple': 16, 'Other': 1, 'Firms': 1, 'Using': 1, 'China': 4, 'Chicago': 1, 'Activist': 1, 'Tells': 1, 'People': 5, 'Mad': 1, 'Looting': 1, 'Get': 3, 'Over': 4, 'Innocent': 1, 'Bystander': 1, 'Paralyzed': 1, 'NYC': 2, 'Shooting': 1, 'Broad': 1, 'Daylight': 1, 'TN': 1, 'Bishop': 1, 'Don': 4, 't': 23, 'See': 2, 'Joe': 8, 'Biden': 14, 'Claims': 2, 'Be': 2, 'Faithful': 1, 'Catholic': 1, 'Rioters': 1, 'Threaten': 1, 'Homes': 3, 'Come': 1, 'Out': 3, 'Streets': 1, 'Plan': 2, 'Save': 3, 'Call': 1, 'Postmaster': 2, 'General': 2, 'Louis': 2, 'DeJoy': 3, 'Resignation': 1, 'Block': 1, 'Funding': 1, 'Small': 1, 'Business': 9, 'Aid': 1, 'Sheriff': 1, 'Looters': 1, 'Arrested': 1, 'Targeting': 1, 'CA': 1, 'Wildfire': 1, 'Evacuees': 1, 'Multiple': 1, 'Arrests': 1, 'Made': 2, 'During': 3, 'Outside': 1, 'North': 1, 'Nolte': 1, 'Rose': 5, 'McGowan': 2, 'Rips': 1, 'DNC': 1, 'Clintons': 1, 'Believe': 1, 'Is': 18, 'Rapist': 1, 'Body': 1, 'Slams': 1, 'Alyssa': 1, 'Milano': 1, 'Off': 2, 'My': 2, 'Coattails': 1, 'You': 8, 'F': 1, 'ing': 1, 'Fraud': 1, '25': 6, 'billion': 5, 'emergency': 3, 'funding': 2, 'Insider': 10, 'attacked': 1, 'misrepresented': 1, 'Pledge': 1, 'Allegiance': 1, 'Costa': 1, 'Rica': 1, 'reopening': 2, 'September': 1, 'tourists': 1, '6': 4, 'states': 3, 'economic': 1, 'plan': 1, 'details': 2, 'would': 4, 'mull': 1, 'stimulus': 1, 'checks': 1, 'if': 3, 'elected': 1, 'Carnival': 1, 'mishandled': 1, 'according': 1, 'cruise': 1, 'employees': 2, 'helped': 2, 'build': 2, 'top': 2, 'secret': 1, 'iPod': 1, 'only': 2, '4': 4, 'knew': 1, 'about': 11, 'Tech': 4, 'execs': 1, 'are': 13, 'donating': 1, 'millions': 1, 'get': 3, 'psychedelics': 1, 'FDA': 6, 'approved': 1, 'Major': 1, 'growing': 1, 'northern': 1, 'updates': 3, 'rips': 1, 'not': 4, 'standing': 1, 'up': 6, 'Amazon': 5, 'exec': 1, 'Dave': 1, 'Clark': 2, 'became': 1, 'force': 2, 'corporate': 1, 'Wildfires': 4, 'Burning': 2, 'Right': 2, 'Now': 6, 'Already': 2, 'Worst': 3, 'History': 3, '16': 1, 'Weird': 2, 'Teen': 1, 'Drama': 1, 'Cameos': 1, 'We': 6, 'All': 1, 'Forgot': 1, 'But': 3, 'Can': 7, 'Guess': 2, 'Your': 6, 'Zodiac': 1, 'Sign': 2, 'Based': 2, 'Solely': 1, 'On': 5, 'Disney': 1, 'Characters': 2, 'Pick': 1, '31': 1, 'TV': 2, 'Actors': 1, 'Weren': 1, 'First': 7, 'Episode': 1, 'Ultimately': 1, 'Changed': 2, 'Their': 4, 'Shows': 1, 'For': 6, 'Better': 1, 'Which': 3, 'Movie': 2, 'm': 3, 'Referring': 1, 'To': 10, 'Descriptions': 1, 'From': 4, 'Villain': 1, 'POV': 1, 'Maine': 3, 'Wedding': 2, 'Reception': 1, 'Outbreak': 3, 'Leads': 2, 'One': 3, 'Death': 1, 'Sofia': 2, 'Vergara': 2, 'Responded': 1, 'A': 17, 'Clip': 1, 'Of': 2, 'Ellen': 2, 'DeGeneres': 2, 'Joking': 1, 'Her': 1, 'Accent': 1, '17': 2, 'Scenes': 1, 'That': 4, 'Never': 1, 'Fail': 1, 'Frustrate': 1, '47': 1, 'Things': 1, 'Me': 2, 'Think': 1, 'Why': 17, 'Own': 3, 'WTF': 1, 'Happening': 1, 'Today': 2, 'BuzzFeed': 1, 'Newsletters': 1, 'Help': 2, 'Stories': 1, 'links': 1, 'web': 2, 'extras': 1, 'CBS': 1, 'News': 3, 'Sunday': 1, 'Morning': 4, 'surfers': 1, 'paddle': 1, '13': 2, 'blocks': 2, 'host': 1, 'floating': 1, 'memorial': 1, 'service': 1, 'honor': 1, 'Breonna': 1, 'Taylor': 2, 'general': 2, 'testify': 1, 'before': 1, 'committee': 1, 'grow': 2, 'Harris': 4, 'Senate': 4, 'seat': 1, 'governor': 1, 'weighing': 1, 'potential': 1, 'replacements': 1, 'When': 4, 'will': 9, 'be': 9, 'available': 1, 'questions': 1, 'answered': 2, 'Coast': 2, 'preps': 1, 'two': 3, 'tropical': 1, 'storms': 1, 'make': 4, 'landfall': 1, 'White': 5, 'Garden': 3, 'unveiled': 1, 'by': 6, 'lady': 2, 'Melania': 2, 'her': 3, 'Republican': 3, 'National': 4, 'Convention': 1, 'speech': 3, 'reversing': 1, 'providing': 1, 'dead': 2, 'wedding': 1, 'reception': 1, 'linked': 1, 'Rep': 1, 'Krishnamoorthi': 1, 'Chief': 1, 'can': 8, 'taken': 1, 'word': 1, 'CNN': 1, 'Video': 2, 'approves': 1, 'halt': 1, 'unveils': 1, 'restorations': 1, 'candidate': 1, 'who': 2, 'took': 1, 'Anatomy': 1, 'face': 2, 'Inside': 2, 'attempts': 1, 'damage': 2, 'control': 1, 'may': 6, 'need': 1, 'bailout': 1, 'actually': 2, 'making': 1, 'tons': 1, 'cash': 1, 'Analysis': 1, 'postal': 2, 'worker': 1, 'explains': 1, 'why': 1, 'she': 2, 'doesn': 1, 'believe': 1, 'What': 10, 'Indian': 2, 'roots': 1, 'reveal': 1, 'takeaways': 1, 'postmaster': 1, 'hearing': 1, 'explained': 2, 'Stock': 3, 'Market': 6, 'Holding': 1, 'Its': 2, 'Breath': 1, 'Pullback': 1, 'Meghan': 2, 'Markle': 2, 'Trashed': 1, 'Voting': 1, 'Remarks': 1, 'Exasperated': 1, 'Yaya': 1, 'Toure': 1, 'is': 16, 'Wrong': 2, 'Pep': 1, 'Guardiola': 1, 'Doesn': 2, 'Need': 1, 'Champions': 1, 'League': 6, 'High': 1, 'Jobless': 1, 'Aren': 1, 'Going': 1, 'Away': 3, 'Record': 1, 'Here': 8, 'Recovery': 2, 'Illusion': 1, 'Dow': 1, 'Rallying': 1, 'Because': 1, 'Wall': 1, 'Street': 1, 'Care': 2, 'If': 4, 'Wins': 1, 'Ugly': 1, 'Truth': 1, 'Netflix': 3, 'Cuties': 1, 'Pedobait': 1, 'Scandal': 1, 'Housing': 1, 'Capitalism': 1, 'Know': 1, 'It': 10, 'Persona': 1, 'May': 1, 'Herald': 1, 'PC': 1, 'Golden': 2, 'Age': 2, 'Sega': 1, 'Obvious': 1, 'Kate': 1, 'Middleton': 1, 'Didn': 3, 'Pander': 1, 'Radio': 1, 'Flyer': 1, 'Tesla': 4, 'Model': 1, 'Y': 1, 'powered': 1, 'kids': 2, 'feet': 1, 'Samsung': 2, 'Galaxy': 1, 'Note': 2, '20': 1, 'Ultra': 1, 'review': 1, 'Unabashedly': 1, 'Hisense': 1, 'laser': 1, 'projector': 1, 'comes': 1, 'inch': 1, 'screen': 1, 'Google': 3, 'smart': 1, 'displays': 1, 'simplify': 1, 'multi': 1, 'room': 1, 'audio': 1, 'asks': 1, 'type': 1, 'wireless': 1, 'broadband': 1, 'Dwayne': 1, 'Johnson': 1, 'reveals': 3, 'Justice': 6, 'Society': 2, 'lineup': 1, 'em': 12, 'Adam': 4, 'Zack': 2, 'Snyder': 5, 'releases': 2, 'mysterious': 2, 'cut': 2, 'Penny': 1, 'Dreadful': 1, 'City': 2, 'Angels': 1, 'canceled': 1, 'Showtime': 1, 'Brooklyn': 1, 'Nine': 2, 'star': 2, 'Melissa': 1, 'Fumero': 1, 'out': 2, 'Canadian': 1, 'remake': 1, 'whitewashed': 1, 'casting': 1, 'Gal': 1, 'Gadot': 1, 'off': 4, 'defends': 1, 'interview': 1, 'clip': 1, 'resurfaces': 1, 'victim': 2, 'this': 6, 'Weekend': 2, 'Lucifer': 1, 'rises': 2, 'again': 6, 'season': 2, '5': 2, 'premiere': 1, 'Nationals': 1, 'fire': 1, 'employee': 1, 'throwing': 1, 'coffee': 2, 'woman': 1, 'Mike': 1, 'Milbury': 1, 'NHL': 1, 'playoff': 3, 'broadcasts': 1, 'insulting': 1, 'comment': 1, 'women': 2, 'Seahawks': 1, 'end': 2, 'practice': 1, 'DE': 1, 'Branden': 1, 'Jackson': 1, 'knocked': 1, 'unconscious': 1, 'San': 1, 'Francisco': 1, '49ers': 1, 'lineman': 1, 'Trent': 1, 'Williams': 1, 'has': 5, 'praise': 1, 'teammate': 1, 'Nick': 1, 'Bosa': 1, 'Brittney': 1, 'Griner': 1, 'leaves': 1, 'WNBA': 1, 'bubble': 1, 'Phoenix': 1, 'Mercury': 1, 'announce': 1, 'Mavericks': 1, 'Luka': 1, 'Doncic': 1, 'likely': 2, 'game': 9, 'time': 4, 'decision': 1, 'Game': 2, 'vs': 5, 'Clippers': 1, 'Fantasy': 1, 'football': 2, 'rankings': 1, 'Eric': 1, 'Karabell': 1, 'running': 1, 'tiers': 1, 'PCB': 1, 'hands': 1, 'Umar': 1, 'Akmal': 1, 'three': 1, 'year': 1, 'ban': 4, 'all': 3, 'cricket': 1, 'ESPNcricinfo': 10, 'com': 9, 'Akram': 1, 'yorkers': 1, 'Hegg': 1, 'Chapple': 1, '18': 1, 'realised': 1, 'also': 1, 'cry': 1, 'winning': 1, 'Five': 5, 'people': 2, 'didn': 2, 'know': 2, 'profiles': 1, 'Sri': 1, 'Lanka': 1, 'don': 1, 'win': 2, '1996': 1, 'World': 3, 'Cup': 4, 'fighting': 1, 'own': 1, 'benchmarks': 1, 'Ashwin': 1, 'soap': 1, 'opera': 1, 'starring': 1, 'KP': 1, 'Warnie': 1, 'Mahela': 1, 'CSK': 1, 'games': 1, 'hardcore': 1, 'fans': 1, 'remember': 2, 'ball': 1, 'whole': 3, 'world': 4, 'Saeed': 1, 'Ajmal': 1, 'v': 1, 'Sachin': 1, 'Tendulkar': 1, 'revisited': 1, 'learned': 1, 'watching': 1, '1992': 1, 'final': 1, 'full': 1, 'pair': 1, 'twin': 1, 'YouTubers': 1, 'offer': 1, 'lesson': 1, 'openness': 1, 'Paul': 1, 'Ryan': 3, 'onto': 1, 'SPAC': 1, 'train': 1, 'Barack': 1, 'Obama': 2, 'taking': 1, 'TikTok': 4, 'too': 2, 'Chinese': 2, 'Internets': 1, 'drifting': 1, 'apart': 1, 'bad': 2, 'Women': 3, 'finally': 1, 'reclaiming': 1, 'house': 1, 'dress': 1, 'Corporate': 1, 'values': 1, 'under': 2, 'presidency': 2, 'rally': 1, 'even': 1, 'cases': 4, 'unemployment': 1, 'spike': 1, 'spurred': 1, 'rapid': 1, 'transformation': 1, 'care': 2, 'Let': 3, 'sure': 1, 'stays': 1, 'way': 2, 'female': 1, 'leaders': 1, 'faring': 1, 'better': 1, 'than': 3, 'wartime': 1, 'presidents': 1, 'against': 2, 'President': 3, 'going': 2, '25B': 2, 'Post': 3, 'Office': 1, 'Parents': 1, 'prepare': 1, 'juggle': 1, 'home': 2, 'learning': 2, 'their': 3, 'jobs': 1, 'viral': 2, 'comedian': 1, 'Cooper': 1, 'videos': 1, 'impersonating': 1, 'president': 3, 'fight': 2, 'touts': 1, 'law': 1, 'agenda': 1, 'predicts': 1, 'grim': 1, 'Paris': 1, 'Hilton': 1, 'alleged': 1, 'abuse': 1, 'Utah': 1, 'boarding': 1, 'Continuous': 1, 'torture': 1, 'Michigan': 1, 'appeals': 1, 'court': 4, 'backs': 1, 'Whitmer': 1, 'use': 3, 'powers': 1, 'Students': 1, 'pivot': 1, 'virtual': 2, 'Newt': 1, 'Gingrich': 1, 'boffo': 1, 'convention': 4, 'could': 6, 'hobble': 1, 'rest': 1, 'campaign': 2, 'attack': 2, 'Marquese': 1, 'Love': 3, 'kicked': 1, 'him': 1, 'behind': 4, 'WWE': 2, 'Friday': 1, 'Night': 1, 'SmackDown': 1, '17th': 1, 'minutes': 1, 'FRIDAY': 1, 'NIGHT': 1, 'SMACKDOWN': 1, 'VIDEO': 1, 'members': 1, 'Madden': 1, '21': 1, '99': 1, 'Club': 1, 'around': 3, 'MVP': 1, 'Cy': 1, 'Rookie': 1, 'Year': 2, 'favorites': 1, 'awards': 1, 'NFL': 4, 'Videos': 2, 'Scores': 1, 'Teams': 1, 'Standings': 1, 'Stats': 1, 'Daniel': 1, 'respond': 1, 'Thursday': 1, 'story': 1, 'looks': 1, 'reboot': 1, 'Syracuse': 1, 'University': 1, 'suspends': 1, '23': 1, 'incredibly': 1, 'reckless': 1, 'gathering': 1, 'Not': 2, 'Behind': 2, 'Us': 3, 'Continue': 1, 'Burn': 1, 'Houses': 1, 'newly': 1, 'renovated': 1, 'TheHill': 11, 'Mnuchin': 1, 'Paved': 1, 'Way': 1, 'P': 2, 'Shake': 1, 'Up': 2, 'controversial': 1, 'Alaska': 1, 'gold': 1, 'mine': 1, 'Challenge': 1, 'Executive': 1, 'Order': 1, '14': 3, 'hour': 1, 'storm': 1, 'caused': 1, 'extensive': 1, 'Iowans': 1, 'trying': 1, 'recover': 1, 'land': 2, 'hurricane': 2, 'Reverse': 1, 'engineering': 1, '8086': 1, 'Arithmetic': 1, 'Logic': 1, 'Unit': 1, 'die': 1, 'photos': 1, 'Worldwide': 1, 'Mobile': 1, 'Data': 2, 'Pricing': 1, 'Cost': 2, '1GB': 1, '230': 1, 'countries': 1, 'Cable': 1, 'co': 1, 'uk': 1, 'apologizes': 2, 'WordPress': 2, 'won': 3, 'free': 3, 'add': 2, 'purchases': 2, 'Rosatom': 1, 'previously': 2, 'classified': 1, 'documentary': 1, 'video': 3, 'Tsar': 1, 'Bomba': 1, 'nuke': 1, 'degoogle': 1, 'Future': 2, 'DeepSpeech': 1, 'STT': 1, 'recent': 1, 'Mozilla': 1, 'Build': 1, 'tools': 2, 'workflows': 2, 'VTM': 1, 'Initial': 1, 'offerings': 1, 'Zero': 1, 'G': 1, 'Some': 2, 'mobile': 2, 'still': 1, 'waiting': 1, 'signal': 1, 'DC': 6, 'FanDome': 6, 'Official': 3, 'Teaser': 2, 'IGN': 10, 'Introduces': 1, 'Play': 1, 'Sam': 1, 'Fisher': 1, 'w': 1, 'Coconut': 1, 'Brah': 1, 'Rainbow': 1, 'Six': 1, 'Siege': 1, 'Gotham': 4, 'Knights': 5, 'Playable': 1, 'Story': 1, 'Combat': 1, 'Dead': 1, 'Batman': 3, 'Explained': 1, 'Titans': 1, 'Season': 1, 'Adds': 2, 'Red': 2, 'Hood': 1, 'Barbara': 1, 'Gordon': 1, 'Scarecrow': 1, 'Cut': 2, 'Trailer': 2, 'Will': 6, 'Face': 1, 'Against': 3, 'Hawkman': 1, 'Dr': 1, 'Fate': 1, 'Cyclone': 1, 'Taika': 1, 'Waititi': 1, 'Playing': 1, 'Suicide': 3, 'Squad': 3, 'Revealed': 1, 'Best': 6, 'Announcements': 1, 'Reveals': 1, 'So': 2, 'Far': 2, 'iPhone': 1, 'Screen': 1, 'Time': 1, 'helpful': 1, 'AOC': 1, 'opens': 1, 'threats': 2, 'baseball': 1, 'team': 1, 'shows': 2, 'offensive': 1, 'now': 3, 'kick': 1, 'riders': 1, 'low': 1, 'ratings': 1, 'Metal': 2, 'Mario': 1, 'makes': 1, 'Hot': 1, 'Wheels': 1, 'debut': 1, 'summer': 2, 'challenges': 1, 'smaller': 1, 'cheaper': 1, 'Echo': 1, 'Show': 1, 'Doom': 1, 'Patrol': 1, 'rare': 3, 'superhero': 1, 'show': 2, 'understands': 1, 'trauma': 1, 'older': 1, 'demographic': 1, 'Facebook': 6, 'Even': 2, 'mild': 1, 'produce': 1, 'long': 1, 'lasting': 1, 'dangerous': 2, 'because': 2, 'SARS': 1, 'CoV': 1, 'reduces': 1, 'specific': 1, 'microRNAs': 1, 'Treating': 1, 'Bipolar': 1, 'drug': 1, 'promise': 1, 'other': 1, 'hopeful': 1, 'findings': 1, 'Room': 1, 'beyond': 1, 'Tool': 1, 'help': 5, 'manage': 1, 'patients': 2, 'diabetes': 1, 'Dry': 1, 'heat': 1, 'effectively': 1, 'sanitize': 1, 'N95': 1, 'masks': 1, 'Lives': 2, 'Matter': 1, 'change': 2, 'science': 1, 'society': 1, 'blood': 1, 'speed': 1, 'development': 1, 'population': 1, 'screening': 1, 'weather': 2, 'affect': 1, 'MSNBC': 3, 'Scarborough': 1, 'MTP': 1, 'Daily': 1, 'Beat': 1, 'With': 4, 'Ari': 1, 'Melber': 1, 'Travis': 1, 'Scott': 1, 'Bass': 1, 'Rattling': 1, 'Tenet': 1, 'Trip': 1, 'Greyson': 1, 'Chance': 1, 'Victory': 1, 'Bell': 1, 'Tomberlin': 1, 'Wasted': 1, 'Dream': 2, 'And': 2, 'Songs': 1, 'BTS': 1, 'Detonate': 1, 'Dynamite': 1, 'Infectiously': 1, 'Catchy': 1, 'Disco': 1, 'Listen': 1, 'Twice': 1, 'Energetic': 1, 'English': 1, 'Take': 1, 'DaBaby': 1, 'Eyed': 1, 'Peas': 1, 'Bring': 1, 'Heat': 1, 'Performing': 1, 'At': 1, 'VMAs': 1, 'robot': 1, 'revolution': 1, 'arrived': 1, 'explored': 1, 'humanity': 2, 'complicated': 1, 'relationship': 1, 'robots': 1, 'rhino': 1, 'had': 3, 'percent': 1, 'poacher': 1, 'convictions': 1, 'closed': 1, 'artists': 1, 'drawn': 1, 'dangerously': 1, 'close': 1, 'isolated': 1, 'Arrow': 1, 'Farming': 1, 'continues': 1, 'hope': 2, 'Caquetá': 1, 'Colombia': 1, 'Tainted': 1, 'sanitizers': 1, 'bootleg': 1, 'booze': 1, 'poisoning': 1, 'En': 1, 'garde': 1, 'France': 1, 'dueling': 1, 'capital': 1, 'vaccines': 1, 'become': 1, 'mandatory': 1, 'how': 6, 'might': 2, 'work': 1, 'save': 1, 'historic': 1, 'cemeteries': 1, 'Zuckerberg': 1, 'Defends': 1, 'Refusal': 1, 'Censor': 1, 'Political': 1, 'Ads': 1, 'Themselves': 1, 'Politicians': 1, 'Saying': 1, 'Ukraine': 2, 'Zelensky': 1, 'Denies': 1, 'Negotiating': 1, 'Quid': 1, 'Quo': 1, 'Criticizes': 1, 'Stance': 1, 'Corruption': 1, 'Aunt': 1, 'Becky': 1, 'Underpaid': 1, 'Teachers': 1, 'Myth': 1, 'No': 1, 'Have': 1, 'Go': 1, 'Become': 2, 'Welder': 1, 'Hey': 3, 'Christians': 1, 'Welcoming': 1, 'Committee': 1, 'Counterintuitive': 1, 'Compelling': 1, 'Case': 1, 'Class': 1, 'Action': 1, 'Lawsuits': 1, 'Short': 1, 'Weakened': 1, 'State': 5, 'Presents': 1, 'Dangers': 1, 'Kenneth': 1, 'i': 4, 'Civilisation': 1, 'Half': 1, 'Century': 2, 'Al': 1, 'Pacino': 1, 'Matters': 1, 'Northern': 1, 'wildfire': 1, '2nd': 1, 'largest': 1, 'ever': 1, 'total': 1, 'blazes': 1, 'scorch': 1, 'nearly': 1, '1M': 1, 'debates': 1, 'funds': 1, 'Saturday': 2, 'session': 1, 'supremacy': 1, 'child': 1, 'separations': 1, 'officials': 1, 'along': 1, 'critics': 1, 'say': 2, 'Week': 2, 'Pictures': 1, 'cow': 1, 'south': 1, 'looms': 1, 'nationwide': 1, 'rallies': 1, 'SavetheChildren': 1, 'hashtags': 1, 'failed': 1, 'Ferraro': 1, 'Palin': 1, 'VP': 1, 'campaigns': 1, 'teach': 2, 'us': 2, 'sexism': 1, 'best': 1, 'thermometers': 2, 'Covid': 5, 'UK': 1, 'level': 1, 'number': 1, 'slightly': 1, 'Man': 1, 'half': 1, 'every': 1, 'like': 2, 'melting': 1, 'due': 1, 'brain': 1, 'lesion': 1, 'Cancer': 1, 'tumour': 1, 'microbiome': 1, 'predict': 1, 'chances': 1, 'survival': 1, 'infected': 1, 'flight': 1, 'Walking': 1, 'catfish': 1, 'body': 1, 'smell': 1, 'when': 1, 'turtles': 1, 'carrying': 1, 'improve': 1, 'forecasts': 1, 'should': 2, 'rewild': 1, 'sky': 1, 'restore': 1, 'atmosphere': 1, 'its': 3, 'former': 2, 'glory': 1, 'dark': 1, 'matter': 1, 'called': 1, 'something': 1, 'else': 2, 'Hiroshima': 1, 'teaches': 1, 'forecast': 1, 'fake': 1, 'outbreaks': 1, 'social': 2, 'media': 2, 'coming': 1, 'Minnesota': 1, 'Nebraska': 1, 'Say': 1, 'Cases': 1, 'Linked': 1, 'Sturgis': 1, 'Motorcycle': 1, 'Rally': 2, 'Battleground': 1, 'States': 3, 'Much': 2, '12': 2, 'Points': 1, 'Russian': 2, 'Opposition': 1, 'Leader': 1, 'Was': 1, 'Taken': 1, 'Secret': 1, 'Press': 1, 'Sec': 1, 'ISIS': 1, 'Church': 1, 'Bombs': 1, 'Gain': 1, 'Ocean': 1, 'Ally': 1, 'Chagrin': 1, 'Designed': 1, 'Michelle': 1, 'VOTE': 1, 'Necklace': 1, 'Leading': 1, 'Engineering': 1, 'Computer': 1, 'Science': 1, 'Programs': 1, 'Brands': 2, 'Trust': 1, 'Most': 1, 'Maternity': 1, 'Hospitals': 1, 'Realtors': 1, 'Newsweek': 1, 'AMPLIFY': 1, 'Empowers': 1, 'Affiliate': 1, 'Through': 1, 'Digital': 1, 'Content': 2, 'Books': 1, 'Should': 1, 'Read': 3, 'Eight': 1, 'Nvidia': 1, 'A100': 1, 'Next': 2, 'Generation': 2, 'Tensor': 1, 'Petaflops': 1, '200': 1, 'Scale': 1, 'Dominance': 1, 'Tricks': 1, 'Thinking': 1, 'Hype': 1, 'artificial': 1, 'intelligence': 1, 'AGI': 1, 'Ben': 1, 'Goertzel': 1, 'Interview': 1, 'Artificial': 1, 'Intelligence': 1, 'elon': 1, 'musk': 1, 'Overcome': 1, 'Denial': 1, '8': 1, 'Trillion': 1, 'Giant': 1, 'Prompting': 1, 'Enterprises': 1, 'Adjust': 1, 'Integrated': 1, 'Strategies': 1, 'energy': 1, 'Emmitt': 1, 'Smith': 2, 'Cowboys': 1, 'play': 1, 'chicken': 1, 'Dak': 1, 'Raiders': 1, 'CB': 2, 'Prince': 1, 'Amukamara': 1, 'agree': 2, 'terms': 1, 'Meyer': 1, 'Haskins': 1, 'needs': 1, 'great': 2, 'players': 1, 'elite': 1, 'culture': 1, 'Colts': 1, 'excited': 1, 'punch': 1, 'RBs': 1, 'Mack': 1, 'closely': 1, 'monitor': 2, 'restart': 1, 'soccer': 1, 'Falcons': 1, 'bring': 1, 'competition': 1, 'Younghoe': 1, 'Koo': 1, 'Jets': 2, 'showing': 1, 'interest': 1, 'agent': 1, 'Logan': 1, 'Cards': 1, 'Isaiah': 1, 'Simmons': 1, 'focus': 1, 'Dolphins': 1, 'Tua': 1, 'Tagovailoa': 1, 'tops': 1, 'jersey': 1, 'sales': 1, 'since': 2, 'draft': 1, 'Gase': 1, 'Frank': 1, 'Gore': 1, 'brings': 1, 'hard': 1, 'thriving': 1, 'entering': 1, 'series': 2, 'Canucks': 2, 'Flyers': 2, 'Islanders': 1, 'preview': 2, 'Bruins': 1, 'Lightning': 1, 'expect': 1, 'pretty': 1, 'intense': 1, 'Eastern': 2, 'Second': 3, 'Round': 3, 'Canadiens': 1, 'luck': 1, 'while': 1, 'losing': 1, 'Blues': 1, 'overcome': 1, 'Binnington': 1, 'struggles': 1, 'round': 3, 'Stanley': 2, 'Playoffs': 2, 'spring': 1, 'second': 3, 'Keys': 1, 'Stars': 2, 'Avalanche': 2, 'Western': 1, 'Projected': 1, 'lineups': 1, 'starting': 1, 'goalies': 1, 'today': 1, 'schedule': 1, 'Federal': 1, 'judge': 1, 'rules': 1, 'Cuccinelli': 1, 'appointment': 1, 'unlawful': 1, 'fighter': 1, 'pilot': 1, 'takes': 2, 'astronaut': 1, 'McSally': 1, 'Arizona': 1, 'mission': 2, 'footage': 1, 'remakes': 1, 'Harley': 1, 'Quinn': 1, 'unleashes': 1, 'villains': 2, 'WB': 2, 'Games': 2, 'Fandome': 1, 'Microsoft': 1, 'Flight': 2, 'Simulator': 2, 'visual': 1, 'glitches': 1, 'sprinkle': 1, 'cosmic': 1, 'horror': 1, 'Gear': 1, 'Solid': 1, 'board': 1, 'delayed': 1, '2021': 1, 'responds': 1, 'Epic': 5, 'Fortnite': 6, 'lawsuit': 1, 'Tim': 1, 'Sweeney': 1, 'asked': 2, 'special': 2, 'deal': 2, 'Ubisoft': 1, 'collector': 1, 'editions': 1, 'Xbox': 1, 'Series': 1, 'include': 1, 'disc': 1, 'copies': 1, 'Everything': 1, 'leaving': 1, 'Destiny': 2, 'Beyond': 1, 'Light': 1, 'teases': 1, 'Marvel': 1, 'crossover': 1, 'seems': 1, 'involve': 1, 'Thor': 1, 'Court': 3, 'Owls': 1, 'Dynasty': 1, 'Toys': 1, 'rich': 1, 'quick': 1, 'scheme': 1, 'cost': 1, 'sellers': 1, 'thousands': 1, 'then': 1, 'got': 1, 'them': 1, 'banned': 1, 'Walmart': 1, 'Target': 1, 'reap': 1, 'rewards': 1, 'restrictions': 1, 'strategy': 1, 'Lincoln': 1, 'Project': 1, 'anti': 1, 'PAC': 1, 'embraced': 1, 'followers': 1, 'violent': 1, 'movement': 1, 'bans': 1, 'some': 1, 'groups': 1, 'Photos': 1, 'mailboxes': 1, 'being': 1, 'removed': 1, 'aren': 1, 'always': 1, 'they': 1, 'seem': 1, 'Do': 1, 'companies': 2, 'censor': 1, 'majority': 1, 'Americans': 2, 'think': 3, 'misinformation': 1, 'Twitter': 1, 'worries': 1, 'experts': 1, 'parent': 1, 'dares': 1, 'iPhones': 1, 'r': 7, 'memes': 1, 'Spitting': 1, 'straight': 1, 'faxx': 1, 'aww': 1, 'Parrot': 1, 'reaction': 1, 'music': 1, 'dankmemes': 1, 'he': 4, 'gives': 1, 'me': 1, 'cyberpunk': 1, '2077': 1, 'BeAmazed': 1, 'Champ': 1, 'HumansBeingBros': 1, 'Helping': 1, 'stray': 1, 'Dog': 1, 'ScottishPeopleTwitter': 1, 'share': 2, 'Reddit': 1, 'Interested': 1, 'Cloud': 2, 'changing': 1, 'adapting': 1, 'quot': 2, 'normal': 1, 'Then': 1, 'check': 1, 'our': 4, 'AMA': 1, 'Tristan': 1, 'Morel': 1, 'L': 1, 'Horset': 1, 'lead': 1, 'Accenture': 1, 'amp': 1, 'Infrastructure': 1, 'Growth': 1, 'gaming': 1, 'someone': 1, 'copying': 1, 'your': 3, 'answers': 1, 'write': 1, 'wrong': 1, 'ones': 1, 'thinking': 1, 'Gorilla': 1, 'messing': 1, 'friend': 1, 'humanlike': 1, '500': 1, 'closes': 1, 'nominally': 1, 'higher': 1, 'spikes': 1, 'muted': 1, 'data': 1, 'unfit': 2, 'Democrat': 1, 'Pelosi': 6, 'conservative': 2, 'Bolton': 1, 'stock': 1, 'markets': 1, 'slip': 1, 'wave': 1, 'fears': 1, 'safe': 1, 'havens': 1, 'rise': 1, 'pledges': 1, 'list': 1, 'Supreme': 2, 'contenders': 1, 'Atlanta': 1, 'officer': 1, 'state': 3, 'witness': 1, 'Rayshard': 1, 'case': 1, 'foreign': 1, 'ministry': 1, 'DACA': 1, 'program': 2, 'developments': 1, 'ethically': 1, 'continue': 1, 'oversight': 1, 'organized': 1, 'hate': 1, 'policy': 1, 'wants': 2, 'start': 1, 'building': 1, 'vehicle': 1, 'plant': 1, 'bid': 1, 'Dreamers': 1, 'immigrant': 1, 'Palantir': 1, 'revenue': 1, 'mystery': 1, 'Startups': 1, 'Weekly': 1, 'unicorns': 1, 'go': 1, 'sooner': 1, 'Launched': 1, 'Norwest': 1, 'investors': 2, 'Tau': 1, 'Ventures': 1, 'ready': 1, 'closeup': 1, 'MacBook': 1, 'SE': 1, 'Bletchley': 1, 'Park': 1, 'birth': 1, 'place': 1, 'computer': 1, 'uncertain': 1, 'income': 1, 'Hear': 1, 'experienced': 1, 'edtech': 1, 'market': 1, 'overnight': 1, 'boom': 1, 'Apps': 1, 'antitrust': 1, 'war': 1, 'alt': 1, 'ecosystems': 1, 'proven': 1, 'ways': 1, 'attract': 1, 'hire': 1, 'diverse': 1, 'talent': 1, 'Original': 1, 'podcast': 1, 'Selling': 1, 'Sunset': 1, 'everyone': 1, 'villain': 1, 'VCs': 1, 'discuss': 1, 'no': 2, 'code': 1, 'horizontal': 1, 'industries': 1, 'Test': 1, 'd': 5, 'Arcade': 1, 'tvOS': 1, 'date': 1, 'de': 3, 'sortie': 1, 'version': 1, 'bêta': 1, 'et': 2, 'nouvelles': 1, 'fonctionnalités': 1, 'la': 3, 'prochaine': 1, 'mise': 1, 'à': 2, 'jour': 1, 'PlayStation': 1, 'Store': 2, 'économisez': 1, 'jusqu': 1, '70': 2, 'sur': 1, 'des': 2, 'centaines': 1, 'jeux': 1, 'PS4': 1, 'prépare': 1, 'rentrée': 1, 'classes': 1, 'offre': 1, 'une': 1, 'paire': 1, 'AirPods': 1, 'gratuits': 1, 'aux': 1, 'étudiants': 1, 'Le': 1, 'Canon': 1, 'EOS': 1, 'R6': 1, 'est': 1, 'le': 1, 'nouveau': 1, 'concurrent': 1, 'puissant': 1, 'du': 1, 'Nikon': 1, 'Z6': 1, 'Les': 1, 'meilleures': 1, 'imprimantes': 1, 'multifonctions': 1, 'pour': 1, 'maison': 1, 'Icons': 1, 'Rubio': 1, 'Rise': 2, 'Neoreactionaries': 1, 'Cold': 1, 'War': 1, 'Triumphalism': 1, 'Kennan': 1, 'Warning': 1, 'Modernity': 1, 'Robinson': 1, 'Crusoe': 1, 'American': 3, 'Art': 1, 'Pioneer': 1, 'Resurrecting': 1, 'James': 2, 'Dean': 1, 'Forgotten': 1, 'Treasure': 1, 'These': 1, 'Lands': 1, 'Sexist': 1, 'Desperate': 1, 'Bully': 1, 'Warren': 1, 'Poetry': 1, 'Populism': 1, 'Woke': 1, 'Military': 1, 'Really': 1, 'Preparing': 1, 'TAC': 1, 'Regime': 1, 'Change': 1, 'Foreign': 1, 'Policy': 1, 'Conference': 1, 'Progressives': 1, 'Tell': 2, 'Ends': 1, 'boost': 1, 'Ed': 1, 'Markey': 1, 'unlikely': 1, 'emergence': 1, 'icon': 1, 'activists': 1, 'Meadows': 2, 'appears': 1, 'Capitol': 1, 'talk': 1, 'stalled': 1, 'negotiations': 1, 'hammers': 1, 'far': 2, 'worse': 2, 'acknowledged': 1, 'Outgoing': 1, 'Democratic': 2, 'chairman': 1, 'crunch': 1, 'Pompeo': 1, 'probe': 1, 'six': 1, 'key': 1, 'swing': 1, 'handle': 1, 'rails': 1, 'testing': 1, 'seeks': 1, 'victory': 1, 'prescription': 1, 'drugs': 1, 'unites': 1, 'Accuses': 1, 'Deep': 1, 'Him': 2, 'Vaccine': 2, 'Testing': 1, 'Debates': 1, 'Sending': 1, 'Billion': 1, 'Rare': 1, 'Session': 1, 'Cultists': 1, 'Emboldened': 1, 'By': 2, 'Hollywood': 1, 'Spread': 1, 'Dangerous': 1, 'Conspiracies': 1, 'Leaked': 1, 'Audio': 1, 'Credits': 1, 'Vote': 1, 'Reports': 1, 'Storms': 1, 'Potential': 1, 'Double': 1, 'Threat': 1, 'Ex': 1, 'Security': 2, 'Endorse': 1, '300': 1, 'Unemployment': 1, 'Benefit': 1, 'Guide': 1, 'Starts': 1, 'Took': 2, 'Holiday': 1, 'Paying': 1, 'Price': 1, 'He': 1, 'Would': 1, 'Resign': 1, 'Agency': 1, 'Rubber': 1, 'Stamps': 1, 'Unproven': 1, 'Updates': 2, 'Latest': 1, 'Fatty': 1, 'acids': 1, 'fish': 1, 'treat': 1, 'asthma': 1, 'AI': 2, 'human': 1, 'perception': 1, 'complex': 1, 'compared': 1, 'Adobe': 1, 'design': 1, 'training': 1, 'creators': 1, 'unleash': 1, 'apps': 1, 'nothing': 1, 'accelerating': 1, 'shift': 1, 'away': 1, 'fossil': 1, 'fuels': 1, 'giant': 1, 'Betelgeuse': 1, 'dimmed': 1, 'sneezed': 1, 'astronomers': 1, 'explain': 1, 'Grab': 1, 'popcorn': 1, 'fires': 1, 'filing': 1, 'find': 1, 'alternate': 1, 'language': 1, 'options': 1, 'HBO': 1, 'Max': 1, 'Intel': 1, 'give': 1, 'cyborg': 1, 'voice': 1, 'worth': 1, 'trillion': 1, 'crashed': 1, 'NASDAQ': 1, 'GPT': 1, 'require': 1, 'debuts': 1, 'Fall': 1, 'Guys': 1, 'perfect': 1, 'confirms': 1, 'administration': 1, 'Gunn': 1, 'sequel': 1, 'Montreal': 1, 'schooled': 1, 'bunch': 1, 'universities': 1, 'emails': 1, 'led': 1, 'App': 1, 'claims': 1, 'payments': 1, 'Grow': 1, 'Third': 1, 'Largest': 1, 'Evacuated': 1, 'Russia': 1, 'Germany': 1, 'Bond': 1, 'Yields': 1, 'Passes': 1, 'Bill': 1, 'Bolster': 1, 'Strong': 1, 'Crop': 1, 'Farmers': 1, 'Suffering': 1, 'South': 1, 'Africa': 1, 'Lifts': 1, 'Ban': 1, 'Wine': 1, 'Sales': 1, 'Many': 1, 'Vintners': 1, 'Fear': 1, 'Too': 2, 'Late': 1, 'Dividing': 1, 'Worker': 1, 'Breaks': 1, 'Writing': 1, 'Barrier': 1, 'David': 1, 'Pecker': 1, 'CEO': 1, 'Enquirer': 1, 'Parent': 1, 'Steps': 1, 'Down': 2, 'Merger': 1, 'Logistics': 1, 'Firm': 1, 'Pay': 1, 'Cuts': 1, 'Coming': 1, 'End': 2, 'Companies': 1, 'newsletter': 1, 'Life': 2, 'Home': 1, 'Map': 1, 'closing': 1, 'shutdown': 1, 'newbie': 1, 'RV': 1, 'renter': 1, 'learns': 1, 'mistakes': 2, 'move': 1, 'quarantine': 1, 'separation': 1, 'anxiety': 1, 'follow': 1, 'these': 1, 'travel': 1, '7': 1, 'writers': 1, 'stories': 1, 'blunders': 1, 'road': 1, 'Perspective': 1, 'idea': 1, 'run': 1, 'reelection': 1, 'incumbent': 1, 'Asked': 1, 'readers': 1, 'want': 1, 'maps': 1, 'Tracking': 1, 'slams': 1, 'money': 1, 'wasting': 1, 'HOAX': 1, 'Chair': 1, 'Maloney': 1, 'Mail': 1, 'were': 1, 'reported': 1, 'Nancy': 1, 'trafficking': 1, 'voter': 1, 'suppression': 1, 'skinny': 1, 'relief': 1, 'package': 1, 'request': 1, 'deficient': 1, 'shut': 1, 'scientists': 1, 'recommend': 1, 'election': 3, 'ballot': 2, 'requests': 1, 'surge': 1, 'Bernie': 1, 'Sanders': 1, 'serious': 1, 'debate': 1, 'teaming': 1, 'FBI': 1, 'warns': 1, 'cyberattacks': 1, 'counterintelligence': 1, 'facing': 1, 'D': 1, 'C': 1, 'tanks': 1, 'Entirely': 1, 'Empty': 1, 'Bowels': 1, 'Every': 2, 'Surgeon': 2, 'Explains': 1, 'Heart': 1, 'Throw': 1, 'Olive': 1, 'Oil': 1, 'Finding': 1, 'Hope': 1, 'TIME': 1, 'Community': 1, 'Navigating': 1, 'Our': 2, 'Reality': 1, 're': 1, 'Regressing': 1, 'Teenage': 1, 'Self': 1, 'Renters': 1, 'Being': 2, 'Forced': 1, 'Despite': 1, 'Eviction': 1, 'Moratoriums': 1, 'Meant': 1, 'Protect': 1, 'Them': 1, 'Signature': 1, 'Appear': 2, 'Stimulus': 1, 'Checks': 1, 'York': 1, 'Doctor': 1, 'Describe': 1, 'Medical': 1, 'Professionals': 1, 'Otherwise': 1, 'Alone': 1, 'Foster': 1, 'Pets': 1, 'Offer': 1, 'Needed': 1, 'Companionship': 1, 'Isolation': 1, 'Ditching': 1, 'Zoom': 1, '10': 1, 'Chat': 1, 'Alternatives': 1, 'Use': 1, 'Instead': 1, 'returns': 1, 'recess': 1, 'additional': 1, 'United': 1, 'Redwoods': 1, 'Basin': 1, 'park': 1, 'lightning': 1, 'possible': 1, 'weekend': 1, 'Opinion': 1, 'left': 1, 'decade': 1, 'ago': 1, 'saved': 1, 'Hurry': 1, 'dying': 1, 'hospital': 1, 'chaplain': 1, 'journal': 1, 'chronicles': 1, 'private': 1, 'wounds': 1, 'hurricanes': 1, 'collide': 1, 'happen': 1, 'meet': 1, 'easy': 1, 'task': 1, 'scrambles': 1, 'finalize': 1, 'plans': 1, 'venue': 1, 'input': 1, 'Gannett': 1, 'Diversity': 1, 'inclusion': 1, 'choices': 1, 'words': 1, 'reaffirm': 1, 'Where': 1, 'absentee': 1, 'INSIDE': 2, 'Amway': 2, 'Coaches': 2, 'Head': 1, 'Coach': 1, 'Mark': 1, 'Richt': 1, 'joins': 1, 'plus': 1, 'Aber': 1, 'Oklahoman': 1, 'Omny': 1, 'fm': 1, 'Lawmaker': 1, 'Tested': 1, 'Positive': 1, 'Bother': 1, 'His': 1, 'Colleagues': 1, 'Congressman': 1, 'Officiated': 1, 'Gay': 1, 'Election': 1, 'Hong': 1, 'Kong': 1, 'Law': 1, 'Approved': 1, 'Protest': 2, 'Movement': 1, 'Nightmare': 1, 'Network': 1, 'Gab': 1, 'Has': 1, 'Verified': 1, 'Account': 2, 'Waiting': 1, '27': 1, 'Followers': 1, 'Minneapolis': 1, 'Loot': 1, 'Set': 1, 'Buildings': 1, 'Fire': 1, 'Killing': 1, 'George': 3, 'Floyd': 3, 'Undermine': 1, 'Resisted': 1, 'Officers': 1, 'Huge': 1, 'Milestone': 1, 'Graduates': 1, 'Stop': 1, 'Crying': 1, 'Won': 1, 'Abortion': 1, 'Pills': 1, 'Remotely': 1, 'Pandemic': 1, 'ACLU': 1, 'Suing': 1, 'Tara': 1, 'Reade': 1, 'Investigated': 1, 'Allegedly': 1, 'Lying': 1, 'Witness': 1, 'Stand': 1, 'Cops': 1, 'Involved': 1, 'Fatal': 1, 'Arrest': 1, 'Had': 1, 'Previous': 1, 'Violent': 1, 'Incidents': 1, 'Force': 1, 'Finally': 1, 'Cracks': 1, 'Solar': 1, 'Panels': 1, 'Starting': 1, 'Die': 1, 'Leaving': 1, 'Toxic': 1, 'Trash': 1, 'TVs': 1, 'Budget': 1, 'TCL': 1, 'LG': 1, 'Standing': 1, 'Desk': 1, 'Yours': 1, 'Deals': 1, 'Earbuds': 1, 'Robot': 1, 'Vacuums': 1, 'Kill': 1, 'Switch': 1, 'Solves': 1, 'Problem': 1, 'Uncanny': 1, 'Escapism': 1, 'Create': 1, 'Terrifying': 1, 'Weather': 1, '9': 1, 'Cheap': 1, 'Laptops': 1, 'Picks': 1, '700': 1, 'or': 1, 'Less': 1, 'Rocket': 1, 'Scientist': 1, 'Algorithm': 1}\n"
          ],
          "name": "stdout"
        }
      ]
    },
    {
      "cell_type": "code",
      "metadata": {
        "id": "YCj9KNMJpSB0",
        "colab_type": "code",
        "colab": {}
      },
      "source": [
        "keyword = list(parseVocab.keys())\n",
        "occurancy = list(parseVocab.values())"
      ],
      "execution_count": null,
      "outputs": []
    },
    {
      "cell_type": "code",
      "metadata": {
        "id": "DpqvL5rLoEZU",
        "colab_type": "code",
        "colab": {}
      },
      "source": [
        "dict_for_words = {\n",
        "    'keywords': keyword,\n",
        "    'occurancy': occurancy\n",
        "}"
      ],
      "execution_count": null,
      "outputs": []
    },
    {
      "cell_type": "code",
      "metadata": {
        "id": "S9516QGarn0S",
        "colab_type": "code",
        "colab": {
          "base_uri": "https://localhost:8080/",
          "height": 450
        },
        "outputId": "c680ad18-554c-4a8a-b488-ba40e8873861"
      },
      "source": [
        "topWords = pd.DataFrame(dict_for_words)\n",
        "topWords.set_index('keywords', inplace = True)\n",
        "topWords.sort_values(by = 'occurancy',ascending= False) "
      ],
      "execution_count": null,
      "outputs": [
        {
          "output_type": "execute_result",
          "data": {
            "text/html": [
              "<div>\n",
              "<style scoped>\n",
              "    .dataframe tbody tr th:only-of-type {\n",
              "        vertical-align: middle;\n",
              "    }\n",
              "\n",
              "    .dataframe tbody tr th {\n",
              "        vertical-align: top;\n",
              "    }\n",
              "\n",
              "    .dataframe thead th {\n",
              "        text-align: right;\n",
              "    }\n",
              "</style>\n",
              "<table border=\"1\" class=\"dataframe\">\n",
              "  <thead>\n",
              "    <tr style=\"text-align: right;\">\n",
              "      <th></th>\n",
              "      <th>occurancy</th>\n",
              "    </tr>\n",
              "    <tr>\n",
              "      <th>keywords</th>\n",
              "      <th></th>\n",
              "    </tr>\n",
              "  </thead>\n",
              "  <tbody>\n",
              "    <tr>\n",
              "      <th>to</th>\n",
              "      <td>225</td>\n",
              "    </tr>\n",
              "    <tr>\n",
              "      <th>s</th>\n",
              "      <td>203</td>\n",
              "    </tr>\n",
              "    <tr>\n",
              "      <th>the</th>\n",
              "      <td>167</td>\n",
              "    </tr>\n",
              "    <tr>\n",
              "      <th>in</th>\n",
              "      <td>154</td>\n",
              "    </tr>\n",
              "    <tr>\n",
              "      <th></th>\n",
              "      <td>151</td>\n",
              "    </tr>\n",
              "    <tr>\n",
              "      <th>...</th>\n",
              "      <td>...</td>\n",
              "    </tr>\n",
              "    <tr>\n",
              "      <th>Scarecrow</th>\n",
              "      <td>1</td>\n",
              "    </tr>\n",
              "    <tr>\n",
              "      <th>Gordon</th>\n",
              "      <td>1</td>\n",
              "    </tr>\n",
              "    <tr>\n",
              "      <th>Barbara</th>\n",
              "      <td>1</td>\n",
              "    </tr>\n",
              "    <tr>\n",
              "      <th>Hood</th>\n",
              "      <td>1</td>\n",
              "    </tr>\n",
              "    <tr>\n",
              "      <th>Algorithm</th>\n",
              "      <td>1</td>\n",
              "    </tr>\n",
              "  </tbody>\n",
              "</table>\n",
              "<p>2700 rows × 1 columns</p>\n",
              "</div>"
            ],
            "text/plain": [
              "           occurancy\n",
              "keywords            \n",
              "to               225\n",
              "s                203\n",
              "the              167\n",
              "in               154\n",
              "                 151\n",
              "...              ...\n",
              "Scarecrow          1\n",
              "Gordon             1\n",
              "Barbara            1\n",
              "Hood               1\n",
              "Algorithm          1\n",
              "\n",
              "[2700 rows x 1 columns]"
            ]
          },
          "metadata": {
            "tags": []
          },
          "execution_count": 20
        }
      ]
    },
    {
      "cell_type": "code",
      "metadata": {
        "id": "87HJVmaVshqY",
        "colab_type": "code",
        "colab": {}
      },
      "source": [
        "eliminated = [\"to\", \"s\"]"
      ],
      "execution_count": null,
      "outputs": []
    },
    {
      "cell_type": "code",
      "metadata": {
        "id": "6AN6BVMxjntk",
        "colab_type": "code",
        "colab": {
          "base_uri": "https://localhost:8080/",
          "height": 295
        },
        "outputId": "73428c1c-bd60-465e-ece9-9f191a8c3660"
      },
      "source": [
        "import matplotlib.pyplot as plt\n",
        "top10Words = sorted(parseVocab, key = lambda x: parseVocab[x], reverse = True)[:10]\n",
        "top10Occur = [parseVocab[x] for x in top10Words]\n",
        "plt.bar(top10Words, top10Occur)\n",
        "plt.title('Top 10 Trends in News')\n",
        "plt.ylabel('# of Occurances in Headlines')\n",
        "plt.xlabel('Trends')\n",
        "plt.show()"
      ],
      "execution_count": null,
      "outputs": [
        {
          "output_type": "display_data",
          "data": {
            "image/png": "[encoded data removed]",
            "text/plain": [
              "<Figure size 432x288 with 1 Axes>"
            ]
          },
          "metadata": {
            "tags": [],
            "needs_background": "light"
          }
        }
      ]
    },
    {
      "cell_type": "code",
      "metadata": {
        "id": "iZTtn2jIjntp",
        "colab_type": "code",
        "colab": {}
      },
      "source": [
        ""
      ],
      "execution_count": null,
      "outputs": []
    }
  ]
}