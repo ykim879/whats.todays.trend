{
  "nbformat": 4,
  "nbformat_minor": 0,
  "metadata": {
    "colab": {
      "name": "news_analyzer",
      "provenance": [],
      "authorship_tag": "ABX9TyNvbsYwEWE8IJXpUJyflG28",
      "include_colab_link": true
    },
    "kernelspec": {
      "name": "python3",
      "display_name": "Python 3"
    }
  },
  "cells": [
    {
      "cell_type": "markdown",
      "metadata": {
        "id": "view-in-github",
        "colab_type": "text"
      },
      "source": [
        "<a href=\"https://colab.research.google.com/github/ykim879/whats.todays.trend/blob/master/news_analyzer.ipynb\" target=\"_parent\"><img src=\"https://colab.research.google.com/assets/colab-badge.svg\" alt=\"Open In Colab\"/></a>"
      ]
    },
    {
      "cell_type": "markdown",
      "metadata": {
        "id": "VTA9UXv7skDf",
        "colab_type": "text"
      },
      "source": [
        "# News Analyzer"
      ]
    },
    {
      "cell_type": "code",
      "metadata": {
        "id": "FmMh0GmerjOr",
        "colab_type": "code",
        "colab": {}
      },
      "source": [
        "import requests\n",
        "import pandas as pd"
      ],
      "execution_count": 11,
      "outputs": []
    },
    {
      "cell_type": "code",
      "metadata": {
        "id": "b0Dy0sl1sx09",
        "colab_type": "code",
        "colab": {}
      },
      "source": [
        "key = '5e74c7cf9e344e3e8c04210f9b75125b'\n",
        "response = requests.get('https://newsapi.org/v2/sources?'\n",
        "\t\t\t   'language=en&country=us&'\n",
        "\t\t\t   'apiKey=' + key)\n",
        "sources = response.json()['sources']\n",
        "df = pd.DataFrame();\n",
        "pd.set_option('display.max_columns', 7)\n",
        "for source in sources:\n",
        "  row = pd.Series(source)\n",
        "  df = df.append(row, ignore_index = True)\n",
        "df.set_index(\"name\", inplace = True)"
      ],
      "execution_count": 12,
      "outputs": []
    },
    {
      "cell_type": "code",
      "metadata": {
        "id": "ef2LuuHltdtu",
        "colab_type": "code",
        "colab": {
          "base_uri": "https://localhost:8080/",
          "height": 1000
        },
        "outputId": "3cb747a0-c5f5-45d8-8c2a-6c2027199913"
      },
      "source": [
        "print(df)"
      ],
      "execution_count": 13,
      "outputs": [
        {
          "output_type": "stream",
          "text": [
            "                                category country  \\\n",
            "name                                               \n",
            "ABC News                         general      us   \n",
            "Al Jazeera English               general      us   \n",
            "Ars Technica                  technology      us   \n",
            "Associated Press                 general      us   \n",
            "Axios                            general      us   \n",
            "Bleacher Report                   sports      us   \n",
            "Bloomberg                       business      us   \n",
            "Breitbart News                   general      us   \n",
            "Business Insider                business      us   \n",
            "Buzzfeed                   entertainment      us   \n",
            "CBS News                         general      us   \n",
            "CNN                              general      us   \n",
            "Crypto Coins News             technology      us   \n",
            "Engadget                      technology      us   \n",
            "Entertainment Weekly       entertainment      us   \n",
            "ESPN                              sports      us   \n",
            "ESPN Cric Info                    sports      us   \n",
            "Fortune                         business      us   \n",
            "Fox News                         general      us   \n",
            "Fox Sports                        sports      us   \n",
            "Google News                      general      us   \n",
            "Hacker News                   technology      us   \n",
            "IGN                        entertainment      us   \n",
            "Mashable                   entertainment      us   \n",
            "Medical News Today                health      us   \n",
            "MSNBC                            general      us   \n",
            "MTV News                   entertainment      us   \n",
            "National Geographic              science      us   \n",
            "National Review                  general      us   \n",
            "NBC News                         general      us   \n",
            "New Scientist                    science      us   \n",
            "Newsweek                         general      us   \n",
            "New York Magazine                general      us   \n",
            "Next Big Future                  science      us   \n",
            "NFL News                          sports      us   \n",
            "NHL News                          sports      us   \n",
            "Politico                         general      us   \n",
            "Polygon                    entertainment      us   \n",
            "Recode                        technology      us   \n",
            "Reddit /r/all                    general      us   \n",
            "Reuters                          general      us   \n",
            "TechCrunch                    technology      us   \n",
            "TechRadar                     technology      us   \n",
            "The American Conservative        general      us   \n",
            "The Hill                         general      us   \n",
            "The Huffington Post              general      us   \n",
            "The Next Web                  technology      us   \n",
            "The Verge                     technology      us   \n",
            "The Wall Street Journal         business      us   \n",
            "The Washington Post              general      us   \n",
            "The Washington Times             general      us   \n",
            "Time                             general      us   \n",
            "USA Today                        general      us   \n",
            "Vice News                        general      us   \n",
            "Wired                         technology      us   \n",
            "\n",
            "                                                                 description  \\\n",
            "name                                                                           \n",
            "ABC News                   Your trusted source for breaking news, analysi...   \n",
            "Al Jazeera English         News, analysis from the Middle East and worldw...   \n",
            "Ars Technica               The PC enthusiast's resource. Power users and ...   \n",
            "Associated Press           The AP delivers in-depth coverage on the inter...   \n",
            "Axios                      Axios are a new media company delivering vital...   \n",
            "Bleacher Report            Sports journalists and bloggers covering NFL, ...   \n",
            "Bloomberg                  Bloomberg delivers business and markets news, ...   \n",
            "Breitbart News             Syndicated news and opinion website providing ...   \n",
            "Business Insider           Business Insider is a fast-growing business si...   \n",
            "Buzzfeed                   BuzzFeed is a cross-platform, global network f...   \n",
            "CBS News                   CBS News: dedicated to providing the best in j...   \n",
            "CNN                        View the latest news and breaking news today f...   \n",
            "Crypto Coins News          Providing breaking cryptocurrency news - focus...   \n",
            "Engadget                   Engadget is a web magazine with obsessive dail...   \n",
            "Entertainment Weekly       Online version of the print magazine includes ...   \n",
            "ESPN                       ESPN has up-to-the-minute sports news coverage...   \n",
            "ESPN Cric Info             ESPN Cricinfo provides the most comprehensive ...   \n",
            "Fortune                         Fortune 500 Daily and Breaking Business News   \n",
            "Fox News                   Breaking News, Latest News and Current News fr...   \n",
            "Fox Sports                 Find live scores, player and team news, videos...   \n",
            "Google News                Comprehensive, up-to-date news coverage, aggre...   \n",
            "Hacker News                Hacker News is a social news website focusing ...   \n",
            "IGN                        IGN is your site for Xbox One, PS4, PC, Wii-U,...   \n",
            "Mashable                   Mashable is a global, multi-platform media and...   \n",
            "Medical News Today         Medical news and health news headlines posted ...   \n",
            "MSNBC                      Breaking news and in-depth analysis of the hea...   \n",
            "MTV News                   The ultimate news source for music, celebrity,...   \n",
            "National Geographic        Reporting our world daily: original nature and...   \n",
            "National Review            National Review: Conservative News, Opinion, P...   \n",
            "NBC News                   Breaking news, videos, and the latest top stor...   \n",
            "New Scientist              Breaking science and technology news from arou...   \n",
            "Newsweek                   Newsweek provides in-depth analysis, news and ...   \n",
            "New York Magazine          NYMAG and New York magazine cover the new, the...   \n",
            "Next Big Future            Coverage of science and technology that have t...   \n",
            "NFL News                   The official source for NFL news, schedules, s...   \n",
            "NHL News                   The most up-to-date breaking hockey news from ...   \n",
            "Politico                   Political news about Congress, the White House...   \n",
            "Polygon                    Polygon is a gaming website in partnership wit...   \n",
            "Recode                     Get the latest independent tech news, reviews ...   \n",
            "Reddit /r/all              Reddit is an entertainment, social news networ...   \n",
            "Reuters                    Reuters.com brings you the latest news from ar...   \n",
            "TechCrunch                 TechCrunch is a leading technology media prope...   \n",
            "TechRadar                  The latest technology news and reviews, coveri...   \n",
            "The American Conservative  Realism and reform. A new voice for a new gene...   \n",
            "The Hill                   The Hill is a top US political website, read b...   \n",
            "The Huffington Post        The Huffington Post is a politically liberal A...   \n",
            "The Next Web               The Next Web is one of the world’s largest onl...   \n",
            "The Verge                  The Verge covers the intersection of technolog...   \n",
            "The Wall Street Journal    WSJ online coverage of breaking news and curre...   \n",
            "The Washington Post        Breaking news and analysis on politics, busine...   \n",
            "The Washington Times       The Washington Times delivers breaking news an...   \n",
            "Time                       Breaking news and analysis from TIME.com. Poli...   \n",
            "USA Today                  Get the latest national, international, and po...   \n",
            "Vice News                  Vice News is Vice Media, Inc.'s current affair...   \n",
            "Wired                      Wired is a monthly American magazine, publishe...   \n",
            "\n",
            "                                                  id language  \\\n",
            "name                                                            \n",
            "ABC News                                    abc-news       en   \n",
            "Al Jazeera English                al-jazeera-english       en   \n",
            "Ars Technica                            ars-technica       en   \n",
            "Associated Press                    associated-press       en   \n",
            "Axios                                          axios       en   \n",
            "Bleacher Report                      bleacher-report       en   \n",
            "Bloomberg                                  bloomberg       en   \n",
            "Breitbart News                        breitbart-news       en   \n",
            "Business Insider                    business-insider       en   \n",
            "Buzzfeed                                    buzzfeed       en   \n",
            "CBS News                                    cbs-news       en   \n",
            "CNN                                              cnn       en   \n",
            "Crypto Coins News                  crypto-coins-news       en   \n",
            "Engadget                                    engadget       en   \n",
            "Entertainment Weekly            entertainment-weekly       en   \n",
            "ESPN                                            espn       en   \n",
            "ESPN Cric Info                        espn-cric-info       en   \n",
            "Fortune                                      fortune       en   \n",
            "Fox News                                    fox-news       en   \n",
            "Fox Sports                                fox-sports       en   \n",
            "Google News                              google-news       en   \n",
            "Hacker News                              hacker-news       en   \n",
            "IGN                                              ign       en   \n",
            "Mashable                                    mashable       en   \n",
            "Medical News Today                medical-news-today       en   \n",
            "MSNBC                                          msnbc       en   \n",
            "MTV News                                    mtv-news       en   \n",
            "National Geographic              national-geographic       en   \n",
            "National Review                      national-review       en   \n",
            "NBC News                                    nbc-news       en   \n",
            "New Scientist                          new-scientist       en   \n",
            "Newsweek                                    newsweek       en   \n",
            "New York Magazine                  new-york-magazine       en   \n",
            "Next Big Future                      next-big-future       en   \n",
            "NFL News                                    nfl-news       en   \n",
            "NHL News                                    nhl-news       en   \n",
            "Politico                                    politico       en   \n",
            "Polygon                                      polygon       en   \n",
            "Recode                                        recode       en   \n",
            "Reddit /r/all                           reddit-r-all       en   \n",
            "Reuters                                      reuters       en   \n",
            "TechCrunch                                techcrunch       en   \n",
            "TechRadar                                  techradar       en   \n",
            "The American Conservative  the-american-conservative       en   \n",
            "The Hill                                    the-hill       en   \n",
            "The Huffington Post              the-huffington-post       en   \n",
            "The Next Web                            the-next-web       en   \n",
            "The Verge                                  the-verge       en   \n",
            "The Wall Street Journal      the-wall-street-journal       en   \n",
            "The Washington Post              the-washington-post       en   \n",
            "The Washington Times            the-washington-times       en   \n",
            "Time                                            time       en   \n",
            "USA Today                                  usa-today       en   \n",
            "Vice News                                  vice-news       en   \n",
            "Wired                                          wired       en   \n",
            "\n",
            "                                                                 url  \n",
            "name                                                                  \n",
            "ABC News                                      https://abcnews.go.com  \n",
            "Al Jazeera English                          http://www.aljazeera.com  \n",
            "Ars Technica                                  http://arstechnica.com  \n",
            "Associated Press                                 https://apnews.com/  \n",
            "Axios                                          https://www.axios.com  \n",
            "Bleacher Report                        http://www.bleacherreport.com  \n",
            "Bloomberg                                   http://www.bloomberg.com  \n",
            "Breitbart News                              http://www.breitbart.com  \n",
            "Business Insider                      http://www.businessinsider.com  \n",
            "Buzzfeed                                    https://www.buzzfeed.com  \n",
            "CBS News                                      http://www.cbsnews.com  \n",
            "CNN                                                http://us.cnn.com  \n",
            "Crypto Coins News                                https://www.ccn.com  \n",
            "Engadget                                    https://www.engadget.com  \n",
            "Entertainment Weekly                               http://www.ew.com  \n",
            "ESPN                                              http://espn.go.com  \n",
            "ESPN Cric Info                          http://www.espncricinfo.com/  \n",
            "Fortune                                           http://fortune.com  \n",
            "Fox News                                      http://www.foxnews.com  \n",
            "Fox Sports                                  http://www.foxsports.com  \n",
            "Google News                                  https://news.google.com  \n",
            "Hacker News                             https://news.ycombinator.com  \n",
            "IGN                                               http://www.ign.com  \n",
            "Mashable                                        https://mashable.com  \n",
            "Medical News Today                   http://www.medicalnewstoday.com  \n",
            "MSNBC                                           http://www.msnbc.com  \n",
            "MTV News                                     http://www.mtv.com/news  \n",
            "National Geographic               http://news.nationalgeographic.com  \n",
            "National Review                      https://www.nationalreview.com/  \n",
            "NBC News                                      http://www.nbcnews.com  \n",
            "New Scientist              https://www.newscientist.com/section/news  \n",
            "Newsweek                                    https://www.newsweek.com  \n",
            "New York Magazine                                   http://nymag.com  \n",
            "Next Big Future                        https://www.nextbigfuture.com  \n",
            "NFL News                                     http://www.nfl.com/news  \n",
            "NHL News                                    https://www.nhl.com/news  \n",
            "Politico                                    https://www.politico.com  \n",
            "Polygon                                       http://www.polygon.com  \n",
            "Recode                                         http://www.recode.net  \n",
            "Reddit /r/all                           https://www.reddit.com/r/all  \n",
            "Reuters                                       http://www.reuters.com  \n",
            "TechCrunch                                    https://techcrunch.com  \n",
            "TechRadar                                   http://www.techradar.com  \n",
            "The American Conservative    http://www.theamericanconservative.com/  \n",
            "The Hill                                          http://thehill.com  \n",
            "The Huffington Post                    http://www.huffingtonpost.com  \n",
            "The Next Web                                   http://thenextweb.com  \n",
            "The Verge                                    http://www.theverge.com  \n",
            "The Wall Street Journal                           http://www.wsj.com  \n",
            "The Washington Post                   https://www.washingtonpost.com  \n",
            "The Washington Times                https://www.washingtontimes.com/  \n",
            "Time                                                 http://time.com  \n",
            "USA Today                               http://www.usatoday.com/news  \n",
            "Vice News                                      https://news.vice.com  \n",
            "Wired                                          https://www.wired.com  \n"
          ],
          "name": "stdout"
        }
      ]
    },
    {
      "cell_type": "markdown",
      "metadata": {
        "id": "fTIi51gyzQpT",
        "colab_type": "text"
      },
      "source": [
        "## Method: eachNewsHeadlines\n",
        "### collects each 55 news headline"
      ]
    },
    {
      "cell_type": "code",
      "metadata": {
        "id": "8F3fBTFHpQAX",
        "colab_type": "code",
        "colab": {}
      },
      "source": [
        "import queue\n",
        "import threading\n",
        "def eachNewsHeadlines(ID, q):\n",
        "\tresponse = requests.get('https://newsapi.org/v2/top-headlines?sources=' + ID + '&apiKey=' + key)\n",
        "\tjson = response.json()\n",
        "\tif json['status'] != 'ok':\n",
        "\t\traise IOError('API key is probably overused :(')\n",
        "\ttopNews = []\n",
        "\ttopNews.append(ID)\n",
        "\tfor elem in json['articles']:\n",
        "\t\ttopNews.append(elem['title'])\n",
        "\tq.put(topNews)"
      ],
      "execution_count": 14,
      "outputs": []
    },
    {
      "cell_type": "code",
      "metadata": {
        "id": "Ysr6mh7pxPKN",
        "colab_type": "code",
        "colab": {
          "base_uri": "https://localhost:8080/",
          "height": 54
        },
        "outputId": "63d023ca-94e2-4367-f7ea-dd8327ccb55a"
      },
      "source": [
        "threads = []\n",
        "q = queue.Queue()\n",
        "for id in df['id']:\n",
        "  t = threading.Thread(target = eachNewsHeadlines, args = (id, q))\n",
        "  threads.append(t)\n",
        "  t.start()\n",
        "for t in threads:\n",
        "  t.join()\n",
        "\n",
        "headlines = []\n",
        "while not q.empty():\n",
        "  headlines.append(q.get())\n",
        "#for id in df['id']:\n",
        "#  headlines.append(eachNewsHeadlines(id))\n",
        "print(headlines)"
      ],
      "execution_count": 15,
      "outputs": [
        {
          "output_type": "stream",
          "text": [
            "[['ars-technica', 'It’s the peak of the Atlantic hurricane season, and the tropics are bonkers', 'Immortals hands-on: I guess Ubisoft is copying Breath of the Wild now', 'Revisiting the spectacular failure that was the Bill Gates deposition', 'New gravitational-lensing study hints at problems for dark matter models', 'AT&T hopes you’ll forget its years-long fight against accurate broadband maps', 'Microsoft’s first Android phone, the Surface Duo, is now available', 'Motorola’s Razr 2 hopes to right the wrongs of the original Razr reboot', 'As waters warm, these species are stuck going the wrong way', 'Maserati’s new MC20 supercar uses F1 engine efficiency technology', 'Console options without disc drives could be GameStop’s final death knell'], ['axios', 'Axios Pro Rata: Silicon Valley&#x27;s Veep — AirIPO — Brooks Brothers lives', 'The busiest owner in sports', 'GOP congressman condemns QAnon after conspiracy theorist wins Georgia runoff', 'House Oversight chair introduces bill to preserve USPS services', 'U.S. threatens to veto UN peacekeeping in Lebanon over Hezbollah concerns', \"Poll: America's confidence in public school system jumps amid pandemic\", 'Watch: Gen Z and the future of politics', 'Watch: The future of employability in Milwaukee', \"Watch: Industry's digital update\", 'Coronavirus dashboard'], ['business-insider', 'Meet Jane Fraser, the first woman set to helm a major US bank - Business Insider', 'VCs less likely to fund startups after learning founders are women - Business Insider', \"Netflix CEO says service is ad-free because it's 'the best capitalism' - Business Insider\", 'JPMorgan sales and trading employees ordered to return Sept. 21: WSJ - Business Insider', \"Former employees of Tanya Zuckerbrot's popular F-Factor diet say she fat-shamed colleagu... - Business Insider\", \"'Predictive policing' algorithm monitors and harasses families: Report - Business Insider\", 'Moria camp fire started after ATM machine was blocked - Business Insider', \"Medicare and Medicaid chief 'abused' rules, spending $3.5 million - Business Insider\", \"Maserati MC20 first look: Maserati's first halo supercar in 16 years - Business Insider\", \"Trump bragged to Woodward that he 'saved' MBS after Khashoggi murder - Business Insider\"], ['associated-press', 'Climate change largely missing from campaign as fires rage', 'Pentagon rescinding order to shutter Stars and Stripes paper', \"Judges: Trump can't exclude people from district drawings\", 'Dem report: Medicare chief used fed money to bolster image', 'Russian hackers targeting U.S. campaigns, Microsoft says', 'Trump campaigns in battleground Michigan amid book fallout', 'Stunned residents tour Oregon town devastated by wildfires', 'Couple missing in California fire sought shelter in a pond', 'Scarcity of key material squeezes medical mask manufacturing', 'Virus bill blocked in Senate as prospects dim for new relief'], ['buzzfeed', '39 Songs That Made Millennial Middle Schoolers In The Early 2000s Lose Their Goddamn Minds', 'Chrissy Teigen\\'s Home That\\'s For Sale Is Apparently Being Shown By \"Selling Sunset\"\\'s Jason Oppenheim', 'Only A Real \"Harry Potter\" Fan Can Name Every Chapter From Every Book', '44 Gifts You Can Send To Friends Celebrating Birthdays In Quarantine', \"Sorry, But It's Actually Physically Impossible Not To Laugh At These 33 Pictures\", '13 Absolutely Hilarious Jokes Told In Movies', '26 Celebrities Stand Between You And 100% On This Quiz', '28 Actors Who Were So Good At Playing Villains That Now People Hate Their Faces', \"I Bet You Don't Know What Kind Of Medicine These -Ologists Specialize In — Can You Prove Me Wrong?\", 'WTF Is Happening Today? BuzzFeed Newsletters Can Help!'], ['bloomberg', 'Why We Still Can’t Stop Oil Spills From Damaging the Environment', 'Maybe It’s Time to Let J.C. Penney Go', 'Disney Nods to Uproar Over Filming ‘Mulan’ in China’s Xinjiang', 'Top Fund Still Sees Value in Apple, Amazon After Sizzling Rally', 'U.S. Drops Bid for 48-Hour Delay in Big Swap Trade Reporting', 'Lufthansa to Shed Biggest Planes in Deepening Fleet Shakeup', 'Even a Tiffany Discount Comes with a Cost', 'Of Course Trump Couldn’t Resist Bob Woodward', 'Mall Operators Should Bet on Amazon, Not J.C. Penney', 'Surveillance: Citi Picks Fraser To Be Next CEO (Podcast)'], ['cbs-news', 'Federal judge temporarily halts Census Bureau from ending headcount a month earlier than planned', 'Trump administration pushes to conclude 2020 census count', 'Trump defends decision to withhold information on COVID-19 threat', \"It's been over 3 months since George Floyd was killed by police. Police are still killing Black people at disproportionate rates.\", 'Number of Americans seeking unemployment continues to rise', 'Police in the U.S. killed 164 Black people in the first 8 months of 2020. These are their names. (Part II: May-August)', 'Deadly western wildfires level homes and decimate communities', 'University of Illinois develops innovative COVID-19 saliva test', 'Five things to know about frequent mass testing for COVID-19', 'Trump dismisses Bob Woodward\\'s question on white privilege: \"You really drank the Kool-Aid\"'], ['bleacher-report', \"Lefkoe's 2020 Super Bowl Pick\", 'Gridiron Heights Season Premiere ', 'Underrated with Jerry Jeudy', \"Bleacher Report's Expert Consensus Week 1 NFL Picks\", \"Role-Playing LeBron: Inside the Strange World of NBA's Superstar Stand-Ins\", 'B/R Experts Rank the Top 50 NFL Players Heading into 2020', 'Toronto Raptors Are Writing Their Own Story to Keep Title Defense Alive'], ['al-jazeera-english', 'Qatar to host long-awaited intra-Afghan talks from Saturday', 'Police killing sparks riots across Colombia that leave seven dead', 'East Med crisis: Greek PM raises sanctions threat against Turkey'], ['breitbart-news', '***Live Updates*** Trump Holds Michigan Rally', 'Watch Live: Donald Trump Speaks at Campaign Rally in Michigan', \"CNN’s Dana Bash: Trump So 'Crazy' He Doesn't Know He Is the Authorities\", \"Biden: Trump 'Doesn't Understand Duty, Honor, Service, Country'\", 'Andrew Cuomo Announces Fine for New York Maskless Subway Riders', 'Nolte: Jake Tapper Meddled In an Election and Lied About It', '50 GOP Congressmen Ask DOJ to Investigate Who May Be Funding Riots', 'Woman Attacks Security Guard in Seattle with a Machete', \"Biden's Offshoring Rule Aligns with China's Predatory Trade Policy\", 'Watch Live: President Donald Trump Holds a Press Conference'], ['crypto-coins-news', \"Boosie Badazz Shouldn't Get his IG Back - Not For a Million Dollars\", 'Stock Market Meltdown Continues as Big Tech Extend Losses', 'Social Media Hits a New Low With the Death of Ronnie Mcnutt', 'Is the GM-Nikola Partnership a Game-Changer for Tesla?', 'Whatever a AAAA Game is, Ubisoft Has Two In The Pipeline', 'Tesla Stock Crashes 19% & Enters Bear Market Territory', 'Dow Plunges 450 Points as Tech Selloff Intensifies, Stimulus Stalled', 'Should Meghan Markle & Prince Harry Have Their Royal Titles Stripped?', 'Xbox Series S Trailer Leaks to Reveal Astonishing Next-Gen Value', \"Wall Street is Watt-Heavy on Tesla Stock - They Just Don't Know It Yet\"], ['entertainment-weekly', \"'Almost Famous' turns 20: Behind the scenes of Cameron Crowe's unforgettable film\", 'Diana Rigg, <em>Game of Thrones</em> and <em>The Avengers</em> star, dies at 82', \"Bruce Springsteen's next album, <em>Letter To You</em>, is arriving in October\", 'What to Watch on Thursday: A socially distanced <em>RHONY</em> reunion', 'Denise Richards is leaving <em>Real Housewives of Beverly Hills</em> after 2 seasons', \"13 standouts from this year's Toronto International Film Festival\", \"<em>Dune</em> director Denis Villeneuve breaks down film's eye-popping first trailer\"], ['engadget', \"Radio Flyer's $100 Tesla Model Y is powered by kids' feet\", 'Samsung Galaxy Note 20 Ultra review: Unabashedly over the top', \"Hisense's $4,000 laser projector comes with a 100-inch screen\", \"Google's smart displays will simplify multi-room audio\", 'Google asks to test a new type of wireless broadband'], ['cnn', 'Wisconsin Supreme Court temporarily blocks absentee ballots from being mailed a week before deadline', 'Reporter to Trump: Why did you lie to the American people? - CNN Video', \"Joe Biden laughs about Donald Trump's 'Slow Joe' nickname  - CNN Video\", 'Covid-19 risk linked to restaurant dining: CDC study', 'Three times Trump told Woodward one thing and the public something else', \"Analysis: Someone needs to remind Donald Trump that Bob Woodward isn't president of the United States\", \"'I didn't lie': A subdued but defensive Trump denies he misled despite tape\", \"CNN Exclusive: Biden says Trump has 'no conception' of national security\", \"Analysis: This Republican senator's response to the Woodward book is absolutely maddening\", 'Coronavirus update: Latest news from around the world'], ['fortune', 'The rollercoaster of COVID-19 vaccines', 'How 2020 is like a colonoscopy', 'How we can save small business from coronavirus-induced extinction', 'TikTok is looking for ways to avoid a sale', 'To fight systemic racism, the investment industry needs to look at its whiteness first', 'You’re not sitting correctly at your home office', 'Climate change threatens “unprecedented disruption” to the U.S. financial system', 'How Trump’s TikTok ban pushed China’s most independent tech billionaire closer to Beijing', 'Pfizer’s Albert Bourla: Vaccine efforts are improving Big Pharma’s reputation', 'The race for a COVID-19 vaccine shows the power of ‘community intelligence’'], ['espn', \"Miami Dolphins, discontent with 'empty gestures,' to stay inside during both anthems\", 'Cam Newton excited about playing again, making New England Patriots debut', \"NBA: Kemba Walker's layup attempt late in loss should've drawn foul\", 'Ex-New York Jets WR Josh Bellamy charged in $24 million COVID-19 relief loan scheme', \"New York Giants coach Joe Judge rips team's effort, restarts practice\", \"Cowboys' Prescott got help for anxiety, depression during offseason\", 'Fantasy football Week 1 shadow report - Key WR/CB matchups'], ['fox-sports', '', 'WWE', '', 'MLB', 'Watch WWE Friday Night SmackDown from July 17th in 3 minutes | FRIDAY NIGHT SMACKDOWN (VIDEO)', \"Which two members of the Madden 21 '99 Club' would you build around?\", 'MVP, Cy Young, Rookie of the Year: Who are favorites to win MLB awards?', '', 'NFL News, Videos, Scores, Teams, Standings, Stats', \"The NFL and Daniel Snyder respond to Thursday's Washington Post story\"], ['fox-news', \"South Carolina art museum pulls 'Wear Their Names' jewelry named after police brutality victims\", \"Critics blast CNN's Jake Tapper for 'lying' after claim about GOP candidate Sean Parnell\", 'Biden spokesman refuses to discuss whether former VP used teleprompter to answer questions', \"What's the effect of police resignations in big cities?\", \"Geraldo Rivera: Here's the 'bitter irony' of the USMCA for Trump\", 'DOJ records show members of Mueller’s team ‘wiped’ phones during Trump probe', \"Gutfeld: Media crucifying Trump over narrative they've been pushing for months\", 'Trump spars with WH reporter over Woodward tapes: I never lied to American people', \"Michigan superintendent rips anti-Trump quiz teacher gave to students\\xa0as 'misinformation'\", 'Sen. Cotton: Trump committed to appointing conservative judges'], ['espn-cric-info', 'PCB hands Umar Akmal three-year ban from all cricket | ESPNcricinfo.com', \"Akram's yorkers, Hegg's hits, and Chapple's 6 for 18 | ESPNcricinfo.com\", \"'It was the first time we realised we can also cry after winning a game'\", \"Five famous people (and one cat) you didn't know have ESPNcricinfo profiles | ESPNcricinfo.com\", \"Sri Lanka don't win the 1996 World Cup | ESPNcricinfo.com\", \"I'm fighting my own benchmarks - R Ashwin | ESPNcricinfo.com\", 'The Coronavirus soap opera, starring KP, Warnie, Mahela | ESPNcricinfo.com', 'Five CSK games only hardcore fans will remember | ESPNcricinfo.com', \"'This is a ball the whole world will remember' - Saeed Ajmal v Sachin Tendulkar revisited | ESPNcricinfo.com\", 'What we learned from watching the 1992 World Cup final in full again | ESPNcricinfo.com'], ['google-news', 'Money for $300 unemployment boost to run out — with no extension in sight', '150 Big Businesses Warn Mayor of ‘Widespread Anxiety’ Over N.Y.C.’s Future', \"Trump says everyone knew the coronavirus was airborne in February: It's 'no big thing'\", \"Russia, China and Iran hackers 'target US election'\", \"Court Blocks Trump's Attempt To Change Who Counts For Allocating House Seats\", \"Ben Shapiro asks: 'Who in the hell thought it was a good idea for Trump to talk to Bob Woodward?'\", 'Stark new imagery reveals the scary extent of West Coast wildfires', 'Senate Republicans fail to advance coronavirus stimulus bill as stalemate drags on', 'Trump campaign hopes to have it both ways with racial rhetoric'], ['hacker-news', \"TOML – Tom's Obvious, Minimal Language\", 'Launch HN: OpenUnit (YC W20) – Software for managing self-storage facilities', 'LLVM merges machine function splitter for reduction in TLB misses', 'Among the Norse Tribes: The Remarkable Account of Ibn Fadlan (1999)', 'How do Routers Work, Really?', \"Intercepting Zoom's encrypted data with BPF\", 'Caddy Server Is Acquired By Apilayer', 'Relativty an Open-source VR headset for $200', 'Postcard stamped in 1920 delivered 100 years later', 'Compiling Word for Windows v1.1a'], ['ign', 'Hyrule Warriors: Age of Calamity - Official Trailer - IGN', 'Super Mario Bros.', 'NBA 2K21 Review - IGN', 'Razer Blade 15 Advanced (2020) Review - IGN', 'Age of Calamity Is a Hyrule Warriors Sequel and a Breath of the Wild Prequel - NVC 525 - IGN', 'Rainbow Six Siege: Pro Content Creators Share their Operation Shadow Legacy Tips and Tricks - IGN', 'Hyrule Warriors: Age of Calamity Is Up for Preorder - IGN', 'Riders Republic Trailer: Predict + React - IGN', \"Streets of Rage's Long Relationship With Real-World Protests - IGN\", 'Iron, Oil and Positioning are the Keys to Success in Iron Harvest - IGN'], ['abc-news', \"Microsoft warns of 'unsuccessful attacks' on campaigns from Russian, China, Iran\", 'Feds seek halt to civil lawsuit against Ghislaine Maxwell', 'Union: 4 Houston police officers fired after fatal shooting', 'Harris and her husband target Black, Jewish voters in Miami', 'Trump campaign asks US judge to kill Nevada vote-by-mail law', \"Trump ad touting 'great American comeback' features foreign stock footage\", 'Tennessee officials searching for tiger spotted by deputy', 'Red flag warnings continue in West as flash flooding expected on East Coast', 'New weekly unemployment filings remain elevated at 884,000', 'Book: Kim Jong Un told Trump about killing his uncle'], ['mashable', \"How to make iPhone's Screen Time actually helpful\", 'AOC opens up about death threats after baseball team shows offensive video of her', 'Uber will now kick off riders with low ratings', 'Metal Mario makes his Hot Wheels debut this summer', 'Amazon challenges Google with smaller, cheaper Echo Show', 'DC’s ‘Doom Patrol’ is the rare superhero show that understands trauma', 'Trump and Biden court older women demographic with Facebook ads'], ['national-geographic', 'Dozens of COVID-19 vaccines are in development. Here are the ones to follow.', 'When wildfires threaten your home', 'Trump Administration expands ban on offshore drilling', 'NASA sent a map to space to help aliens find Earth. Now it needs an update.', 'Private autopsies are on the rise during the COVID-19 pandemic', 'Rare photographs show African cheetahs in snowstorm', 'Black children endure a traumatic summer capped by Chadwick Boseman’s death', 'Will people ever touch these iconic tourist attractions again?', 'Next-level climbing photography in Grand Teton National Park', 'Foreboding orange skies cast more than a pall over Northern California'], ['national-review', 'Zuckerberg Defends Refusal to Censor Political Ads: ‘People Can See for Themselves what Politicians Are Saying’', 'Ukraine President Zelensky Denies Negotiating ‘Quid Pro Quo,’ Criticizes Trump’s Stance on Ukraine Corruption', 'Aunt Becky and the ‘Underpaid Teachers’ Myth', 'No, You Don’t ‘Have to Go to College to Become a Welder’', 'Hey Christians, Are We a Welcoming Committee?', 'A Counterintuitive and Compelling Case for Class-Action Lawsuits', 'History Is Short', 'A Weakened Chinese State Presents Its Own Dangers', 'Kenneth Clark’s <i>Civilisation</i> After a Half Century', 'Why Al Pacino Matters'], ['medical-news-today', 'Inequality may increase prostate cancer mortality in Black males', 'Critically ill patients have robust immunity to new coronavirus', 'Financial hardship is a top risk factor for suicide attempts', \"Keto diet may reduce Alzheimer's risk by altering gut fungi\", 'Study finds what you eat is linked to when you eat', \"'Ill, abandoned, unable to access help:' Living with long COVID\", 'Will the COVID-19 pandemic and Black Lives Matter change science and society?', 'Antibodies fight off the new coronavirus, but what do T cells do?', 'COVID-19: How a new blood test could help speed up vaccine development and population screening', 'Live updates: Coronavirus COVID-19'], ['mtv-news', 'Haley Lu Richardson And Barbie Ferreira Destigmatize Abortion With Comedy In Unpregnant', \"Johnny Orlando Is On A Race Against Dusk In 'Everybody Wants You' Video\", \"'We Can Fight From A Position Of Strength': Stacey Abrams On Battling Voter Suppression\", 'Timothée Chalamet And Zendaya Brood Their Way Through Epic Dune Trailer', \"Janelle Monáe Is Triumphant On New Rallying Cry 'Turntables'\"], ['msnbc', 'All In with Chris Hayes on MSNBC | The Chris Hayes Show', 'The ReidOut with Joy Reid on MSNBC | The Joy Reid Show', 'MTP Daily on MSNBC'], ['newsweek', 'Trump Leads Biden by 10 Points Among Military Households, Poll Finds', 'Lebanon Battles New Beirut Port Fire, Downs Israel Drone As Crises Continue', 'Palestinians Regroup, Tell Arab World Not to Deal with Israel Before Peace', 'Smoke From West Coast Wildfires Travels Over 4,000 Miles, Seen As Far Away As Hawaii and Ohio', 'In Midwest Battlegrounds, Progressives Mobilize Voters of Color', 'Best Online Shops 2021', 'What Brands do You Trust the Most?', \"America's Best Physical Rehabilitation Centers 2020\", 'Best Maternity Care Hospitals 2020', 'Newsweek AMPLIFY Empowers Affiliate Brands Through Digital Content'], ['new-york-magazine', '13 Books You Should Read About Black Lives'], ['new-scientist', 'Australian labradoodle is more poodle than Labrador, according to DNA', \"Dark matter in galaxy clusters is behaving oddly and we don't know why\", 'Some autistic children may prefer cats as they don’t hold eye contact', 'Covid-19 news: Weekly cases in England at highest level since May', \"Wildlife populations are seeing 'catastrophic' rapid declines\", 'Could we jump into a wormhole to save us from the world at present?', 'How wholesome memes could save us all', \"The internet's crumbling infrastructure is leaving us all insecure\", 'We now have the technology to develop vaccines that spread themselves', 'We should rewild the sky to restore the atmosphere to its former glory'], ['next-big-future', 'Giant Cloud of Incompetence Hangs Over California', \"Blade Runner 2049 Orange Sky and California's Orange Sky\", 'COVID-19', 'Can the Pandemic Usher in an Age of a Truly Global Workforce?', 'California Mismanagement Guarantee Many Power Outages', 'Dark Skies over Northern California', 'california', 'California Power Outages Happening as Predicted When Nuclear Reactors Were Shutdown', 'energy', 'US Might Clean Energy in 2021 Equal to 30% of US Total Solar Energy'], ['nfl-news', \"Emmitt Smith: Cowboys can't play 'chicken' with Dak\", 'Raiders, CB Prince Amukamara agree to terms', \"Meyer: Haskins needs 'great players,' 'elite culture'\", \"Colts excited about '1-1 punch' in RBs Mack, Taylor\", 'NFL to closely monitor restart of soccer in Europe', 'Falcons could bring in competition for Younghoe Koo', 'Jets showing interest in free-agent CB Logan Ryan', \"Cards' Isaiah Simmons to focus on 1 position in NFL\", \"Dolphins' Tua Tagovailoa tops jersey sales since draft\", \"Gase: What Frank Gore brings to Jets is 'hard to teach'\"], ['politico', 'Federal judge rules Cuccinelli appointment unlawful', 'The fighter pilot takes on the astronaut: McSally’s 2020 Arizona mission'], ['nhl-news', 'Couturier of Flyers wins Selke Trophy as best defensive forward', 'Lightning to lean on forward depth in Game 3 of East Final vs. Islanders', 'Flyers will try to improve with trades over free agency, GM says', 'Islanders need power-play goals in Game 3 of East Final against Lightning', 'Killorn suspended one game for actions in Lightning game', 'Islanders remain confident going into Game 3 of East Final vs. Lightning', 'Point could miss Game 3 of East Final for Lightning against Islanders', 'Kucherov clutch for Lightning in Game 2 victory against Islanders', 'Mailbag: Murray trade options, Maple Leafs future, Wild goalie plan', 'Stanley Cup Playoffs conference finals schedule'], ['nbc-news', 'Watch NFL Kickoff 2020 Live | NBC Sports', \"Federal judges rule Trump can't exclude people in U.S. illegally from congressional redistricting\", \"Trump: 'I didn't lie' to Americans about coronavirus risks\", \"Olympic champion Caster Semenya's critics couch misogynoir in the language of 'equality'\", 'A young boy died alongside his dog in the Oregon wildfires', 'Trump campaign weighing White House event around Election Day', 'Afghan government to start talks with Taliban, raising hopes for peace after decades of war', \"Diana Rigg, star of 'Games of Thrones' and 'The Avengers' dies at 82\", 'With Washington silent, states are torn between saving bars and stopping coronavirus', \"E. Jean Carroll vs. DOJ: Trump and Barr's defamation defense sets another bad precedent\"], ['polygon', 'Ubisoft’s new extreme sports game Riders Republic brings 50-player races to next gen', 'You can see the smoke from the West Coast fires in Microsoft Flight Simulator', 'Watch Dogs: Legion will let you play as a robotic beekeeper and Aiden Pearce', 'Prince of Persia: The Sands of Time remake coming in 2021', 'Scott Pilgrim game is back after years of being delisted', 'Gods and Monsters is now Immortals: Fenyx Rising, coming Dec. 3', 'A Game of Space takes the best parts of Elite: Dangerous into virtual reality', 'Why Skull & Bones won’t be at Ubisoft Forward', 'Ubisoft CEO apologizes for controversies, including one that fired Assassin’s Creed director', 'You should play the long-lost Dune board game, now back in print'], ['recode', 'What caused the California wildfires? The recurring crisis, explained', 'Twitter is tightening its rules against voting misinformation', 'Conservative news seems popular on Facebook but there’s a catch', 'Facebook won’t stop Facebook from spreading lies about the election', 'Oracle billionaire Larry Ellison has shut down his foundation', 'New Apple-Google contact tracing tool finally seems useful', 'Mark Zuckerberg has donated $300 million to protect democracy despite Facebook’s record', 'Walmart+ launches September 15 to compete with Amazon Prime', 'Apple, Facebook fight over new advertising rules coming to iOS 14', 'Apple’s Fortnite ban, explained'], ['reddit-r-all', \"r/funny - Earth's surface is 71% water\", 'r/StarWars - It doesn’t get more wholesome than this.', 'r/gaming - Poor npc', 'r/europe - Day 64 of anti-government protests in Bulgaria.', 'r/CozyPlaces - Even though the homes look great, no doubt', 'Managed IT Support for the Remote Workforce', 'r/aww - The new intern is useless.', 'Guaranteed that the retail employee gives zero fucks', 'Trump lawyer Rudy Giuliani worked with an “active Russian agent” to discredit Joe Biden', 'Scott Pilgrim vs. The World: The Game Complete Edition Trailer | Ubisoft Forward 2020 | Ubisoft [NA]'], ['reuters', 'S&P 500 closes nominally higher amid COVID-19 spikes, muted data', 'Trump unfit to be U.S. president, Democrat Pelosi, conservative Bolton agree', 'World stock markets slip on second wave virus fears, safe-havens rise', 'Trump pledges new list of conservative Supreme Court contenders', \"Atlanta officer says he is not 'state's witness' in Rayshard Brooks case\", \"Mexico's foreign ministry says it will monitor U.S. DACA program developments\", \"Pelosi says Trump 'ethically unfit' for presidency, will continue oversight\", \"Facebook takes down Trump ads over 'organized hate' policy\", 'Tesla wants to start building a new U.S. vehicle plant this summer', \"U.S. Supreme Court blocks Trump bid to end 'Dreamers' immigrant program\"], ['techcrunch', \"VC Josh Kopelman isn't so sure about SPACs, but he thinks so-called rolling funds could prove powerful\", 'Daily Crunch: Facebook launches a college-only network', 'Warren Buffett invests in an unprofitable business', \"Apple confirms the 'Apple One' subscription bundle in its own Apple Music app's code\", '$3M Breakthrough Prize goes to scientist designing molecules to could fight COVID-19', 'Imran Khan\\'s Verishop adds \"Verified Shops\", a  way for up-and-coming brands to set up shop in its \"digital mall\"', \"Google says it's eliminating Autocomplete suggestions that target candidates or voting\", 'Recorded music revenue is up on streaming growth, as physical sales plummet', \"Ola is facing a drivers' legal challenge over data access rights and algorithmic management\", \"Twitter's rules address worries over 'peaceful transfer of power' in U.S. election\"], ['techradar', \"Test d'Apple Arcade\", \"tvOS 14 : date de sortie, version bêta et nouvelles fonctionnalités de la prochaine mise à jour d'Apple TV\", \"PlayStation Store : économisez jusqu'à 70% sur des centaines de jeux PS4\", 'Apple prépare la rentrée des classes et offre une paire d’AirPods gratuits aux étudiants', 'Le Canon EOS R6 est le nouveau concurrent puissant du Nikon Z6', 'Les meilleures imprimantes multifonctions pour la maison'], ['the-american-conservative', 'Two Russian Icons', 'Rubio and the Rise of the Neoreactionaries', 'Post-Cold War Triumphalism and Kennan’s Warning', 'The Modernity of <i>Robinson Crusoe</i>, an American Art Pioneer, and Resurrecting James Dean', 'The Forgotten Treasure In These American Lands', 'When ‘Sexist’ (and Desperate) Democrats Bully Warren', 'The Poetry of Populism', 'What is the New ‘Woke’ Military Really Preparing Us For?', 'Watch Live Now: TAC’s ‘Regime Change’ Foreign Policy Conference', 'A Note to Progressives: Tell Me How This Ends'], ['the-hill', 'Watch live: Trump holds rally in Michigan', 'Trump seeks to shift scrutiny amid Woodward fallout | TheHill', \"Court blocks Trump's order to exclude undocumented from census | TheHill\", 'Trump: Pompeo traveling to Taliban, Afghan government talks | TheHill', 'GOP senators say coronavirus deal dead until after election | TheHill', \"Trump calls question about why he 'lied' about COVID-19 a 'disgrace' | TheHill\", 'Microsoft warns Russia, China and Iran targeting US election | TheHill', 'Explosive Western blazes portend long fire season ahead | TheHill', \"Intel panel rebuffs request to share info for GOP's Obama-era probes | TheHill\", 'Senate Democrats block GOP relief bill | TheHill'], ['the-huffington-post', 'Climate Change-Fueled Fires Are Changing The Way Californians Live', 'Judges Stop Trump From Excluding Undocumented People For Congressional Seat Count', 'Trump Says He Lied About COVID-19 To Avoid ‘Panic.’ He Incites Panic All The Time.', 'Key Witness In Kenosha Protest Shootings Describes Chaotic, Heartbreaking Night', \"Trump Wildly Accuses Biden Of Being A Coronavirus 'Anti-Vaxxer'\", 'Trump Knew COVID-19 Was Airborne And ‘Deadly,’ Held Crowded Rallies Anyway', \"Mike Pence Insists Trump Didn't Downplay Virus, Contradicting Trump's Own Words\", 'DHS Whistleblower Complaint: 4 Of The Most Explosive Allegations Of Misconduct', \"Trump Has Quite A Theory On Why Woodward Didn't Share COVID-19 Remarks Sooner\", 'Coronavirus Live Updates: Read The Latest About The COVID-19 Outbreak'], ['the-wall-street-journal', 'Business Leaders Urge Mayor de Blasio to Stop New York City’s Decline', '9/11 and the Rise of the New Conspiracy Theorists', 'Star Island is Reliving Its Glory Days, Thanks to Buyers Like Ken Griffin and Jennifer Lopez', 'West Coast Wildfires Wreak Havoc Amid High Winds and Temperatures', 'Russian Hackers Have Targeted 200 Groups Tied to Presidential Election, Microsoft Says', 'What’s Biden’s China Policy? It Looks a Lot Like Trump’s', 'JPMorgan Top Brass Tell Trading-Floor Staff to Come Back to the Office', 'Citigroup CEO Michael Corbat to Retire in February, Jane Fraser Named Successor', 'GOP ‘Skinny’ Bill on Coronavirus Aid Is Blocked by Democrats in Senate', 'Several Covid-19 Vaccines Could Join Winner’s Circle'], ['the-verge', 'Go read this Motherboard report on what some people did with the ‘Chinese Mystery Seeds’', 'Trump eyes social media bias hawk as next FCC commissioner', 'All the biggest announcements from Ubisoft’s Forward event', 'The best Chromebooks to buy in 2020', 'Android 11 Go is available today, and it will launch apps 20 percent faster', 'Democrats unveil new agenda for economic recovery and climate action', 'Welcome to the next generation of gaming', 'Spam calls: how to stop the robots from calling your iPhone or Android', 'Microsoft Surface Duo review: double troubles', 'Your move, PS5: What Microsoft’s Xbox moves suggest Sony might do'], ['the-next-web', 'Bose announces 3 new sunglasses with speakers built-in', 'Ubisoft Forward was all Greek gods, sands of time, and extreme sports', 'A beginner’s guide to AI: Separating the hype from the reality', 'Ninja makes his return to Twitch permanent, surprising no one', 'AI to take on human pilots in real-world fighter aircraft trials', 'Tesla crashed and bounced harder than any other tech stock this week', 'Stop giving your co-workers vapid compliments', 'Mockuuups Studio makes it easier to create marketing assets. And right now, it’s just $40', 'The Dutch plug-in vehicle market is surging, sales up 75% YoY', 'TikTok admits to shadow-banning LGBTQ hashtags'], ['time', 'Finding Hope: The TIME 100 Community on Navigating Our New Reality', \"Why You're Regressing to Your Teenage Self During the COVID-19 Outbreak\", 'Renters Are Being Forced From Their Homes Despite Eviction Moratoriums Meant to Protect Them', 'Trump’s Signature Will Appear on Coronavirus Stimulus Checks', 'Watch a New York City Doctor Describe How Medical Professionals Fight Against COVID-19', \"'Otherwise I'd Be Alone.' Foster Pets Offer Much-Needed Companionship in an Age of Isolation\", 'Ditching Zoom? Here Are 10 Video Chat Alternatives You Can Use Instead'], ['vice-news', \"A GOP Lawmaker Tested Positive for Coronavirus and Didn't Bother to Tell His Democratic Colleagues\", 'This GOP Congressman Officiated a Gay Wedding, and It Could Cost Him an Election', \"‘It's The End of Hong Kong’: The National Security Law China Just Approved Is The Protest Movement's Worst Nightmare\", 'Far-Right Social Network Gab Has a Verified Account Waiting For Trump With 27,000 Followers', 'Minneapolis is Burning: Protesters Loot and Set Buildings On Fire to Protest Police Killing of George Floyd', \"New Videos Appear to Undermine Police Account That George Floyd 'Resisted' Officers\", \"Coronavirus Took Away a Huge Milestone for First-Generation Graduates: 'I Can't Stop Crying'\", \"Trump's FDA Won't Let Women Get Abortion Pills Remotely In a Pandemic. So The ACLU Is Suing.\", 'Tara Reade Is Now Being Investigated For Allegedly Lying on the Witness Stand', \"The Cops Involved in George Floyd's Fatal Arrest Had Previous Violent Incidents on the Force\"], ['usa-today', 'Court blocks Trump order to exclude undocumented immigrants from census count', 'Donald Trump spills to Bob Woodward and only strengthens the case against his reelection', \"NYC Fire Department's highest award named after racist gets renamed to honor 9/11 hero\", 'Wildfires burned millions of acres across the West. See what that looks like.', \"'Outrageous': Sen. Kamala Harris, Democratic nominee for vice president, tells Black leaders in Florida Trump must be removed\", \"'Why in the world would he do that?': Trump allies and opponents question decision to speak to Woodward\", \"The 50 best TV shows to watch on Amazon Prime right now, from 'The Americans' to 'The Boys'\", \"As Americans await a COVID-19 vaccine, health officials worry the US isn't ready for one\", 'Fantasy football 2020: Your draft kit for the upcoming season', 'Hurricane Tracker'], ['wired', 'Those Orange Western Skies and the Science of Light', \"Russia's Fancy Bear Hackers Are Hitting US Campaign Targets Again\", 'Esports Pros Have ‘Dream’ Jobs—but Game Publishers Have All the Power', 'The Surface Duo Is a Buggy Mess, but It’s a Promising Start', \"Kids' Smartwatches Are a Security Nightmare Despite Years of Warnings\", \"Ad Mergers Won't Save Journalism. Strict Merger Rules Would\", 'BlackBerry Is Planning a Comeback. For Some, It Never Left', '44 Square Feet: A School-Reopening Detective Story', 'TikTok Is Paying Creators. Not All of Them Are Happy', \"AI Ruined Chess. Now, It's Making the Game Beautiful Again\"], ['the-washington-post', 'Election live updates: Trump in Michigan to address supporters; Biden seizes on coronavirus revelations in new book', 'Election live updates: Trump in Michigan to address supporters; Biden seizes on coronavirus revelations in new book', 'Election live updates: Trump heading to Michigan; Biden seizes on coronavirus revelations in new book', 'Election live updates: Trump heading to Michigan; Biden seizes on coronavirus revelations in new book', 'Election live updates: Trump heading to Michigan; Biden seizes on coronavirus revelations in new book', 'Live updates: Most Americans worry coronavirus vaccine will be rushed by political pressure, new poll finds', 'Live updates: Most Americans worry coronavirus vaccine will be rushed by political pressure, new poll finds', 'Live updates: Most Americans worry coronavirus vaccine will be rushed by political pressure, new poll finds', 'Live updates: Most Americans worry coronavirus vaccine will be rushed by political pressure, new poll finds', 'Live updates: Most Americans worry coronavirus vaccine will be rushed by political pressure, new poll finds'], ['the-washington-times', 'Black Lives Matter protests drive Black police chiefs off the job', 'Trump, Biden to converge on Shanksville on Sept. 11', \"Illegal immigrants' Census exclusion illegal, federal judges rule\", \"Manhattan rejuvenation serves as 'testament to America': 'We've rebuilt and made it better'\", 'Microsoft warns of election-related cyberattacks from China, Iran, Russia', '16 federal agencies sent SWAT teams to deal with protests: Audit', \"Trump era brings tsunami of registered Republicans to Pennsylvania: 'I think he will win again'\", 'Thomas P. Payne, Army Ranger, to be awarded Medal of Honor for hostage rescue mission', 'How To Entirely Empty Your Bowels Every Morning - Top Surgeon Explains How', 'Heart Surgeon: Throw Out Your Olive Oil Now (Here’s Why)']]\n"
          ],
          "name": "stdout"
        }
      ]
    },
    {
      "cell_type": "markdown",
      "metadata": {
        "id": "NZHSVRnNKfKZ",
        "colab_type": "text"
      },
      "source": [
        "## Method: parseWords\n",
        "### this will parse the headlines to count how many times each vocabs appears in headlines"
      ]
    },
    {
      "cell_type": "code",
      "metadata": {
        "id": "tAWD02dfH5AF",
        "colab_type": "code",
        "colab": {}
      },
      "source": [
        "import re"
      ],
      "execution_count": 16,
      "outputs": []
    },
    {
      "cell_type": "code",
      "metadata": {
        "id": "v9uzdNApGPua",
        "colab_type": "code",
        "colab": {}
      },
      "source": [
        "def parseWords(headlines, dic):\n",
        "  for headline in headlines:\n",
        "    for line in headline[1:]:\n",
        "      vocabs = re.split('\\W+', line)\n",
        "      for vocab in vocabs:\n",
        "        if vocab in dic:\n",
        "          dic[vocab] += 1\n",
        "        else:\n",
        "          dic[vocab] = 1"
      ],
      "execution_count": 17,
      "outputs": []
    },
    {
      "cell_type": "code",
      "metadata": {
        "id": "8TIc5ixoIw-h",
        "colab_type": "code",
        "colab": {
          "base_uri": "https://localhost:8080/",
          "height": 54
        },
        "outputId": "26874747-7e59-48e8-dede-2b99c8fce185"
      },
      "source": [
        "parseVocab = {}\n",
        "parseWords(headlines, parseVocab)\n",
        "print(parseVocab)"
      ],
      "execution_count": 19,
      "outputs": [
        {
          "output_type": "stream",
          "text": [
            "{'It': 15, 's': 102, 'the': 97, 'peak': 1, 'of': 74, 'Atlantic': 1, 'hurricane': 1, 'season': 3, 'and': 53, 'tropics': 1, 'are': 13, 'bonkers': 1, 'Immortals': 2, 'hands': 2, 'on': 36, 'I': 9, 'guess': 1, 'Ubisoft': 9, 'is': 32, 'copying': 1, 'Breath': 2, 'Wild': 3, 'now': 8, 'Revisiting': 1, 'spectacular': 1, 'failure': 1, 'that': 11, 'was': 7, 'Bill': 2, 'Gates': 1, 'deposition': 1, 'New': 16, 'gravitational': 1, 'lensing': 1, 'study': 2, 'hints': 1, 'at': 11, 'problems': 1, 'for': 41, 'dark': 1, 'matter': 2, 'models': 1, 'AT': 1, 'T': 2, 'hopes': 4, 'you': 7, 'll': 1, 'forget': 1, 'its': 6, 'years': 4, 'long': 5, 'fight': 5, 'against': 8, 'accurate': 1, 'broadband': 2, 'maps': 1, 'Microsoft': 9, 'first': 8, 'Android': 3, 'phone': 1, 'Surface': 3, 'Duo': 3, 'available': 2, 'Motorola': 1, 'Razr': 2, '2': 3, 'to': 126, 'right': 3, 'wrongs': 1, 'original': 1, 'reboot': 1, 'As': 5, 'waters': 1, 'warm': 1, 'these': 2, 'species': 1, 'stuck': 1, 'going': 2, 'wrong': 1, 'way': 2, 'Maserati': 3, 'new': 24, 'MC20': 2, 'supercar': 2, 'uses': 1, 'F1': 1, 'engine': 1, 'efficiency': 1, 'technology': 2, 'Console': 1, 'options': 2, 'without': 1, 'disc': 1, 'drives': 1, 'could': 7, 'be': 10, 'GameStop': 1, 'final': 2, 'death': 3, 'knell': 1, 'Axios': 1, 'Pro': 3, 'Rata': 1, 'Silicon': 1, 'Valley': 1, 'x27': 1, 'Veep': 1, 'AirIPO': 1, 'Brooks': 2, 'Brothers': 1, 'lives': 1, 'The': 41, 'busiest': 1, 'owner': 1, 'in': 78, 'sports': 3, 'GOP': 9, 'congressman': 1, 'condemns': 1, 'QAnon': 1, 'after': 14, 'conspiracy': 1, 'theorist': 1, 'wins': 2, 'Georgia': 1, 'runoff': 1, 'House': 3, 'Oversight': 1, 'chair': 1, 'introduces': 1, 'bill': 4, 'preserve': 1, 'USPS': 1, 'services': 1, 'U': 11, 'S': 13, 'threatens': 2, 'veto': 1, 'UN': 1, 'peacekeeping': 1, 'Lebanon': 2, 'over': 12, 'Hezbollah': 1, 'concerns': 1, 'Poll': 2, 'America': 3, 'confidence': 1, 'public': 2, 'school': 1, 'system': 2, 'jumps': 1, 'amid': 4, 'pandemic': 3, 'Watch': 12, 'Gen': 2, 'Z': 1, 'future': 3, 'politics': 1, 'employability': 1, 'Milwaukee': 1, 'Industry': 1, 'digital': 2, 'update': 3, 'Coronavirus': 10, 'dashboard': 1, 'Meet': 1, 'Jane': 2, 'Fraser': 3, 'woman': 1, 'set': 2, 'helm': 1, 'a': 50, 'major': 1, 'US': 8, 'bank': 1, 'Business': 11, 'Insider': 10, 'VCs': 1, 'less': 1, 'likely': 1, 'fund': 1, 'startups': 1, 'learning': 1, 'founders': 1, 'women': 2, 'Netflix': 1, 'CEO': 4, 'says': 9, 'service': 1, 'ad': 2, 'free': 3, 'because': 1, 'it': 10, 'best': 5, 'capitalism': 1, 'JPMorgan': 2, 'sales': 4, 'trading': 1, 'employees': 2, 'ordered': 1, 'return': 2, 'Sept': 2, '21': 2, 'WSJ': 1, 'Former': 1, 'Tanya': 1, 'Zuckerbrot': 1, 'popular': 2, 'F': 1, 'Factor': 1, 'diet': 2, 'say': 2, 'she': 1, 'fat': 1, 'shamed': 1, 'colleagu': 1, '': 71, 'Predictive': 1, 'policing': 1, 'algorithm': 1, 'monitors': 1, 'harasses': 1, 'families': 1, 'Report': 2, 'Moria': 1, 'camp': 1, 'fire': 3, 'started': 1, 'ATM': 1, 'machine': 2, 'blocked': 2, 'Medicare': 2, 'Medicaid': 1, 'chief': 2, 'abused': 1, 'rules': 5, 'spending': 1, '3': 9, '5': 1, 'million': 3, 'look': 3, 'halo': 1, '16': 2, 'Trump': 74, 'bragged': 1, 'Woodward': 12, 'he': 7, 'saved': 1, 'MBS': 1, 'Khashoggi': 1, 'murder': 1, 'Climate': 3, 'change': 3, 'largely': 1, 'missing': 2, 'from': 23, 'campaign': 4, 'as': 14, 'fires': 2, 'rage': 1, 'Pentagon': 1, 'rescinding': 1, 'order': 3, 'shutter': 1, 'Stars': 1, 'Stripes': 1, 'paper': 1, 'Judges': 2, 'can': 6, 't': 29, 'exclude': 4, 'people': 9, 'district': 1, 'drawings': 1, 'Dem': 1, 'report': 3, 'used': 2, 'fed': 1, 'money': 1, 'bolster': 1, 'image': 1, 'Russian': 5, 'hackers': 2, 'targeting': 2, 'campaigns': 3, 'battleground': 1, 'Michigan': 10, 'book': 7, 'fallout': 2, 'Stunned': 1, 'residents': 1, 'tour': 1, 'Oregon': 2, 'town': 1, 'devastated': 1, 'by': 14, 'wildfires': 6, 'Couple': 1, 'California': 8, 'sought': 1, 'shelter': 1, 'pond': 1, 'Scarcity': 1, 'key': 1, 'material': 1, 'squeezes': 1, 'medical': 1, 'mask': 1, 'manufacturing': 1, 'Virus': 2, 'Senate': 4, 'prospects': 1, 'dim': 1, 'relief': 3, '39': 1, 'Songs': 1, 'That': 4, 'Made': 1, 'Millennial': 1, 'Middle': 1, 'Schoolers': 1, 'In': 13, 'Early': 1, '2000s': 1, 'Lose': 1, 'Their': 7, 'Goddamn': 1, 'Minds': 1, 'Chrissy': 1, 'Teigen': 1, 'Home': 1, 'For': 8, 'Sale': 1, 'Is': 17, 'Apparently': 1, 'Being': 4, 'Shown': 1, 'By': 2, 'Selling': 1, 'Sunset': 1, 'Jason': 1, 'Oppenheim': 1, 'Only': 1, 'A': 15, 'Real': 3, 'Harry': 2, 'Potter': 1, 'Fan': 1, 'Can': 10, 'Name': 1, 'Every': 3, 'Chapter': 1, 'From': 6, 'Book': 2, '44': 2, 'Gifts': 1, 'You': 15, 'Send': 1, 'To': 8, 'Friends': 1, 'Celebrating': 1, 'Birthdays': 1, 'Quarantine': 1, 'Sorry': 1, 'But': 1, 'Actually': 1, 'Physically': 1, 'Impossible': 1, 'Not': 5, 'Laugh': 1, 'At': 2, 'These': 4, '33': 1, 'Pictures': 1, '13': 3, 'Absolutely': 1, 'Hilarious': 1, 'Jokes': 1, 'Told': 1, 'Movies': 1, '26': 1, 'Celebrities': 1, 'Stand': 3, 'Between': 1, 'And': 5, '100': 5, 'On': 6, 'This': 5, 'Quiz': 1, '28': 1, 'Actors': 1, 'Who': 5, 'Were': 2, 'So': 3, 'Good': 1, 'Playing': 2, 'Villains': 1, 'Now': 6, 'People': 3, 'Hate': 1, 'Faces': 1, 'Bet': 2, 'Don': 3, 'Know': 3, 'What': 10, 'Kind': 1, 'Of': 6, 'Medicine': 1, 'Ologists': 1, 'Specialize': 1, 'Prove': 1, 'Me': 2, 'Wrong': 1, 'WTF': 1, 'Happening': 2, 'Today': 1, 'BuzzFeed': 1, 'Newsletters': 1, 'Help': 1, 'Why': 8, 'We': 6, 'Still': 2, 'Stop': 5, 'Oil': 3, 'Spills': 1, 'Damaging': 1, 'Environment': 1, 'Maybe': 1, 'Time': 4, 'Let': 2, 'J': 2, 'C': 3, 'Penney': 2, 'Go': 4, 'Disney': 1, 'Nods': 1, 'Uproar': 1, 'Over': 4, 'Filming': 1, 'Mulan': 1, 'China': 9, 'Xinjiang': 1, 'Top': 4, 'Fund': 1, 'Sees': 1, 'Value': 2, 'Apple': 10, 'Amazon': 5, 'After': 2, 'Sizzling': 1, 'Rally': 3, 'Drops': 1, 'Bid': 1, '48': 1, 'Hour': 1, 'Delay': 1, 'Big': 4, 'Swap': 1, 'Trade': 2, 'Reporting': 1, 'Lufthansa': 1, 'Shed': 1, 'Biggest': 1, 'Planes': 1, 'Deepening': 1, 'Fleet': 1, 'Shakeup': 1, 'Even': 2, 'Tiffany': 1, 'Discount': 1, 'Comes': 1, 'with': 25, 'Cost': 2, 'Course': 1, 'Couldn': 1, 'Resist': 1, 'Bob': 5, 'Mall': 1, 'Operators': 1, 'Should': 3, 'Surveillance': 1, 'Citi': 1, 'Picks': 2, 'Be': 3, 'Next': 3, 'Podcast': 1, 'Federal': 3, 'judge': 3, 'temporarily': 2, 'halts': 1, 'Census': 2, 'Bureau': 1, 'ending': 1, 'headcount': 1, 'month': 1, 'earlier': 1, 'than': 5, 'planned': 1, 'administration': 1, 'pushes': 1, 'conclude': 1, '2020': 13, 'census': 3, 'count': 2, 'defends': 1, 'decision': 2, 'withhold': 1, 'information': 1, 'COVID': 23, '19': 26, 'threat': 2, 'been': 2, 'months': 3, 'since': 3, 'George': 4, 'Floyd': 4, 'killed': 2, 'police': 5, 'Police': 5, 'still': 1, 'killing': 3, 'Black': 10, 'disproportionate': 1, 'rates': 1, 'Number': 1, 'Americans': 9, 'seeking': 1, 'unemployment': 3, 'continues': 1, 'rise': 3, '164': 1, '8': 1, 'their': 2, 'names': 1, 'Part': 1, 'II': 1, 'May': 3, 'August': 1, 'Deadly': 2, 'western': 1, 'level': 3, 'homes': 2, 'decimate': 1, 'communities': 1, 'University': 1, 'Illinois': 1, 'develops': 1, 'innovative': 1, 'saliva': 1, 'test': 3, 'Five': 3, 'things': 1, 'know': 3, 'about': 12, 'frequent': 1, 'mass': 1, 'testing': 1, 'dismisses': 1, 'question': 3, 'white': 1, 'privilege': 1, 'really': 1, 'drank': 1, 'Kool': 1, 'Aid': 2, 'Lefkoe': 1, 'Super': 2, 'Bowl': 1, 'Pick': 1, 'Gridiron': 1, 'Heights': 1, 'Season': 1, 'Premiere': 1, 'Underrated': 1, 'Jerry': 1, 'Jeudy': 1, 'Bleacher': 1, 'Expert': 1, 'Consensus': 1, 'Week': 2, '1': 5, 'NFL': 7, 'Role': 1, 'LeBron': 1, 'Inside': 1, 'Strange': 1, 'World': 7, 'NBA': 3, 'Superstar': 1, 'Ins': 1, 'B': 1, 'R': 2, 'Experts': 1, 'Rank': 1, '50': 4, 'Players': 1, 'Heading': 1, 'into': 4, 'Toronto': 2, 'Raptors': 1, 'Are': 9, 'Writing': 1, 'Own': 3, 'Story': 2, 'Keep': 1, 'Title': 1, 'Defense': 1, 'Alive': 1, 'Qatar': 1, 'host': 1, 'awaited': 1, 'intra': 1, 'Afghan': 3, 'talks': 3, 'Saturday': 1, 'sparks': 1, 'riots': 1, 'across': 2, 'Colombia': 1, 'leave': 1, 'seven': 1, 'dead': 2, 'East': 6, 'Med': 1, 'crisis': 2, 'Greek': 2, 'PM': 1, 'raises': 1, 'sanctions': 1, 'Turkey': 1, 'Live': 13, 'Updates': 2, 'Holds': 2, 'Donald': 5, 'Speaks': 1, 'Campaign': 2, 'CNN': 5, 'Dana': 1, 'Bash': 1, 'Crazy': 1, 'He': 4, 'Doesn': 2, 'Authorities': 1, 'Biden': 16, 'Understand': 1, 'Duty': 1, 'Honor': 2, 'Service': 1, 'Country': 1, 'Andrew': 1, 'Cuomo': 1, 'Announces': 1, 'Fine': 1, 'York': 5, 'Maskless': 1, 'Subway': 1, 'Riders': 3, 'Nolte': 1, 'Jake': 2, 'Tapper': 2, 'Meddled': 1, 'an': 9, 'Election': 9, 'Lied': 2, 'About': 4, 'Congressmen': 1, 'Ask': 1, 'DOJ': 3, 'Investigate': 1, 'Funding': 1, 'Riots': 1, 'Woman': 1, 'Attacks': 1, 'Security': 3, 'Guard': 1, 'Seattle': 1, 'Machete': 1, 'Offshoring': 1, 'Rule': 1, 'Aligns': 1, 'Predatory': 1, 'Policy': 3, 'President': 2, 'Press': 1, 'Conference': 2, 'Boosie': 1, 'Badazz': 1, 'Shouldn': 1, 'Get': 2, 'his': 7, 'IG': 1, 'Back': 2, 'Million': 1, 'Dollars': 1, 'Stock': 3, 'Market': 2, 'Meltdown': 1, 'Continues': 1, 'Tech': 2, 'Extend': 1, 'Losses': 1, 'Social': 2, 'Media': 2, 'Hits': 1, 'Low': 1, 'With': 5, 'Death': 1, 'Ronnie': 1, 'Mcnutt': 1, 'GM': 2, 'Nikola': 1, 'Partnership': 1, 'Game': 12, 'Changer': 1, 'Tesla': 6, 'Whatever': 1, 'AAAA': 1, 'Has': 3, 'Two': 2, 'Pipeline': 1, 'Crashes': 1, 'Enters': 1, 'Bear': 2, 'Territory': 1, 'Dow': 1, 'Plunges': 1, '450': 1, 'Points': 2, 'Selloff': 1, 'Intensifies': 1, 'Stimulus': 2, 'Stalled': 1, 'Meghan': 1, 'Markle': 1, 'Prince': 3, 'Have': 5, 'Royal': 1, 'Titles': 1, 'Stripped': 1, 'Xbox': 2, 'Series': 1, 'Trailer': 5, 'Leaks': 1, 'Reveal': 1, 'Astonishing': 1, 'Wall': 1, 'Street': 1, 'Watt': 1, 'Heavy': 1, 'They': 1, 'Just': 2, 'Yet': 1, 'Almost': 1, 'Famous': 1, 'turns': 1, '20': 3, 'Behind': 1, 'scenes': 1, 'Cameron': 1, 'Crowe': 1, 'unforgettable': 1, 'film': 2, 'Diana': 2, 'Rigg': 2, 'em': 12, 'Thrones': 2, 'Avengers': 2, 'star': 2, 'dies': 2, '82': 2, 'Bruce': 1, 'Springsteen': 1, 'next': 4, 'album': 1, 'Letter': 1, 'arriving': 1, 'October': 1, 'Thursday': 2, 'socially': 1, 'distanced': 1, 'RHONY': 1, 'reunion': 1, 'Denise': 1, 'Richards': 1, 'leaving': 2, 'Housewives': 1, 'Beverly': 1, 'Hills': 1, 'seasons': 1, 'standouts': 1, 'this': 6, 'year': 2, 'International': 1, 'Film': 1, 'Festival': 1, 'Dune': 3, 'director': 2, 'Denis': 1, 'Villeneuve': 1, 'breaks': 1, 'down': 3, 'eye': 2, 'popping': 1, 'trailer': 1, 'Radio': 1, 'Flyer': 1, 'Model': 1, 'Y': 2, 'powered': 1, 'kids': 1, 'feet': 1, 'Samsung': 1, 'Galaxy': 1, 'Note': 2, 'Ultra': 1, 'review': 2, 'Unabashedly': 1, 'top': 2, 'Hisense': 1, '4': 4, '000': 4, 'laser': 1, 'projector': 1, 'comes': 1, 'inch': 1, 'screen': 1, 'Google': 5, 'smart': 1, 'displays': 1, 'will': 15, 'simplify': 1, 'multi': 1, 'room': 1, 'audio': 1, 'asks': 3, 'type': 1, 'wireless': 1, 'Wisconsin': 1, 'Supreme': 3, 'Court': 6, 'blocks': 4, 'absentee': 1, 'ballots': 1, 'being': 2, 'mailed': 1, 'week': 2, 'before': 1, 'deadline': 1, 'Reporter': 1, 'did': 2, 'lie': 3, 'American': 5, 'Video': 4, 'Joe': 4, 'laughs': 1, 'Slow': 1, 'nickname': 1, 'Covid': 3, 'risk': 3, 'linked': 2, 'restaurant': 1, 'dining': 1, 'CDC': 1, 'Three': 1, 'times': 1, 'told': 2, 'one': 6, 'thing': 2, 'something': 1, 'else': 1, 'Analysis': 2, 'Someone': 1, 'needs': 4, 'remind': 1, 'isn': 3, 'president': 3, 'United': 1, 'States': 1, 'didn': 3, 'subdued': 1, 'but': 6, 'defensive': 2, 'denies': 1, 'misled': 1, 'despite': 2, 'tape': 1, 'Exclusive': 1, 'has': 3, 'no': 5, 'conception': 1, 'national': 1, 'security': 1, 'Republican': 1, 'senator': 1, 'response': 1, 'absolutely': 1, 'maddening': 1, 'Latest': 2, 'news': 3, 'around': 3, 'world': 5, 'rollercoaster': 1, 'vaccines': 3, 'How': 11, 'like': 2, 'colonoscopy': 1, 'we': 6, 'save': 3, 'small': 1, 'business': 2, 'coronavirus': 18, 'induced': 1, 'extinction': 1, 'TikTok': 4, 'looking': 1, 'ways': 2, 'avoid': 1, 'sale': 1, 'systemic': 1, 'racism': 1, 'investment': 1, 'industry': 1, 'whiteness': 1, 're': 2, 'not': 2, 'sitting': 1, 'correctly': 1, 'your': 4, 'home': 2, 'office': 1, 'unprecedented': 1, 'disruption': 1, 'financial': 1, 'ban': 4, 'pushed': 1, 'most': 1, 'independent': 1, 'tech': 2, 'billionaire': 2, 'closer': 1, 'Beijing': 1, 'Pfizer': 1, 'Albert': 1, 'Bourla': 1, 'Vaccine': 1, 'efforts': 1, 'improving': 1, 'Pharma': 1, 'reputation': 1, 'race': 1, 'vaccine': 8, 'shows': 3, 'power': 3, 'community': 1, 'intelligence': 1, 'Miami': 2, 'Dolphins': 2, 'discontent': 1, 'empty': 1, 'gestures': 1, 'stay': 1, 'inside': 1, 'during': 4, 'both': 2, 'anthems': 1, 'Cam': 1, 'Newton': 1, 'excited': 2, 'playing': 1, 'again': 4, 'making': 1, 'England': 2, 'Patriots': 1, 'debut': 2, 'Kemba': 1, 'Walker': 1, 'layup': 1, 'attempt': 1, 'late': 1, 'loss': 1, 'should': 3, 've': 3, 'drawn': 1, 'foul': 1, 'Ex': 1, 'Jets': 3, 'WR': 2, 'Josh': 2, 'Bellamy': 1, 'charged': 1, '24': 1, 'loan': 1, 'scheme': 1, 'Giants': 1, 'coach': 1, 'Judge': 1, 'rips': 2, 'team': 3, 'effort': 1, 'restarts': 1, 'practice': 1, 'Cowboys': 2, 'Prescott': 1, 'got': 1, 'help': 4, 'anxiety': 1, 'depression': 1, 'offseason': 1, 'Fantasy': 2, 'football': 2, 'shadow': 2, 'Key': 2, 'CB': 3, 'matchups': 1, 'WWE': 2, 'MLB': 2, 'Friday': 1, 'Night': 2, 'SmackDown': 1, 'July': 1, '17th': 1, 'minutes': 1, 'FRIDAY': 1, 'NIGHT': 1, 'SMACKDOWN': 1, 'VIDEO': 1, 'Which': 1, 'two': 1, 'members': 2, 'Madden': 1, '99': 1, 'Club': 1, 'would': 2, 'build': 1, 'MVP': 1, 'Cy': 1, 'Young': 1, 'Rookie': 1, 'Year': 1, 'favorites': 1, 'win': 3, 'awards': 1, 'News': 1, 'Videos': 2, 'Scores': 1, 'Teams': 1, 'Standings': 1, 'Stats': 1, 'Daniel': 1, 'Snyder': 1, 'respond': 1, 'Washington': 2, 'Post': 2, 'story': 1, 'South': 1, 'Carolina': 1, 'art': 1, 'museum': 1, 'pulls': 1, 'Wear': 1, 'Names': 1, 'jewelry': 1, 'named': 2, 'brutality': 1, 'victims': 1, 'Critics': 1, 'blast': 1, 'lying': 1, 'claim': 1, 'candidate': 1, 'Sean': 1, 'Parnell': 1, 'spokesman': 1, 'refuses': 1, 'discuss': 1, 'whether': 1, 'former': 2, 'VP': 1, 'teleprompter': 1, 'answer': 1, 'questions': 1, 'effect': 1, 'resignations': 1, 'big': 2, 'cities': 1, 'Geraldo': 1, 'Rivera': 1, 'Here': 4, 'bitter': 1, 'irony': 1, 'USMCA': 1, 'records': 1, 'show': 3, 'Mueller': 1, 'wiped': 1, 'phones': 1, 'probe': 1, 'Gutfeld': 1, 'crucifying': 1, 'narrative': 1, 'they': 2, 'pushing': 1, 'spars': 1, 'WH': 1, 'reporter': 1, 'tapes': 1, 'never': 1, 'lied': 2, 'superintendent': 1, 'anti': 2, 'quiz': 1, 'teacher': 1, 'gave': 1, 'students': 1, 'misinformation': 2, 'Sen': 2, 'Cotton': 1, 'committed': 1, 'appointing': 1, 'conservative': 3, 'judges': 3, 'PCB': 1, 'Umar': 1, 'Akmal': 1, 'three': 1, 'all': 4, 'cricket': 1, 'ESPNcricinfo': 10, 'com': 9, 'Akram': 1, 'yorkers': 1, 'Hegg': 1, 'hits': 1, 'Chapple': 1, '6': 1, '18': 1, 'time': 2, 'realised': 1, 'also': 1, 'cry': 1, 'winning': 1, 'game': 6, 'famous': 1, 'cat': 1, 'have': 4, 'profiles': 1, 'Sri': 1, 'Lanka': 1, 'don': 3, '1996': 1, 'Cup': 3, 'm': 1, 'fighting': 1, 'my': 1, 'own': 2, 'benchmarks': 1, 'Ashwin': 1, 'soap': 1, 'opera': 1, 'starring': 1, 'KP': 1, 'Warnie': 1, 'Mahela': 1, 'CSK': 1, 'games': 1, 'only': 3, 'hardcore': 1, 'fans': 1, 'remember': 2, 'ball': 1, 'whole': 1, 'Saeed': 1, 'Ajmal': 1, 'v': 1, 'Sachin': 1, 'Tendulkar': 1, 'revisited': 1, 'learned': 1, 'watching': 1, '1992': 1, 'full': 1, 'Money': 1, '300': 2, 'boost': 1, 'run': 1, 'out': 1, 'extension': 1, 'sight': 1, '150': 1, 'Businesses': 1, 'Warn': 1, 'Mayor': 2, 'Widespread': 1, 'Anxiety': 1, 'N': 1, 'Future': 1, 'everyone': 1, 'knew': 1, 'airborne': 1, 'February': 2, 'Russia': 4, 'Iran': 4, 'target': 3, 'election': 6, 'Blocks': 1, 'Attempt': 1, 'Change': 3, 'Counts': 1, 'Allocating': 1, 'Seats': 1, 'Ben': 1, 'Shapiro': 1, 'hell': 1, 'thought': 1, 'good': 1, 'idea': 1, 'talk': 1, 'Stark': 1, 'imagery': 1, 'reveals': 1, 'scary': 1, 'extent': 1, 'West': 6, 'Coast': 5, 'Republicans': 2, 'fail': 1, 'advance': 1, 'stimulus': 1, 'stalemate': 1, 'drags': 1, 'racial': 1, 'rhetoric': 1, 'TOML': 1, 'Tom': 1, 'Obvious': 1, 'Minimal': 1, 'Language': 1, 'Launch': 1, 'HN': 1, 'OpenUnit': 1, 'YC': 1, 'W20': 1, 'Software': 1, 'managing': 1, 'self': 1, 'storage': 1, 'facilities': 1, 'LLVM': 1, 'merges': 1, 'function': 1, 'splitter': 1, 'reduction': 1, 'TLB': 1, 'misses': 1, 'Among': 2, 'Norse': 1, 'Tribes': 1, 'Remarkable': 1, 'Account': 3, 'Ibn': 1, 'Fadlan': 1, '1999': 1, 'do': 6, 'Routers': 1, 'Work': 1, 'Really': 2, 'Intercepting': 1, 'Zoom': 2, 'encrypted': 1, 'data': 3, 'BPF': 1, 'Caddy': 1, 'Server': 1, 'Acquired': 1, 'Apilayer': 1, 'Relativty': 1, 'Open': 1, 'source': 1, 'VR': 1, 'headset': 1, '200': 2, 'Postcard': 1, 'stamped': 1, '1920': 1, 'delivered': 1, 'later': 1, 'Compiling': 1, 'Word': 1, 'Windows': 1, 'v1': 1, '1a': 1, 'Hyrule': 3, 'Warriors': 3, 'Age': 5, 'Calamity': 3, 'Official': 1, 'IGN': 9, 'Mario': 2, 'Bros': 1, '2K21': 1, 'Review': 2, 'Razer': 1, 'Blade': 2, '15': 2, 'Advanced': 1, 'Sequel': 1, 'Prequel': 1, 'NVC': 1, '525': 1, 'Rainbow': 1, 'Six': 1, 'Siege': 1, 'Content': 2, 'Creators': 2, 'Share': 2, 'Operation': 1, 'Shadow': 1, 'Legacy': 1, 'Tips': 1, 'Tricks': 1, 'Up': 1, 'Preorder': 1, 'Republic': 2, 'Predict': 1, 'React': 1, 'Streets': 1, 'Rage': 1, 'Long': 1, 'Relationship': 1, 'Protests': 1, 'Iron': 2, 'Positioning': 1, 'Keys': 1, 'Success': 1, 'Harvest': 1, 'warns': 3, 'unsuccessful': 1, 'attacks': 1, 'Feds': 1, 'seek': 1, 'halt': 1, 'civil': 1, 'lawsuit': 1, 'Ghislaine': 1, 'Maxwell': 1, 'Union': 1, 'Houston': 1, 'officers': 1, 'fired': 2, 'fatal': 1, 'shooting': 1, 'Harris': 2, 'her': 2, 'husband': 1, 'Jewish': 1, 'voters': 1, 'kill': 1, 'Nevada': 1, 'vote': 1, 'mail': 1, 'law': 1, 'touting': 1, 'great': 3, 'comeback': 1, 'features': 1, 'foreign': 2, 'stock': 3, 'footage': 1, 'Tennessee': 1, 'officials': 2, 'searching': 1, 'tiger': 1, 'spotted': 1, 'deputy': 1, 'Red': 1, 'flag': 1, 'warnings': 1, 'continue': 2, 'flash': 1, 'flooding': 1, 'expected': 1, 'weekly': 1, 'filings': 1, 'remain': 2, 'elevated': 1, '884': 1, 'Kim': 1, 'Jong': 1, 'Un': 1, 'uncle': 1, 'make': 1, 'iPhone': 2, 'Screen': 1, 'actually': 1, 'helpful': 1, 'AOC': 1, 'opens': 1, 'up': 6, 'threats': 1, 'baseball': 1, 'offensive': 1, 'video': 1, 'Uber': 1, 'kick': 1, 'off': 3, 'riders': 1, 'low': 1, 'ratings': 1, 'Metal': 1, 'makes': 3, 'Hot': 1, 'Wheels': 1, 'summer': 3, 'challenges': 1, 'smaller': 1, 'cheaper': 1, 'Echo': 1, 'Show': 3, 'DC': 1, 'Doom': 1, 'Patrol': 1, 'rare': 1, 'superhero': 1, 'understands': 1, 'trauma': 1, 'court': 1, 'older': 1, 'demographic': 1, 'Facebook': 8, 'ads': 2, 'Dozens': 1, 'development': 2, 'ones': 1, 'follow': 1, 'When': 3, 'threaten': 1, 'Administration': 1, 'expands': 1, 'offshore': 1, 'drilling': 1, 'NASA': 1, 'sent': 2, 'map': 1, 'space': 1, 'aliens': 1, 'find': 1, 'Earth': 2, 'Private': 1, 'autopsies': 1, 'Rare': 1, 'photographs': 1, 'African': 1, 'cheetahs': 1, 'snowstorm': 1, 'children': 2, 'endure': 1, 'traumatic': 1, 'capped': 1, 'Chadwick': 1, 'Boseman': 1, 'Will': 3, 'ever': 1, 'touch': 1, 'iconic': 1, 'tourist': 1, 'attractions': 1, 'climbing': 1, 'photography': 1, 'Grand': 1, 'Teton': 1, 'National': 2, 'Park': 1, 'Foreboding': 1, 'orange': 1, 'skies': 1, 'cast': 1, 'more': 3, 'pall': 1, 'Northern': 2, 'Zuckerberg': 2, 'Defends': 1, 'Refusal': 1, 'Censor': 1, 'Political': 1, 'Ads': 1, 'See': 2, 'Themselves': 1, 'what': 5, 'Politicians': 1, 'Saying': 1, 'Ukraine': 2, 'Zelensky': 1, 'Denies': 1, 'Negotiating': 1, 'Quid': 1, 'Quo': 1, 'Criticizes': 1, 'Stance': 1, 'Corruption': 1, 'Aunt': 1, 'Becky': 1, 'Underpaid': 1, 'Teachers': 1, 'Myth': 1, 'No': 1, 'College': 1, 'Become': 1, 'Welder': 1, 'Hey': 1, 'Christians': 1, 'Welcoming': 1, 'Committee': 1, 'Counterintuitive': 1, 'Compelling': 1, 'Case': 1, 'Class': 1, 'Action': 1, 'Lawsuits': 1, 'History': 1, 'Short': 1, 'Weakened': 1, 'Chinese': 2, 'State': 1, 'Presents': 1, 'Its': 2, 'Dangers': 1, 'Kenneth': 1, 'Clark': 1, 'i': 4, 'Civilisation': 1, 'Half': 1, 'Century': 1, 'Al': 1, 'Pacino': 1, 'Matters': 1, 'Inequality': 1, 'may': 3, 'increase': 1, 'prostate': 1, 'cancer': 1, 'mortality': 1, 'males': 1, 'Critically': 1, 'ill': 1, 'patients': 1, 'robust': 1, 'immunity': 1, 'Financial': 1, 'hardship': 1, 'factor': 1, 'suicide': 1, 'attempts': 1, 'Keto': 1, 'reduce': 1, 'Alzheimer': 1, 'altering': 1, 'gut': 1, 'fungi': 1, 'Study': 1, 'finds': 6, 'eat': 2, 'when': 1, 'Ill': 1, 'abandoned': 1, 'unable': 1, 'access': 2, 'Living': 1, 'Lives': 3, 'Matter': 2, 'science': 1, 'society': 1, 'Antibodies': 1, 'cells': 1, 'blood': 1, 'speed': 1, 'population': 1, 'screening': 1, 'updates': 11, 'Haley': 1, 'Lu': 1, 'Richardson': 1, 'Barbie': 1, 'Ferreira': 1, 'Destigmatize': 1, 'Abortion': 2, 'Comedy': 1, 'Unpregnant': 1, 'Johnny': 1, 'Orlando': 1, 'Race': 1, 'Against': 2, 'Dusk': 1, 'Everybody': 1, 'Wants': 1, 'Fight': 2, 'Position': 1, 'Strength': 1, 'Stacey': 1, 'Abrams': 1, 'Battling': 1, 'Voter': 1, 'Suppression': 1, 'Timothée': 1, 'Chalamet': 1, 'Zendaya': 1, 'Brood': 1, 'Way': 2, 'Through': 2, 'Epic': 1, 'Janelle': 1, 'Monáe': 1, 'Triumphant': 1, 'Rallying': 1, 'Cry': 1, 'Turntables': 1, 'All': 5, 'Chris': 2, 'Hayes': 2, 'MSNBC': 3, 'ReidOut': 1, 'Joy': 2, 'Reid': 2, 'MTP': 1, 'Daily': 2, 'Leads': 1, '10': 2, 'Military': 2, 'Households': 1, 'Finds': 1, 'Battles': 1, 'Beirut': 1, 'Port': 1, 'Fire': 3, 'Downs': 1, 'Israel': 2, 'Drone': 1, 'Crises': 1, 'Continue': 1, 'Palestinians': 1, 'Regroup': 1, 'Tell': 4, 'Arab': 1, 'Deal': 1, 'Before': 1, 'Peace': 1, 'Smoke': 1, 'Wildfires': 3, 'Travels': 1, 'Miles': 1, 'Seen': 1, 'Far': 2, 'Away': 2, 'Hawaii': 1, 'Ohio': 1, 'Midwest': 1, 'Battlegrounds': 1, 'Progressives': 2, 'Mobilize': 1, 'Voters': 1, 'Color': 1, 'Best': 3, 'Online': 1, 'Shops': 2, '2021': 3, 'Brands': 2, 'Trust': 1, 'Most': 7, 'Physical': 1, 'Rehabilitation': 1, 'Centers': 1, 'Maternity': 1, 'Care': 1, 'Hospitals': 1, 'Newsweek': 1, 'AMPLIFY': 1, 'Empowers': 1, 'Affiliate': 1, 'Digital': 1, 'Books': 1, 'Read': 2, 'Australian': 1, 'labradoodle': 1, 'poodle': 1, 'Labrador': 1, 'according': 1, 'DNA': 1, 'Dark': 2, 'galaxy': 1, 'clusters': 1, 'behaving': 1, 'oddly': 1, 'why': 2, 'Some': 2, 'autistic': 1, 'prefer': 1, 'cats': 1, 'hold': 1, 'contact': 2, 'Weekly': 1, 'cases': 1, 'highest': 2, 'Wildlife': 1, 'populations': 1, 'seeing': 1, 'catastrophic': 1, 'rapid': 1, 'declines': 1, 'Could': 3, 'jump': 1, 'wormhole': 1, 'us': 3, 'present': 1, 'wholesome': 2, 'memes': 1, 'internet': 1, 'crumbling': 1, 'infrastructure': 1, 'insecure': 1, 'develop': 1, 'spread': 1, 'themselves': 1, 'rewild': 1, 'sky': 1, 'restore': 1, 'atmosphere': 1, 'glory': 1, 'Giant': 1, 'Cloud': 1, 'Incompetence': 1, 'Hangs': 1, 'Runner': 1, '2049': 1, 'Orange': 3, 'Sky': 2, 'Pandemic': 2, 'Usher': 1, 'Truly': 1, 'Global': 1, 'Workforce': 2, 'Mismanagement': 1, 'Guarantee': 1, 'Many': 1, 'Power': 3, 'Outages': 2, 'Skies': 2, 'california': 1, 'Predicted': 1, 'Nuclear': 1, 'Reactors': 1, 'Shutdown': 1, 'energy': 1, 'Might': 1, 'Clean': 1, 'Energy': 2, 'Equal': 1, '30': 1, 'Total': 1, 'Solar': 1, 'Emmitt': 1, 'Smith': 1, 'play': 4, 'chicken': 1, 'Dak': 1, 'Raiders': 1, 'Amukamara': 1, 'agree': 2, 'terms': 1, 'Meyer': 1, 'Haskins': 1, 'players': 1, 'elite': 1, 'culture': 1, 'Colts': 1, 'punch': 1, 'RBs': 1, 'Mack': 1, 'Taylor': 1, 'closely': 1, 'monitor': 2, 'restart': 1, 'soccer': 1, 'Europe': 1, 'Falcons': 1, 'bring': 1, 'competition': 1, 'Younghoe': 1, 'Koo': 1, 'showing': 1, 'interest': 1, 'agent': 2, 'Logan': 1, 'Ryan': 1, 'Cards': 1, 'Isaiah': 1, 'Simmons': 1, 'focus': 1, 'position': 1, 'Tua': 1, 'Tagovailoa': 1, 'tops': 1, 'jersey': 1, 'draft': 2, 'Gase': 1, 'Frank': 1, 'Gore': 1, 'brings': 3, 'hard': 1, 'teach': 1, 'Cuccinelli': 1, 'appointment': 1, 'unlawful': 1, 'fighter': 2, 'pilot': 1, 'takes': 3, 'astronaut': 1, 'McSally': 1, 'Arizona': 1, 'mission': 2, 'Couturier': 1, 'Flyers': 2, 'Selke': 1, 'Trophy': 1, 'forward': 2, 'Lightning': 6, 'lean': 1, 'depth': 1, 'Final': 4, 'vs': 4, 'Islanders': 5, 'try': 1, 'improve': 1, 'trades': 1, 'agency': 1, 'need': 1, 'goals': 1, 'Killorn': 1, 'suspended': 1, 'actions': 1, 'confident': 1, 'Point': 1, 'miss': 1, 'Kucherov': 1, 'clutch': 1, 'victory': 1, 'Mailbag': 1, 'Murray': 1, 'trade': 1, 'Maple': 1, 'Leafs': 1, 'goalie': 1, 'plan': 1, 'Stanley': 1, 'Playoffs': 1, 'conference': 1, 'finals': 1, 'schedule': 1, 'Kickoff': 1, 'NBC': 1, 'Sports': 1, 'rule': 2, 'illegally': 1, 'congressional': 1, 'redistricting': 1, 'risks': 1, 'Olympic': 1, 'champion': 1, 'Caster': 1, 'Semenya': 1, 'critics': 1, 'couch': 1, 'misogynoir': 1, 'language': 1, 'equality': 1, 'young': 1, 'boy': 1, 'died': 1, 'alongside': 1, 'dog': 1, 'weighing': 1, 'White': 1, 'event': 2, 'Day': 2, 'government': 3, 'start': 2, 'Taliban': 2, 'raising': 1, 'peace': 1, 'decades': 1, 'war': 1, 'Games': 1, 'silent': 1, 'states': 1, 'torn': 1, 'between': 1, 'saving': 1, 'bars': 1, 'stopping': 1, 'E': 1, 'Jean': 1, 'Carroll': 1, 'Barr': 1, 'defamation': 1, 'defense': 1, 'sets': 1, 'another': 1, 'bad': 1, 'precedent': 1, 'extreme': 2, 'player': 1, 'races': 1, 'gen': 1, 'see': 1, 'smoke': 1, 'Flight': 1, 'Simulator': 1, 'Dogs': 1, 'Legion': 1, 'let': 1, 'robotic': 1, 'beekeeper': 1, 'Aiden': 1, 'Pearce': 1, 'Persia': 1, 'Sands': 1, 'remake': 1, 'coming': 4, 'Scott': 2, 'Pilgrim': 2, 'back': 2, 'delisted': 1, 'Gods': 1, 'Monsters': 1, 'Fenyx': 1, 'Rising': 1, 'Dec': 1, 'Space': 1, 'parts': 1, 'Elite': 1, 'Dangerous': 1, 'virtual': 1, 'reality': 2, 'Skull': 1, 'Bones': 1, 'won': 2, 'Forward': 4, 'apologizes': 1, 'controversies': 1, 'including': 1, 'Assassin': 1, 'Creed': 1, 'lost': 1, 'board': 1, 'print': 1, 'caused': 1, 'recurring': 1, 'explained': 2, 'Twitter': 2, 'tightening': 1, 'voting': 2, 'Conservative': 1, 'seems': 2, 'there': 1, 'catch': 1, 'stop': 2, 'spreading': 1, 'lies': 1, 'Oracle': 1, 'Larry': 1, 'Ellison': 1, 'shut': 1, 'foundation': 1, 'tracing': 1, 'tool': 1, 'finally': 1, 'useful': 1, 'Mark': 1, 'donated': 1, 'protect': 1, 'democracy': 1, 'record': 1, 'Walmart': 1, 'launches': 2, 'September': 1, 'compete': 1, 'Prime': 2, 'advertising': 1, 'iOS': 1, '14': 2, 'Fortnite': 1, 'r': 6, 'funny': 1, 'surface': 1, '71': 1, 'water': 1, 'StarWars': 1, 'doesn': 1, 'get': 1, 'gaming': 2, 'Poor': 1, 'npc': 1, 'europe': 1, '64': 1, 'protests': 3, 'Bulgaria': 1, 'CozyPlaces': 1, 'though': 1, 'doubt': 1, 'Managed': 1, 'IT': 1, 'Support': 1, 'Remote': 1, 'aww': 1, 'intern': 1, 'useless': 1, 'Guaranteed': 1, 'retail': 1, 'employee': 1, 'gives': 1, 'zero': 1, 'fucks': 1, 'lawyer': 1, 'Rudy': 1, 'Giuliani': 1, 'worked': 1, 'active': 1, 'discredit': 1, 'Complete': 1, 'Edition': 1, 'NA': 1, 'P': 2, '500': 1, 'closes': 1, 'nominally': 1, 'higher': 1, 'spikes': 1, 'muted': 1, 'unfit': 2, 'Democrat': 1, 'Pelosi': 2, 'Bolton': 1, 'markets': 1, 'slip': 1, 'second': 1, 'wave': 1, 'virus': 1, 'fears': 1, 'safe': 1, 'havens': 1, 'pledges': 1, 'list': 1, 'contenders': 1, 'Atlanta': 1, 'officer': 1, 'state': 1, 'witness': 1, 'Rayshard': 1, 'case': 2, 'Mexico': 1, 'ministry': 1, 'DACA': 1, 'program': 2, 'developments': 1, 'ethically': 1, 'presidency': 1, 'oversight': 1, 'organized': 1, 'hate': 1, 'policy': 1, 'wants': 1, 'building': 1, 'vehicle': 2, 'plant': 1, 'bid': 1, 'end': 1, 'Dreamers': 1, 'immigrant': 1, 'VC': 1, 'Kopelman': 1, 'so': 2, 'sure': 1, 'SPACs': 1, 'thinks': 1, 'called': 1, 'rolling': 1, 'funds': 1, 'prove': 1, 'powerful': 1, 'Crunch': 1, 'college': 1, 'network': 1, 'Warren': 2, 'Buffett': 1, 'invests': 1, 'unprofitable': 1, 'confirms': 1, 'One': 1, 'subscription': 1, 'bundle': 1, 'Music': 1, 'app': 1, 'code': 1, '3M': 1, 'Breakthrough': 1, 'Prize': 1, 'goes': 1, 'scientist': 1, 'designing': 1, 'molecules': 1, 'Imran': 1, 'Khan': 1, 'Verishop': 1, 'adds': 1, 'Verified': 2, 'brands': 1, 'shop': 1, 'mall': 1, 'eliminating': 1, 'Autocomplete': 1, 'suggestions': 1, 'candidates': 1, 'or': 2, 'Recorded': 1, 'music': 1, 'revenue': 1, 'streaming': 1, 'growth': 1, 'physical': 1, 'plummet': 1, 'Ola': 1, 'facing': 1, 'drivers': 1, 'legal': 1, 'challenge': 1, 'rights': 1, 'algorithmic': 1, 'management': 1, 'address': 3, 'worries': 1, 'peaceful': 1, 'transfer': 1, 'Test': 1, 'd': 4, 'Arcade': 1, 'tvOS': 1, 'date': 1, 'de': 4, 'sortie': 1, 'version': 1, 'bêta': 1, 'et': 2, 'nouvelles': 1, 'fonctionnalités': 1, 'la': 3, 'prochaine': 1, 'mise': 1, 'à': 2, 'jour': 1, 'TV': 2, 'PlayStation': 1, 'Store': 1, 'économisez': 1, 'jusqu': 1, '70': 1, 'sur': 1, 'des': 2, 'centaines': 1, 'jeux': 1, 'PS4': 1, 'prépare': 1, 'rentrée': 1, 'classes': 1, 'offre': 1, 'une': 1, 'paire': 1, 'AirPods': 1, 'gratuits': 1, 'aux': 1, 'étudiants': 1, 'Le': 1, 'Canon': 1, 'EOS': 1, 'R6': 1, 'est': 1, 'le': 1, 'nouveau': 1, 'concurrent': 1, 'puissant': 1, 'du': 1, 'Nikon': 1, 'Z6': 1, 'Les': 1, 'meilleures': 1, 'imprimantes': 1, 'multifonctions': 1, 'pour': 1, 'maison': 1, 'Icons': 1, 'Rubio': 1, 'Rise': 2, 'Neoreactionaries': 1, 'Cold': 1, 'War': 1, 'Triumphalism': 1, 'Kennan': 1, 'Warning': 1, 'Modernity': 1, 'Robinson': 1, 'Crusoe': 1, 'Art': 1, 'Pioneer': 1, 'Resurrecting': 1, 'James': 1, 'Dean': 1, 'Forgotten': 1, 'Treasure': 1, 'Lands': 1, 'Sexist': 1, 'Desperate': 1, 'Democrats': 4, 'Bully': 1, 'Poetry': 1, 'Populism': 1, 'Woke': 1, 'Preparing': 1, 'Us': 1, 'TAC': 1, 'Regime': 1, 'Foreign': 1, 'Ends': 1, 'live': 6, 'holds': 1, 'rally': 1, 'seeks': 1, 'shift': 1, 'scrutiny': 1, 'TheHill': 9, 'undocumented': 2, 'Pompeo': 1, 'traveling': 1, 'senators': 1, 'deal': 2, 'until': 1, 'calls': 2, 'disgrace': 1, 'Explosive': 2, 'Western': 2, 'blazes': 1, 'portend': 1, 'ahead': 1, 'Intel': 1, 'panel': 1, 'rebuffs': 1, 'request': 1, 'share': 1, 'info': 1, 'Obama': 1, 'era': 2, 'probes': 1, 'block': 1, 'Fueled': 1, 'Fires': 1, 'Changing': 1, 'Californians': 1, 'Excluding': 1, 'Undocumented': 1, 'Congressional': 1, 'Seat': 1, 'Count': 1, 'Says': 2, 'Avoid': 1, 'Panic': 2, 'Incites': 1, 'Witness': 2, 'Kenosha': 1, 'Protest': 3, 'Shootings': 1, 'Describes': 1, 'Chaotic': 1, 'Heartbreaking': 1, 'Wildly': 1, 'Accuses': 1, 'Anti': 1, 'Vaxxer': 1, 'Knew': 1, 'Was': 1, 'Airborne': 1, 'Held': 1, 'Crowded': 1, 'Rallies': 1, 'Anyway': 1, 'Mike': 1, 'Pence': 1, 'Insists': 1, 'Didn': 3, 'Downplay': 1, 'Contradicting': 1, 'Words': 1, 'DHS': 1, 'Whistleblower': 1, 'Complaint': 1, 'Allegations': 1, 'Misconduct': 1, 'Quite': 1, 'Theory': 1, 'Remarks': 1, 'Sooner': 1, 'Outbreak': 2, 'Leaders': 1, 'Urge': 1, 'Blasio': 1, 'City': 2, 'Decline': 1, '9': 2, '11': 4, 'Conspiracy': 1, 'Theorists': 1, 'Star': 1, 'Island': 1, 'Reliving': 1, 'Glory': 1, 'Days': 1, 'Thanks': 1, 'Buyers': 1, 'Like': 2, 'Ken': 1, 'Griffin': 1, 'Jennifer': 1, 'Lopez': 1, 'Wreak': 1, 'Havoc': 1, 'Amid': 1, 'High': 1, 'Winds': 1, 'Temperatures': 1, 'Hackers': 2, 'Targeted': 1, 'Groups': 1, 'Tied': 1, 'Presidential': 1, 'Looks': 1, 'Lot': 1, 'Brass': 1, 'Trading': 1, 'Floor': 1, 'Staff': 1, 'Come': 1, 'Office': 1, 'Citigroup': 1, 'Michael': 1, 'Corbat': 1, 'Retire': 1, 'Named': 1, 'Successor': 1, 'Skinny': 1, 'Blocked': 1, 'Several': 1, 'Vaccines': 1, 'Join': 1, 'Winner': 1, 'Circle': 1, 'read': 1, 'Motherboard': 1, 'some': 1, 'Mystery': 1, 'Seeds': 1, 'eyes': 1, 'social': 1, 'media': 1, 'bias': 1, 'hawk': 1, 'FCC': 1, 'commissioner': 1, 'biggest': 1, 'announcements': 1, 'Chromebooks': 1, 'buy': 1, 'today': 1, 'launch': 1, 'apps': 1, 'percent': 1, 'faster': 1, 'unveil': 1, 'agenda': 1, 'economic': 1, 'recovery': 1, 'climate': 1, 'action': 1, 'Welcome': 1, 'generation': 1, 'Spam': 1, 'how': 1, 'robots': 1, 'calling': 1, 'double': 1, 'troubles': 1, 'Your': 5, 'move': 1, 'PS5': 1, 'moves': 1, 'suggest': 1, 'Sony': 1, 'might': 1, 'Bose': 1, 'announces': 1, 'sunglasses': 1, 'speakers': 1, 'built': 1, 'gods': 1, 'sands': 1, 'beginner': 1, 'guide': 1, 'AI': 3, 'Separating': 1, 'hype': 1, 'Ninja': 1, 'Twitch': 1, 'permanent': 1, 'surprising': 1, 'take': 1, 'human': 1, 'pilots': 1, 'real': 1, 'aircraft': 1, 'trials': 1, 'crashed': 1, 'bounced': 1, 'harder': 1, 'any': 1, 'other': 1, 'giving': 1, 'co': 1, 'workers': 1, 'vapid': 1, 'compliments': 1, 'Mockuuups': 1, 'Studio': 1, 'easier': 1, 'create': 1, 'marketing': 1, 'assets': 1, 'just': 1, '40': 1, 'Dutch': 1, 'plug': 1, 'market': 1, 'surging': 1, '75': 1, 'YoY': 1, 'admits': 1, 'banning': 1, 'LGBTQ': 1, 'hashtags': 1, 'Finding': 1, 'Hope': 1, 'TIME': 1, 'Community': 1, 'Navigating': 1, 'Our': 1, 'Reality': 1, 'Regressing': 1, 'Teenage': 1, 'Self': 1, 'During': 1, 'Renters': 1, 'Forced': 1, 'Homes': 1, 'Despite': 2, 'Eviction': 1, 'Moratoriums': 1, 'Meant': 1, 'Protect': 1, 'Them': 2, 'Signature': 1, 'Appear': 2, 'Checks': 1, 'Doctor': 1, 'Describe': 1, 'Medical': 1, 'Professionals': 1, 'Otherwise': 1, 'Alone': 1, 'Foster': 1, 'Pets': 1, 'Offer': 1, 'Much': 1, 'Needed': 1, 'Companionship': 1, 'Isolation': 1, 'Ditching': 1, 'Chat': 1, 'Alternatives': 1, 'Use': 1, 'Instead': 1, 'Lawmaker': 1, 'Tested': 1, 'Positive': 1, 'Bother': 1, 'His': 1, 'Democratic': 2, 'Colleagues': 1, 'Congressman': 1, 'Officiated': 1, 'Gay': 1, 'Wedding': 1, 'Him': 1, 'End': 1, 'Hong': 1, 'Kong': 1, 'Law': 1, 'Approved': 1, 'Movement': 1, 'Worst': 1, 'Nightmare': 2, 'Right': 1, 'Network': 1, 'Gab': 1, 'Waiting': 1, '27': 1, 'Followers': 1, 'Minneapolis': 1, 'Burning': 1, 'Protesters': 1, 'Loot': 1, 'Set': 1, 'Buildings': 1, 'Killing': 1, 'Undermine': 1, 'Resisted': 1, 'Officers': 1, 'Took': 1, 'Huge': 1, 'Milestone': 1, 'First': 1, 'Generation': 1, 'Graduates': 1, 'Crying': 1, 'FDA': 1, 'Won': 2, 'Women': 1, 'Pills': 1, 'Remotely': 1, 'ACLU': 1, 'Suing': 1, 'Tara': 1, 'Reade': 1, 'Investigated': 1, 'Allegedly': 1, 'Lying': 1, 'Cops': 1, 'Involved': 1, 'Fatal': 1, 'Arrest': 1, 'Had': 1, 'Previous': 1, 'Violent': 1, 'Incidents': 1, 'Force': 1, 'immigrants': 2, 'spills': 1, 'strengthens': 1, 'reelection': 1, 'NYC': 1, 'Department': 1, 'award': 1, 'racist': 1, 'gets': 1, 'renamed': 1, 'honor': 1, 'hero': 1, 'burned': 1, 'millions': 1, 'acres': 1, 'looks': 1, 'Outrageous': 1, 'Kamala': 1, 'nominee': 1, 'vice': 1, 'tells': 1, 'leaders': 1, 'Florida': 1, 'must': 1, 'removed': 1, 'allies': 1, 'opponents': 1, 'speak': 1, 'watch': 1, 'Boys': 1, 'await': 1, 'health': 1, 'worry': 6, 'ready': 1, 'kit': 1, 'upcoming': 1, 'Hurricane': 1, 'Tracker': 1, 'Those': 1, 'Science': 1, 'Light': 1, 'Fancy': 1, 'Hitting': 1, 'Targets': 1, 'Again': 2, 'Esports': 1, 'Pros': 1, 'Dream': 1, 'Jobs': 1, 'Publishers': 1, 'Buggy': 1, 'Mess': 1, 'Promising': 1, 'Start': 1, 'Kids': 1, 'Smartwatches': 1, 'Years': 1, 'Warnings': 1, 'Ad': 1, 'Mergers': 1, 'Save': 1, 'Journalism': 1, 'Strict': 1, 'Merger': 1, 'Rules': 1, 'Would': 1, 'BlackBerry': 1, 'Planning': 1, 'Comeback': 1, 'Never': 1, 'Left': 1, 'Square': 1, 'Feet': 1, 'School': 1, 'Reopening': 1, 'Detective': 1, 'Paying': 1, 'Happy': 1, 'Ruined': 1, 'Chess': 1, 'Making': 1, 'Beautiful': 1, 'supporters': 2, 'seizes': 5, 'revelations': 5, 'heading': 3, 'rushed': 5, 'political': 5, 'pressure': 5, 'poll': 5, 'drive': 1, 'chiefs': 1, 'job': 1, 'converge': 1, 'Shanksville': 1, 'Illegal': 1, 'exclusion': 1, 'illegal': 1, 'federal': 2, 'Manhattan': 1, 'rejuvenation': 1, 'serves': 1, 'testament': 1, 'rebuilt': 1, 'made': 1, 'better': 1, 'related': 1, 'cyberattacks': 1, 'agencies': 1, 'SWAT': 1, 'teams': 1, 'Audit': 1, 'tsunami': 1, 'registered': 1, 'Pennsylvania': 1, 'think': 1, 'Thomas': 1, 'Payne': 1, 'Army': 1, 'Ranger': 1, 'awarded': 1, 'Medal': 1, 'hostage': 1, 'rescue': 1, 'Entirely': 1, 'Empty': 1, 'Bowels': 1, 'Morning': 1, 'Surgeon': 2, 'Explains': 1, 'Heart': 1, 'Throw': 1, 'Out': 1, 'Olive': 1}\n"
          ],
          "name": "stdout"
        }
      ]
    },
    {
      "cell_type": "markdown",
      "metadata": {
        "id": "Xw7mz0zDh_n-",
        "colab_type": "text"
      },
      "source": [
        "##parsed data into DataFrame\n",
        "\n"
      ]
    },
    {
      "cell_type": "code",
      "metadata": {
        "id": "5my8qpkZiLND",
        "colab_type": "code",
        "colab": {}
      },
      "source": [
        "keyword = list(parseVocab.keys())\n",
        "occurancy = list(parseVocab.values())"
      ],
      "execution_count": 20,
      "outputs": []
    },
    {
      "cell_type": "code",
      "metadata": {
        "id": "LQDha_joiPzV",
        "colab_type": "code",
        "colab": {}
      },
      "source": [
        "dict_for_words = {\n",
        "    'keywords': keyword,\n",
        "    'occurancy': occurancy\n",
        "}"
      ],
      "execution_count": 21,
      "outputs": []
    },
    {
      "cell_type": "code",
      "metadata": {
        "id": "bYSLgLQniSlH",
        "colab_type": "code",
        "colab": {
          "base_uri": "https://localhost:8080/",
          "height": 450
        },
        "outputId": "2ade4578-b46a-4e77-b459-fd37b0899721"
      },
      "source": [
        "topWords = pd.DataFrame(dict_for_words)\n",
        "topWords.set_index('keywords', inplace = True)\n",
        "topWords.sort_values(by = 'occurancy',ascending= False)"
      ],
      "execution_count": 22,
      "outputs": [
        {
          "output_type": "execute_result",
          "data": {
            "text/html": [
              "<div>\n",
              "<style scoped>\n",
              "    .dataframe tbody tr th:only-of-type {\n",
              "        vertical-align: middle;\n",
              "    }\n",
              "\n",
              "    .dataframe tbody tr th {\n",
              "        vertical-align: top;\n",
              "    }\n",
              "\n",
              "    .dataframe thead th {\n",
              "        text-align: right;\n",
              "    }\n",
              "</style>\n",
              "<table border=\"1\" class=\"dataframe\">\n",
              "  <thead>\n",
              "    <tr style=\"text-align: right;\">\n",
              "      <th></th>\n",
              "      <th>occurancy</th>\n",
              "    </tr>\n",
              "    <tr>\n",
              "      <th>keywords</th>\n",
              "      <th></th>\n",
              "    </tr>\n",
              "  </thead>\n",
              "  <tbody>\n",
              "    <tr>\n",
              "      <th>to</th>\n",
              "      <td>126</td>\n",
              "    </tr>\n",
              "    <tr>\n",
              "      <th>s</th>\n",
              "      <td>102</td>\n",
              "    </tr>\n",
              "    <tr>\n",
              "      <th>the</th>\n",
              "      <td>97</td>\n",
              "    </tr>\n",
              "    <tr>\n",
              "      <th>in</th>\n",
              "      <td>78</td>\n",
              "    </tr>\n",
              "    <tr>\n",
              "      <th>of</th>\n",
              "      <td>74</td>\n",
              "    </tr>\n",
              "    <tr>\n",
              "      <th>...</th>\n",
              "      <td>...</td>\n",
              "    </tr>\n",
              "    <tr>\n",
              "      <th>Mahela</th>\n",
              "      <td>1</td>\n",
              "    </tr>\n",
              "    <tr>\n",
              "      <th>Warnie</th>\n",
              "      <td>1</td>\n",
              "    </tr>\n",
              "    <tr>\n",
              "      <th>KP</th>\n",
              "      <td>1</td>\n",
              "    </tr>\n",
              "    <tr>\n",
              "      <th>starring</th>\n",
              "      <td>1</td>\n",
              "    </tr>\n",
              "    <tr>\n",
              "      <th>Olive</th>\n",
              "      <td>1</td>\n",
              "    </tr>\n",
              "  </tbody>\n",
              "</table>\n",
              "<p>2691 rows × 1 columns</p>\n",
              "</div>"
            ],
            "text/plain": [
              "          occurancy\n",
              "keywords           \n",
              "to              126\n",
              "s               102\n",
              "the              97\n",
              "in               78\n",
              "of               74\n",
              "...             ...\n",
              "Mahela            1\n",
              "Warnie            1\n",
              "KP                1\n",
              "starring          1\n",
              "Olive             1\n",
              "\n",
              "[2691 rows x 1 columns]"
            ]
          },
          "metadata": {
            "tags": []
          },
          "execution_count": 22
        }
      ]
    },
    {
      "cell_type": "markdown",
      "metadata": {
        "id": "Qpqjb-HJiWBT",
        "colab_type": "text"
      },
      "source": [
        "##Eliminates unnecessary data"
      ]
    },
    {
      "cell_type": "code",
      "metadata": {
        "id": "diV0GkSsiZLs",
        "colab_type": "code",
        "colab": {}
      },
      "source": [
        "eliminated = [\"to\", \"s\", \"the\", \"in\"]\n",
        "for elimination in eliminated:\n",
        "  topWords.drop(index = elimination)"
      ],
      "execution_count": 23,
      "outputs": []
    },
    {
      "cell_type": "code",
      "metadata": {
        "id": "-VPo_QD0ictn",
        "colab_type": "code",
        "colab": {
          "base_uri": "https://localhost:8080/",
          "height": 295
        },
        "outputId": "f4cb1fbf-4e5f-4c3a-fea2-d10938ea163f"
      },
      "source": [
        "\n",
        "import matplotlib.pyplot as plt\n",
        "top10Words = sorted(parseVocab, key = lambda x: parseVocab[x], reverse = True)[:10]\n",
        "top10Occur = [parseVocab[x] for x in top10Words]\n",
        "plt.bar(top10Words, top10Occur)\n",
        "plt.title('Top 10 Trends in News')\n",
        "plt.ylabel('# of Occurances in Headlines')\n",
        "plt.xlabel('Trends')\n",
        "plt.show()"
      ],
      "execution_count": 24,
      "outputs": [
        {
          "output_type": "display_data",
          "data": {
            "image/png": "[encoded data removed]",
            "text/plain": [
              "<Figure size 432x288 with 1 Axes>"
            ]
          },
          "metadata": {
            "tags": [],
            "needs_background": "light"
          }
        }
      ]
    }
  ]
}